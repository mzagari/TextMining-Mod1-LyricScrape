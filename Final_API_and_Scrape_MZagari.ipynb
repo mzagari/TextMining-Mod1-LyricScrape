{
 "cells": [
  {
   "cell_type": "markdown",
   "id": "95952cac",
   "metadata": {
    "id": "95952cac"
   },
   "source": [
    "# ADS 509 Module 1: APIs and Web Scraping\n",
    "\n",
    "This notebook has three parts. In the first part you will pull data from the Twitter API. In the second, you will scrape lyrics from AZLyrics.com. In the last part, you'll run code that verifies the completeness of your data pull. \n",
    "\n",
    "For this assignment you have chosen two musical artists who have at least 100,000 Twitter followers and 20 songs with lyrics on AZLyrics.com. In this part of the assignment we pull the some of the user information for the followers of your artist and store them in text files. \n"
   ]
  },
  {
   "cell_type": "markdown",
   "id": "4ce62b2b",
   "metadata": {
    "id": "4ce62b2b"
   },
   "source": [
    "## Important Note\n",
    "\n",
    "This assignment requires you to have a version of Tweepy that is at least version 4. The latest version is 4.10 as I write this. Critically, this version of Tweepy is *not* on the upgrade path from Version 3, so you will not be able to simply upgrade the package if you are on Version 3. Instead you will need to explicitly install version 4, which you can do with a command like this: `pip install \"tweepy>=4\"`. You will also be using Version 2 of the Twitter API for this assignment. \n",
    "\n",
    "Run the below cell. If your version of Tweepy begins with a \"4\", then you should be good to go. If it begins with a \"3\" then run the following command, found [here](https://stackoverflow.com/questions/5226311/installing-specific-package-version-with-pip), at the command line or in a cell: `pip install -Iv tweepy==4.9`. (You may want to update that version number if Tweepy has moved on past 4.9. "
   ]
  },
  {
   "cell_type": "code",
   "execution_count": 1,
   "id": "23cf2158",
   "metadata": {
    "colab": {
     "base_uri": "https://localhost:8080/"
    },
    "id": "23cf2158",
    "outputId": "1b898b81-bcd5-407a-97ac-acf2329010c1"
   },
   "outputs": [
    {
     "name": "stdout",
     "output_type": "stream",
     "text": [
      "Name: tweepy\n",
      "Version: 4.10.1\n",
      "Summary: Twitter library for Python\n",
      "Home-page: https://www.tweepy.org/\n",
      "Author: Joshua Roesslein\n",
      "Author-email: tweepy@googlegroups.com\n",
      "License: MIT\n",
      "Location: c:\\users\\drzag\\anaconda3\\lib\\site-packages\n",
      "Requires: requests, oauthlib, requests-oauthlib\n",
      "Required-by: \n",
      "Note: you may need to restart the kernel to use updated packages.\n"
     ]
    }
   ],
   "source": [
    "pip show tweepy"
   ]
  },
  {
   "cell_type": "markdown",
   "id": "069b7ae8",
   "metadata": {
    "id": "069b7ae8"
   },
   "source": [
    "## General Assignment Instructions\n",
    "\n",
    "These instructions are included in every assignment, to remind you of the coding standards for the class. Feel free to delete this cell after reading it. \n",
    "\n",
    "One sign of mature code is conforming to a style guide. We recommend the [Google Python Style Guide](https://google.github.io/styleguide/pyguide.html). If you use a different style guide, please include a cell with a link. \n",
    "\n",
    "Your code should be relatively easy-to-read, sensibly commented, and clean. Writing code is a messy process, so please be sure to edit your final submission. Remove any cells that are not needed or parts of cells that contain unnecessary code. Remove inessential `import` statements and make sure that all such statements are moved into the designated cell. \n",
    "\n",
    "Make use of non-code cells for written commentary. These cells should be grammatical and clearly written. In some of these cells you will have questions to answer. The questions will be marked by a \"Q:\" and will have a corresponding \"A:\" spot for you. *Make sure to answer every question marked with a `Q:` for full credit.* \n"
   ]
  },
  {
   "cell_type": "markdown",
   "id": "91c8969e",
   "metadata": {
    "id": "91c8969e"
   },
   "source": [
    "# Twitter API Pull"
   ]
  },
  {
   "cell_type": "code",
   "execution_count": 143,
   "id": "185076b0",
   "metadata": {
    "id": "185076b0"
   },
   "outputs": [],
   "source": [
    "# for the twitter section\n",
    "import tweepy\n",
    "import os\n",
    "import datetime\n",
    "import re\n",
    "from pprint import pprint\n",
    "\n",
    "# for the lyrics scrape section\n",
    "import requests\n",
    "import time\n",
    "from bs4 import BeautifulSoup\n",
    "from collections import defaultdict, Counter\n"
   ]
  },
  {
   "cell_type": "code",
   "execution_count": 27,
   "id": "5evIlNWDLgAY",
   "metadata": {
    "colab": {
     "base_uri": "https://localhost:8080/"
    },
    "id": "5evIlNWDLgAY",
    "outputId": "c49b4b6a-a721-4d96-9282-d128ffe761bb"
   },
   "outputs": [],
   "source": [
    "#from google.colab import drive\n",
    "#drive.mount('/content/drive')"
   ]
  },
  {
   "cell_type": "code",
   "execution_count": 144,
   "id": "a47e2d5f",
   "metadata": {
    "id": "a47e2d5f"
   },
   "outputs": [],
   "source": [
    "import pandas as pd\n",
    "import numpy as np\n",
    "import random"
   ]
  },
  {
   "cell_type": "markdown",
   "id": "c21c86ec",
   "metadata": {
    "id": "c21c86ec"
   },
   "source": [
    "We need bring in our API keys. Since API keys should be kept secret, we'll keep them in a file called `api_keys.py`. This file should be stored in the directory where you store this notebook. The example file is provided for you on Blackboard. The example has API keys that are _not_ functional, so you'll need to get Twitter credentials and replace the placeholder keys. "
   ]
  },
  {
   "cell_type": "markdown",
   "id": "aL-O-FnYUsNw",
   "metadata": {
    "id": "aL-O-FnYUsNw"
   },
   "source": [
    "CODE CHANGE FOR COLAB: The next code cell needed the path defined before the notebook could recognize the apikeys.py file as a module"
   ]
  },
  {
   "cell_type": "code",
   "execution_count": 31,
   "id": "f01bdec6",
   "metadata": {
    "id": "f01bdec6"
   },
   "outputs": [],
   "source": [
    "import sys\n",
    "#The next line adds a path for apikeys.py in Colab\n",
    "#sys.path.insert(0,os.path.abspath('/content/drive/MyDrive/Colab Notebooks'))\n",
    "\n",
    "import apikeys\n",
    "from apikeys import api_key,api_key_secret,bearer_token"
   ]
  },
  {
   "cell_type": "markdown",
   "id": "bf0dd8e5",
   "metadata": {},
   "source": [
    "###Had to hardcode the bearer token to get this to work in Python"
   ]
  },
  {
   "cell_type": "code",
   "execution_count": 4,
   "id": "d08eb1fd",
   "metadata": {
    "id": "d08eb1fd"
   },
   "outputs": [
    {
     "data": {
      "text/plain": [
       "<tweepy.client.Client at 0x1f3fa947550>"
      ]
     },
     "execution_count": 4,
     "metadata": {},
     "output_type": "execute_result"
    }
   ],
   "source": [
    "#client = tweepy.Client(bearer_token,wait_on_rate_limit=True)\n",
    "client = tweepy.Client('AAAAAAAAAAAAAAAAAAAAADGDgwEAAAAAt1VEWj5vUNphL%2BQoRizQXZjfiyY%3DxfAh1oJYepPoNZN5gX7uRR2AxwbwTLGr5SMM420TX1VpQX5yPP',wait_on_rate_limit=True)\n",
    "client"
   ]
  },
  {
   "cell_type": "markdown",
   "id": "6aa67032",
   "metadata": {
    "id": "6aa67032"
   },
   "source": [
    "# Testing the API\n",
    "\n",
    "The Twitter APIs are quite rich. Let's play around with some of the features before we dive into this section of the assignment. For our testing, it's convenient to have a small data set to play with. We will seed the code with the handle of John Chandler, one of the instructors in this course. His handle is `@37chandler`. Feel free to use a different handle if you would like to look at someone else's data. \n",
    "\n",
    "We will write code to explore a few aspects of the API: \n",
    "\n",
    "1. Pull some of the followers @37chandler.\n",
    "1. Explore response data, which gives us information about Twitter users. \n",
    "1. Pull the last few tweets by @37chandler.\n"
   ]
  },
  {
   "cell_type": "code",
   "execution_count": 33,
   "id": "76cf6447",
   "metadata": {
    "colab": {
     "base_uri": "https://localhost:8080/",
     "height": 87
    },
    "id": "76cf6447",
    "outputId": "b5b135e2-6b16-4cc1-d26f-493a9e9dce67"
   },
   "outputs": [
    {
     "name": "stdout",
     "output_type": "stream",
     "text": [
      "Response(data=<User id=33029025 name=John Chandler username=37chandler>, includes={}, errors=[], meta={})\n",
      "33029025\n",
      "John Chandler\n",
      "37chandler\n",
      "{'followers_count': 193, 'following_count': 589, 'tweet_count': 995, 'listed_count': 3}\n"
     ]
    },
    {
     "data": {
      "text/plain": [
       "[<User id=1553891535040630785 name=Dave Renn username=CocoDibonet>,\n",
       " <User id=618734476 name=Lionel username=LSW1138>,\n",
       " <User id=401835058 name=Megan Randall username=sugarfriss>,\n",
       " <User id=634650371 name=Jacob Salzman username=bakedjakebakes>,\n",
       " <User id=1227344433622003712 name=twiter not fun username=AmreinCurtis>,\n",
       " <User id=2989225576 name=Hariettwilsonincarnate username=angel28117026>,\n",
       " <User id=1478401670274957312 name=Christian Tinsley username=ChristianTinsl8>,\n",
       " <User id=257285645 name=Steve username=HicSvntDraconez>,\n",
       " <User id=1469785454576820225 name=John O'Connor 🇺🇦 username=JohnOCo70713197>,\n",
       " <User id=1181131341687066624 name=CodeGrade username=CodeGradeCom>,\n",
       " <User id=257686741 name=Cleverhood username=cleverhoods>,\n",
       " <User id=80746014 name=Regina 🚶‍♀️🚲🌳 username=mplsFietser>,\n",
       " <User id=174368082 name=Eric Hallstrom username=echallstrom>,\n",
       " <User id=824723466196770817 name=Tyler 📊 🐕 🚲 username=byler_t117>,\n",
       " <User id=975810358777544705 name=The Center for Community Ownership (CCO) username=Community_Owner>,\n",
       " <User id=1491391890767302656 name=Deepak Chauhan username=DeepakC64237257>,\n",
       " <User id=829524834195378177 name=Patsy username=patsy16sb>,\n",
       " <User id=439636305 name=andrew username=andrewc186>,\n",
       " <User id=1040236831588020229 name=Ada Smith username=_ada_smith>,\n",
       " <User id=8813602 name=Stacey Burns username=WentRogue>,\n",
       " <User id=1401239076389343234 name=Minneapolis Bike Trails username=MplsBikeTrails>,\n",
       " <User id=123152614 name=Kiki Hubbard username=KristinaHubbard>,\n",
       " <User id=1146088313331187712 name=Erica Zurek username=erica_zurek>,\n",
       " <User id=1451341024606003200 name=evelindylan username=evelindylan1>,\n",
       " <User id=111964751 name=Beth Fraser (she/her) username=yofraze>,\n",
       " <User id=1852064234 name=Jenni Graff username=JenniJenniG>,\n",
       " <User id=1371120382896345089 name=Risa Hustad username=RisaForParks>,\n",
       " <User id=148276541 name=Laurie Ashley username=l7ashley>,\n",
       " <User id=24535702 name=dodgemc username=dodgemc>,\n",
       " <User id=307522861 name=Joe Cesario username=oldschoolCUT>,\n",
       " <User id=498091534 name=Tom Molteni username=TMolteni>,\n",
       " <User id=51934885 name=Meredith Westin 🌻 username=MeredithWestin>,\n",
       " <User id=1397588373737463813 name=Metageni username=metageniglobal>,\n",
       " <User id=56287759 name=Randy Hulett username=scoover>,\n",
       " <User id=2470084766 name=Quonk Q. Quonk username=QuonkQuonk>,\n",
       " <User id=13315582 name=Rick Bruner 📈 username=rickbruner>,\n",
       " <User id=1976506176 name=Peter Schmitt username=peterschmitt34>,\n",
       " <User id=2852162898 name=naveen kumar username=stalinnaveen>,\n",
       " <User id=14876083 name=Andrew Hauer username=afhauer>,\n",
       " <User id=3100914344 name=Jason Wiener username=mediantweets>,\n",
       " <User id=205544806 name=Greg Tenold username=gregtenold>,\n",
       " <User id=351882125 name=Missy Davey username=MadameDavey>,\n",
       " <User id=43357073 name=mshartz username=freyjahartz>,\n",
       " <User id=951319269039595520 name=john louis middaugh username=johnlouisM>,\n",
       " <User id=1273618464985538560 name=Fenris Winston username=FenrisWinston>,\n",
       " <User id=105364145 name=Jose A. Hernandez (he/him) username=CogentAg>,\n",
       " <User id=1048472533 name=Worse Reviewer username=Worse_Reviewer>,\n",
       " <User id=3861578293 name=Dr. Sara Rinfret username=puadmsara>,\n",
       " <User id=452336794 name=David Kuettner username=davebts77>,\n",
       " <User id=2869054074 name=Nick Stuart username=ntstuart25>,\n",
       " <User id=2750579225 name=Brian Edgerton username=bk_edge>,\n",
       " <User id=43154683 name=Mediastruction username=Mediastruction>,\n",
       " <User id=2167201254 name=Amit Grinson username=Amit_Levinson>,\n",
       " <User id=598873034 name=Amelia H-D username=HDAmeliaP>,\n",
       " <User id=401453947 name=plo username=louisesaycheese>,\n",
       " <User id=16439077 name=Dr. Alex Metcalf username=Metcalf_Lab>,\n",
       " <User id=2983095891 name=Hannah Leonard username=hannahleomt>,\n",
       " <User id=944566464673189888 name=Mary Vranicar username=MaryVranicar>,\n",
       " <User id=1161478387900153857 name=Marty Grant username=data_marty>,\n",
       " <User id=1139182867941068800 name=AB Nechar username=AbNechar>,\n",
       " <User id=334817877 name=chuck username=chuck_aw>,\n",
       " <User id=213707476 name=Jeff Kamin username=BooksandBars>,\n",
       " <User id=2670242004 name=Wedge LIVE!™ username=WedgeLIVE>,\n",
       " <User id=3318814588 name=Ben Lindsay username=ben_j_lindsay>,\n",
       " <User id=75402043 name=Ovative Group username=ovative>,\n",
       " <User id=281040042 name=fkinglag says buy Gridcoin username=fkinglag>,\n",
       " <User id=1089525624207826944 name=Dan Marshall username=DanMarStP>,\n",
       " <User id=95366439 name=Chris Meyer 🏳️‍🌈🌲🥑🚲🚊 username=chrisjohnmeyer>,\n",
       " <User id=40186445 name=Tim username=refundpolicy>,\n",
       " <User id=608545931 name=Ross Dahlke 🔑 username=Ross_Dahlke>,\n",
       " <User id=22987715 name=Adam username=ahgoff>,\n",
       " <User id=1086509398183145472 name=joranelias username=joranelias>,\n",
       " <User id=15404565 name=biwah 🇺🇲🇺🇦 username=biwah>,\n",
       " <User id=778274537091719169 name=Carol Bruneau username=BruneauMT>,\n",
       " <User id=2864781964 name=UM College of Business username=UMontanaBiz>,\n",
       " <User id=2477025962 name=Earl Grey username=theRealist_EG>,\n",
       " <User id=126655595 name=Mitrebox Framing username=mitreboxmpls>,\n",
       " <User id=322841280 name=⊚ Ultimate Central username=UltimateCentral>,\n",
       " <User id=20122010 name=Frnch Bgrnch username=frenchel>,\n",
       " <User id=16098327 name=Ben Banyas username=benbanyas>,\n",
       " <User id=78359167 name=Rachel Rabaey username=Rachel_Rabaey>,\n",
       " <User id=955581955021586437 name=A New Angle username=ANewAnglePod>,\n",
       " <User id=226416781 name=Anne Havard username=almostharvard>,\n",
       " <User id=22863780 name=mayadusenbery username=mayadusenbery>,\n",
       " <User id=125887853 name=Suzie Danner username=Muzie76>,\n",
       " <User id=345691673 name=Nathan Anderson username=hellonanders>,\n",
       " <User id=393836528 name=Jayson R. Barker username=JaysonBarker89>,\n",
       " <User id=245612647 name=Garrett Tenold username=gtenold>,\n",
       " <User id=959449935350566918 name=John Foster username=The_John_Foster>,\n",
       " <User id=3177083150 name=Sam Kanner username=samkanner>,\n",
       " <User id=2225475324 name=Josh Wilhelm username=WilhelmSixTwo>,\n",
       " <User id=953711911018926080 name=BadFoodBlogger username=bad_foodblogger>,\n",
       " <User id=2852010976 name=Janus Ultimate username=JanusUltimate>,\n",
       " <User id=895426435 name=Matthew Frank username=mfrank406>,\n",
       " <User id=925582899381903361 name=Anna Marbut username=anna_marbut>,\n",
       " <User id=1701234980 name=Omid Kh username=okhormali>,\n",
       " <User id=18506734 name=Christine username=cgrammier>,\n",
       " <User id=710109856032813056 name=Paige Anderson Bowen, MPH username=paigeabowen>,\n",
       " <User id=176955875 name=statskier username=StatSkier>,\n",
       " <User id=778883965054705665 name=腹ぺこボイ username=mrtgrnt37>]"
      ]
     },
     "execution_count": 33,
     "metadata": {},
     "output_type": "execute_result"
    }
   ],
   "source": [
    "handle = \"37chandler\"\n",
    "user_obj = client.get_user(username=handle, user_fields=[\"public_metrics\"])\n",
    "\n",
    "followers = client.get_users_followers(\n",
    "    # Learn about user fields here: \n",
    "    # https://developer.twitter.com/en/docs/twitter-api/data-dictionary/object-model/user\n",
    "    user_obj.data.id, user_fields=[\"created_at\",\"description\",\"location\",\n",
    "                                   \"public_metrics\"]\n",
    ")\n",
    "\n",
    "#To be cleaned up\n",
    "print(user_obj)\n",
    "print(user_obj.data.id)\n",
    "print(user_obj.data.name)\n",
    "print(user_obj.data.username)\n",
    "print(user_obj.data.public_metrics)\n",
    "followers.data\n"
   ]
  },
  {
   "cell_type": "markdown",
   "id": "de7892a4",
   "metadata": {
    "id": "de7892a4"
   },
   "source": [
    "Now let's explore these a bit. We'll start by printing out names, locations, following count, and followers count for these users. "
   ]
  },
  {
   "cell_type": "code",
   "execution_count": 34,
   "id": "c48d6bc9",
   "metadata": {
    "colab": {
     "base_uri": "https://localhost:8080/",
     "height": 70
    },
    "id": "c48d6bc9",
    "outputId": "83142593-2bec-4c20-a8c1-ee22fbe4b0af"
   },
   "outputs": [
    {
     "name": "stdout",
     "output_type": "stream",
     "text": [
      "Dave Renn lists 'None' as their location.\n",
      " Following: 42, Followers: 10.\n",
      "\n",
      "Lionel lists 'None' as their location.\n",
      " Following: 202, Followers: 204.\n",
      "\n",
      "Megan Randall lists 'None' as their location.\n",
      " Following: 141, Followers: 100.\n",
      "\n",
      "Jacob Salzman lists 'None' as their location.\n",
      " Following: 562, Followers: 134.\n",
      "\n",
      "twiter not fun lists 'None' as their location.\n",
      " Following: 222, Followers: 21.\n",
      "\n",
      "Hariettwilsonincarnate lists 'None' as their location.\n",
      " Following: 218, Followers: 60.\n",
      "\n",
      "Christian Tinsley lists 'None' as their location.\n",
      " Following: 2, Followers: 0.\n",
      "\n",
      "Steve lists 'I'm over here.' as their location.\n",
      " Following: 1590, Followers: 33.\n",
      "\n",
      "John O'Connor 🇺🇦 lists 'None' as their location.\n",
      " Following: 8, Followers: 1.\n",
      "\n",
      "CodeGrade lists 'Amsterdam' as their location.\n",
      " Following: 2820, Followers: 421.\n",
      "\n",
      "Cleverhood lists 'Providence, RI' as their location.\n",
      " Following: 2792, Followers: 3558.\n",
      "\n",
      "Regina 🚶‍♀️🚲🌳 lists 'Minneapolis' as their location.\n",
      " Following: 2796, Followers: 3322.\n",
      "\n",
      "Eric Hallstrom lists 'Missoula, MT' as their location.\n",
      " Following: 463, Followers: 305.\n",
      "\n",
      "Tyler 📊 🐕 🚲 lists 'Minneapolis, MN' as their location.\n",
      " Following: 527, Followers: 83.\n",
      "\n",
      "The Center for Community Ownership (CCO) lists 'None' as their location.\n",
      " Following: 53, Followers: 41.\n",
      "\n",
      "Deepak Chauhan lists 'None' as their location.\n",
      " Following: 452, Followers: 25.\n",
      "\n",
      "Patsy lists 'Seattle, WA' as their location.\n",
      " Following: 156, Followers: 15.\n",
      "\n",
      "andrew lists 'St Paul, MN' as their location.\n",
      " Following: 1414, Followers: 461.\n",
      "\n",
      "Ada Smith lists 'None' as their location.\n",
      " Following: 274, Followers: 197.\n",
      "\n",
      "Stacey Burns lists 'Minneapolis Witch District' as their location.\n",
      " Following: 4584, Followers: 10877.\n",
      "\n"
     ]
    }
   ],
   "source": [
    "num_to_print = 20\n",
    "\n",
    "for idx, user in enumerate(followers.data) :\n",
    "    following_count = user.public_metrics['following_count']\n",
    "    followers_count = user.public_metrics['followers_count']\n",
    "    \n",
    "    print(f\"{user.name} lists '{user.location}' as their location.\")\n",
    "    print(f\" Following: {following_count}, Followers: {followers_count}.\")\n",
    "    print()\n",
    "    \n",
    "    if idx >= (num_to_print - 1) :\n",
    "        break\n"
   ]
  },
  {
   "cell_type": "markdown",
   "id": "8bbfe05f",
   "metadata": {
    "id": "8bbfe05f"
   },
   "source": [
    "Let's find the person who follows this handle who has the most followers. "
   ]
  },
  {
   "cell_type": "code",
   "execution_count": 35,
   "id": "bda3eec3",
   "metadata": {
    "colab": {
     "base_uri": "https://localhost:8080/",
     "height": 70
    },
    "id": "bda3eec3",
    "outputId": "1c9fe3f1-11e5-4a8d-8813-7dcde53dfd06"
   },
   "outputs": [
    {
     "name": "stdout",
     "output_type": "stream",
     "text": [
      "WedgeLIVE\n",
      "{'followers_count': 14165, 'following_count': 2223, 'tweet_count': 56084, 'listed_count': 218}\n"
     ]
    }
   ],
   "source": [
    "max_followers = 0\n",
    "\n",
    "for idx, user in enumerate(followers.data) :\n",
    "    followers_count = user.public_metrics['followers_count']\n",
    "    \n",
    "    if followers_count > max_followers :\n",
    "        max_followers = followers_count\n",
    "        max_follower_user = user\n",
    "\n",
    "        \n",
    "print(max_follower_user)\n",
    "print(max_follower_user.public_metrics)\n"
   ]
  },
  {
   "cell_type": "markdown",
   "id": "2dad0a3f",
   "metadata": {
    "id": "2dad0a3f"
   },
   "source": [
    "Let's pull some more user fields and take a look at them. The fields can be specified in the `user_fields` argument. "
   ]
  },
  {
   "cell_type": "code",
   "execution_count": 37,
   "id": "0432bbb7",
   "metadata": {
    "colab": {
     "base_uri": "https://localhost:8080/",
     "height": 52
    },
    "id": "0432bbb7",
    "outputId": "c43d9781-7681-4cab-b25a-9e3e8379ca75"
   },
   "outputs": [],
   "source": [
    "response = client.get_user(id=user_obj.data.id,\n",
    "                          user_fields=[\"created_at\",\"description\",\"location\",\n",
    "                                       \"entities\",\"name\",\"pinned_tweet_id\",\"profile_image_url\",\n",
    "                                       \"verified\",\"public_metrics\"])"
   ]
  },
  {
   "cell_type": "code",
   "execution_count": 38,
   "id": "eb69f9cb",
   "metadata": {
    "colab": {
     "base_uri": "https://localhost:8080/",
     "height": 35
    },
    "id": "eb69f9cb",
    "outputId": "ac0faa81-6f85-4a02-81a9-a748c08a9503"
   },
   "outputs": [
    {
     "name": "stdout",
     "output_type": "stream",
     "text": [
      "for created_at we have 2009-04-18 22:08:22+00:00\n",
      "for name we have John Chandler\n",
      "for username we have 37chandler\n",
      "for description we have He/Him. Data scientist, urban cyclist, educator, erstwhile frisbee player. \n",
      "\n",
      "¯\\_(ツ)_/¯\n",
      "for id we have 33029025\n",
      "for verified we have False\n",
      "for public_metrics we have {'followers_count': 193, 'following_count': 589, 'tweet_count': 995, 'listed_count': 3}\n",
      "for location we have MN\n",
      "for profile_image_url we have https://pbs.twimg.com/profile_images/2680483898/b30ae76f909352dbae5e371fb1c27454_normal.png\n"
     ]
    }
   ],
   "source": [
    "for field, value in response.data.items() :\n",
    "    print(f\"for {field} we have {value}\")\n"
   ]
  },
  {
   "cell_type": "markdown",
   "id": "6abc5dc6",
   "metadata": {
    "id": "6abc5dc6"
   },
   "source": [
    "Now a few questions for you about the user object.\n",
    "\n",
    "Q: How many fields are being returned in this user object? \n",
    "\n",
    "A: 9 <!-- Put your answer here --> \n",
    "\n",
    "---\n",
    "\n",
    "Q: Are any of the fields within the user object non-scalar? (I.e., more complicated than a simple data type like integer, float, string, boolean, etc.) \n",
    "\n",
    "A: public_metrics has a dict-like structure <!-- Put your answer here --> \n",
    "\n",
    "---\n",
    "\n",
    "Q: How many friends, followers, and tweets does this user have? \n",
    "\n",
    "A: Following 589, Followers is 193, tweet count is 995<!-- Put your answer here --> \n"
   ]
  },
  {
   "cell_type": "markdown",
   "id": "d8564d2c",
   "metadata": {
    "id": "d8564d2c"
   },
   "source": [
    "Although you won't need it for this assignment, individual tweets can be a rich source of text-based data. To illustrate the concepts, let's look at the last few tweets for this user. You are encouraged to explore the fields that are available about Tweets."
   ]
  },
  {
   "cell_type": "code",
   "execution_count": 39,
   "id": "70b8e93a",
   "metadata": {
    "colab": {
     "base_uri": "https://localhost:8080/",
     "height": 52
    },
    "id": "70b8e93a",
    "outputId": "48c6fce7-fdef-47a2-f710-58dadcadee49"
   },
   "outputs": [
    {
     "name": "stdout",
     "output_type": "stream",
     "text": [
      "1568982292923826176\n",
      "RT @wonderofscience: Amazing lenticular cloud over Mount Fuji\n",
      "\n",
      "Credit: Iurie Belegurschi\n",
      "https://t.co/0mUxl28H9U\n",
      "\n",
      "1568242374085869570\n",
      "RT @depthsofwiki: lots of memes about speedy wikipedia editors — quick thread about what went down on wikipedia in the minutes after her de…\n",
      "\n",
      "1568074978754703361\n",
      "@DrLaurenWilson @leighradwood @MaritsaGeorgiou @Walgreens I could not possibly agree more with this sentiment. Compared to almost any other primary care I've received, they are great.\n",
      "\n",
      "1567530169686196224\n",
      "@DrLaurenWilson @MaritsaGeorgiou @Walgreens For those who have access to Curry Health Center on campus, you can get a bivalent booster in 15 minutes from their delightful staff.\n",
      "\n",
      "1567511181526708224\n",
      "RT @shes_the_maNN1: I can’t describe how ancient this makes me feel. https://t.co/a1IvELjOFY\n",
      "\n",
      "1567510612665864193\n",
      "RT @AngryBlackLady: this is hilarious\n",
      "\n",
      "1566031636457725953\n",
      "RT @MarkJacob16: With all the arguments over whether MAGA Republicans are fascists, I reread William Shirer’s “The Rise and Fall of the Thi…\n",
      "\n",
      "1563737816219000832\n",
      "RT @wonderofscience: The Milky Way galaxy and a phenomenon known as \"airglow\" seen from the International Space Station. https://t.co/bOLt8…\n",
      "\n",
      "1563243769209954305\n",
      "Such an awesome idea from @EmilyMandel to write some bonus content for “Sea of Tranquility” editions sold at independent book stores. Fantastic book, too. 👏👏👏 https://t.co/EMGpCEsKTn\n",
      "\n",
      "1562631400737865730\n",
      "RT @champnella: Detroit rapper @GmacCash made a song about the Belle Isle Giant Slide and it's fantastic!  Put it with some clips and, well…\n",
      "\n"
     ]
    }
   ],
   "source": [
    "response = client.get_users_tweets(user_obj.data.id)\n",
    "\n",
    "# By default, only the ID and text fields of each Tweet will be returned\n",
    "for idx, tweet in enumerate(response.data) :\n",
    "    print(tweet.id)\n",
    "    print(tweet.text)\n",
    "    print()\n",
    "    \n",
    "    if idx > 10 :\n",
    "        break"
   ]
  },
  {
   "cell_type": "markdown",
   "id": "66d50726",
   "metadata": {
    "id": "66d50726"
   },
   "source": [
    "## Pulling Follower Information\n",
    "\n",
    "In this next section of the assignment, we will pull information about the followers of your two artists. We've seen above how to pull a set of followers using `client.get_users_followers`. This function has a parameter, `max_results`, that we can use to change the number of followers that we pull. Unfortunately, we can only pull 1000 followers at a time, which means we will need to handle the _pagination_ of our results. \n",
    "\n",
    "The return object has the `.data` field, where the results will be found. It also has `.meta`, which we use to select the next \"page\" in the results using the `next_token` result. I will illustrate the ideas using our user from above. \n",
    "\n",
    "\n",
    "### Rate Limiting\n",
    "\n",
    "Twitter limits the rates at which we can pull data, as detailed in [this guide](https://developer.twitter.com/en/docs/twitter-api/rate-limits). We can make 15 user requests per 15 minutes, meaning that we can pull $4 \\cdot 15 \\cdot 1000 = 60000$ users per hour. I illustrate the handling of rate limiting below, though whether or not you hit that part of the code depends on your value of `handle`.  \n",
    "\n",
    "\n",
    "In the below example, I'll pull all the followers, 25 at a time. (We're using 25 to illustrate the idea; when you do this set the value to 1000.) "
   ]
  },
  {
   "cell_type": "markdown",
   "id": "d29ac393",
   "metadata": {
    "id": "d29ac393"
   },
   "source": [
    "TODO: Get artist counts and estimate total time."
   ]
  },
  {
   "cell_type": "code",
   "execution_count": 182,
   "id": "e5236335",
   "metadata": {
    "colab": {
     "base_uri": "https://localhost:8080/",
     "height": 122
    },
    "id": "e5236335",
    "outputId": "3f9fdcb9-a74d-41a5-cccc-35aed262e4ba"
   },
   "outputs": [
    {
     "data": {
      "text/plain": [
       "'\\nhandle_followers = []\\npulls = 0\\nmax_pulls = 3\\nnext_token = None\\n\\nwhile True :\\n\\n    followers = client.get_users_followers(\\n        user_obj.data.id, \\n        max_results=1, # when you do this for real, set this to 1000!\\n        pagination_token = next_token,\\n        user_fields=[\"created_at\",\"description\",\"location\",\\n                     \"entities\",\"name\",\"pinned_tweet_id\",\"profile_image_url\",\\n                     \"verified\",\"public_metrics\"]\\n    )\\n    pulls += 1\\n    \\n    for follower in followers.data : \\n        follower_row = (follower.id,follower.name,follower.created_at,follower.description)\\n        handle_followers.append(follower_row)\\n    \\n    if \\'next_token\\' in followers.meta and pulls < max_pulls :\\n        next_token = followers.meta[\\'next_token\\']\\n        print(next_token)\\n    else : \\n        break\\n\\nhandle_followers\\n'"
      ]
     },
     "execution_count": 182,
     "metadata": {},
     "output_type": "execute_result"
    }
   ],
   "source": [
    "#  THE FOLLOWING CODE HAS BEEN INCUDED AND MODIFIED IN THE FULL CODE BLOCK BELOW\n",
    "'''\n",
    "handle_followers = []\n",
    "pulls = 0\n",
    "max_pulls = 3\n",
    "next_token = None\n",
    "\n",
    "while True :\n",
    "\n",
    "    followers = client.get_users_followers(\n",
    "        user_obj.data.id, \n",
    "        max_results=1, # when you do this for real, set this to 1000!\n",
    "        pagination_token = next_token,\n",
    "        user_fields=[\"created_at\",\"description\",\"location\",\n",
    "                     \"entities\",\"name\",\"pinned_tweet_id\",\"profile_image_url\",\n",
    "                     \"verified\",\"public_metrics\"]\n",
    "    )\n",
    "    pulls += 1\n",
    "    \n",
    "    for follower in followers.data : \n",
    "        follower_row = (follower.id,follower.name,follower.created_at,follower.description)\n",
    "        handle_followers.append(follower_row)\n",
    "    \n",
    "    if 'next_token' in followers.meta and pulls < max_pulls :\n",
    "        next_token = followers.meta['next_token']\n",
    "        print(next_token)\n",
    "    else : \n",
    "        break\n",
    "\n",
    "handle_followers\n",
    "'''"
   ]
  },
  {
   "cell_type": "markdown",
   "id": "9f3ec0e5",
   "metadata": {
    "id": "9f3ec0e5"
   },
   "source": [
    "Now let's take a look at your artists and see how long it is going to take to pull all their followers. "
   ]
  },
  {
   "cell_type": "code",
   "execution_count": 41,
   "id": "1rsvPwJU27pj",
   "metadata": {
    "colab": {
     "base_uri": "https://localhost:8080/"
    },
    "id": "1rsvPwJU27pj",
    "outputId": "d0e57bf0-7eab-412c-ff4a-c81e67e90f99"
   },
   "outputs": [
    {
     "name": "stdout",
     "output_type": "stream",
     "text": [
      "117585\n"
     ]
    }
   ],
   "source": [
    "handle = \"didoofficial\"\n",
    "user_obj = client.get_user(username=handle, user_fields=[\"public_metrics\"])\n",
    "print(user_obj.data.public_metrics['followers_count'])"
   ]
  },
  {
   "cell_type": "code",
   "execution_count": 42,
   "id": "UNnr-ZY9MbuC",
   "metadata": {
    "colab": {
     "base_uri": "https://localhost:8080/"
    },
    "id": "UNnr-ZY9MbuC",
    "outputId": "194ce171-57f3-4565-dabf-af1885fd0025"
   },
   "outputs": [
    {
     "name": "stdout",
     "output_type": "stream",
     "text": [
      "541728\n"
     ]
    }
   ],
   "source": [
    "handle = \"aboveandbeyond\"\n",
    "user_obj = client.get_user(username=handle, user_fields=[\"public_metrics\"])\n",
    "print(user_obj.data.public_metrics['followers_count'])"
   ]
  },
  {
   "cell_type": "code",
   "execution_count": null,
   "id": "923feae4",
   "metadata": {
    "id": "923feae4"
   },
   "outputs": [],
   "source": [
    "#artists['cher'].public_metrics"
   ]
  },
  {
   "cell_type": "code",
   "execution_count": 43,
   "id": "6b37383c",
   "metadata": {
    "colab": {
     "base_uri": "https://localhost:8080/"
    },
    "id": "6b37383c",
    "outputId": "b1073be6-7db1-40fc-9ea2-1cf3dcf07fc9"
   },
   "outputs": [
    {
     "name": "stdout",
     "output_type": "stream",
     "text": [
      "It would take 1.96 hours to pull all 117585 followers for didoofficial. \n",
      "It would take 9.03 hours to pull all 541728 followers for aboveandbeyond. \n"
     ]
    }
   ],
   "source": [
    "artists = dict()\n",
    "\n",
    "for handle in ['didoofficial','aboveandbeyond'] : \n",
    "    user_obj = client.get_user(username=handle,user_fields=[\"public_metrics\"])\n",
    "    artists[handle] = (user_obj.data.id, \n",
    "                       handle,\n",
    "                       user_obj.data.public_metrics['followers_count'])\n",
    "    \n",
    "\n",
    "for artist, data in artists.items() : \n",
    "    print(f\"It would take {data[2]/(1000*15*4):.2f} hours to pull all {data[2]} followers for {artist}. \")\n",
    "    "
   ]
  },
  {
   "cell_type": "markdown",
   "id": "dc6ed3f9",
   "metadata": {
    "id": "dc6ed3f9"
   },
   "source": [
    "Depending on what you see in the display above, you may want to limit how many followers you pull. It'd be great to get at least 200,000 per artist. \n",
    "\n",
    "As we pull data for each artist we will write their data to a folder called \"twitter\", so we will make that folder if needed."
   ]
  },
  {
   "cell_type": "code",
   "execution_count": 181,
   "id": "e3a32641",
   "metadata": {
    "colab": {
     "base_uri": "https://localhost:8080/",
     "height": 35
    },
    "id": "e3a32641",
    "outputId": "f62b8677-efb4-490c-db29-769176097d2a"
   },
   "outputs": [],
   "source": [
    "# Make the \"twitter\" folder here. If you'd like to practice your programming, add functionality \n",
    "# that checks to see if the folder exists. If it does, then \"unlink\" it. Then create a new one.\n",
    "\n",
    "if os.path.isdir(\"twitter\") : \n",
    "    shutil.rmtree(\"twitter/\")\n",
    "\n",
    "os.mkdir(\"twitter\")"
   ]
  },
  {
   "cell_type": "markdown",
   "id": "dd58dd90",
   "metadata": {
    "id": "dd58dd90"
   },
   "source": [
    "In this following cells, build on the above code to pull some of the followers and their data for your two artists. As you pull the data, write the follower ids to a file called `[artist name]_followers.txt` in the \"twitter\" folder. For instance, for Cher I would create a file named `cher_followers.txt`. As you pull the data, also store it in an object like a list or a data frame.\n",
    "\n",
    "Extract and store the following fields: \n",
    "\n",
    "* screen_name\t\n",
    "* name\t\n",
    "* id\t\n",
    "* location\t\n",
    "* followers_count\t\n",
    "* friends_count\t\n",
    "* description\n",
    "\n",
    " Store the fields with one user per row in a tab-delimited text file with the name `[artist name]_follower_data.txt`. For instance, for Cher I would create a file named `cher_follower_data.txt`. \n",
    "\n",
    "\n",
    "One note: the user's description can have tabs or returns in it, so make sure to clean those out of the description before writing them to the file. I've included some example code to do that below the stub. "
   ]
  },
  {
   "cell_type": "code",
   "execution_count": null,
   "id": "ad5d24ae",
   "metadata": {
    "id": "ad5d24ae"
   },
   "outputs": [],
   "source": [
    "# num_followers_to_pull = 200*1000 # feel free to use this to limit the number of followers you pull."
   ]
  },
  {
   "cell_type": "code",
   "execution_count": 45,
   "id": "7ac06010",
   "metadata": {
    "colab": {
     "base_uri": "https://localhost:8080/",
     "height": 139
    },
    "id": "7ac06010",
    "outputId": "0225cfeb-389d-4723-9658-2bf62c95fb59"
   },
   "outputs": [
    {
     "name": "stdout",
     "output_type": "stream",
     "text": [
      "1 pulls completed for didoofficial\n",
      "Sleeping for about 60 seconds\n",
      "81P1775KLGP1GZZZ\n",
      "2 pulls completed for didoofficial\n",
      "Sleeping for about 60 seconds\n",
      "1 pulls completed for aboveandbeyond\n",
      "Sleeping for about 60 seconds\n",
      "N100M34UU0P1GZZZ\n",
      "2 pulls completed for aboveandbeyond\n",
      "Sleeping for about 60 seconds\n",
      "0:02:45.438087\n"
     ]
    }
   ],
   "source": [
    "# Modify the below code stub to pull the follower IDs and write them to a file. \n",
    "# Grabs the time when we start making requests to the API\n",
    "start_time = datetime.datetime.now()\n",
    "\n",
    "# Pull the follower IDs\n",
    "\n",
    "handles = ['didoofficial','aboveandbeyond'] \n",
    "for handle in handles :\n",
    "    handle_followers = []\n",
    "    pulls = 0\n",
    "    max_pulls = 2\n",
    "    next_token = None\n",
    "    user_obj = client.get_user(username=handle)\n",
    "    output_file = handle + \"_followers.txt\"\n",
    "     \n",
    "    while True :\n",
    "        followers = client.get_users_followers(\n",
    "            user_obj.data.id,\n",
    "            max_results=3, # when you do this for real, set this to 1000!\n",
    "            pagination_token = next_token,\n",
    "            user_fields=[\"created_at\",\"description\",\"location\",\n",
    "                         \"entities\",\"name\",\"pinned_tweet_id\",\"profile_image_url\",\n",
    "                         \"verified\",\"public_metrics\",\"username\"]\n",
    "                         )\n",
    "        print(pulls+1, \"pulls completed for\", handle)\n",
    "        print('Sleeping for about 60 seconds')\n",
    "        time.sleep(130*random.random())\n",
    "        pulls += 1\n",
    "\n",
    "\n",
    "# Extract the information you need for the followers        \n",
    "        for follower in followers.data :\n",
    "            follower_row = (follower.name,\n",
    "                            follower.username,\n",
    "                            follower.id,\n",
    "                            follower.location,\n",
    "                            follower.created_at,\n",
    "                            follower.public_metrics['followers_count'],\n",
    "                            follower.public_metrics['following_count'],\n",
    "                            (re.sub(r\"\\s+\",\" \",follower.description))\n",
    "                            )\n",
    "            handle_followers.append(follower_row)\n",
    "\n",
    "        handle_followers_df = pd.DataFrame (handle_followers, columns = ['name', 'username','id','location','created',\n",
    "                                                        'followers','following','description'])\n",
    "        \n",
    "        if 'next_token' in followers.meta and pulls < max_pulls :\n",
    "            next_token = followers.meta['next_token']\n",
    "            print(next_token)\n",
    "        else :\n",
    "            break\n",
    "        \n",
    "# Write the data to the output file in the `twitter` folder.\n",
    "        \n",
    "    handle_followers_df.to_csv(output_file,\n",
    "                               index=False,\n",
    "                               header=False,\n",
    "                               sep='\\t')\n",
    "\n",
    "# If you've pulled num_followers_to_pull, feel free to break out paged twitter API response\n",
    "            \n",
    "# Let's see how long it took to grab all follower IDs\n",
    "end_time = datetime.datetime.now()\n",
    "print(end_time - start_time)"
   ]
  },
  {
   "cell_type": "code",
   "execution_count": null,
   "id": "2311694f",
   "metadata": {
    "colab": {
     "base_uri": "https://localhost:8080/",
     "height": 35
    },
    "id": "2311694f",
    "outputId": "d62bff42-d8a6-4260-a857-bc9b8ae48c12"
   },
   "outputs": [
    {
     "data": {
      "application/vnd.google.colaboratory.intrinsic+json": {
       "type": "string"
      },
      "text/plain": [
       "' Home by Warsan Shire no one leaves home unless home is the mouth of a shark. you only run for the border when you see the whole city running as well. '"
      ]
     },
     "execution_count": 170,
     "metadata": {},
     "output_type": "execute_result"
    }
   ],
   "source": [
    "tricky_description = \"\"\"\n",
    "    Home by Warsan Shire\n",
    "    \n",
    "    no one leaves home unless\n",
    "    home is the mouth of a shark.\n",
    "    you only run for the border\n",
    "    when you see the whole city\n",
    "    running as well.\n",
    "\n",
    "\"\"\"\n",
    "# This won't work in a tab-delimited text file.\n",
    "\n",
    "clean_description = re.sub(r\"\\s+\",\" \",tricky_description)\n",
    "clean_description"
   ]
  },
  {
   "cell_type": "markdown",
   "id": "45c13af3",
   "metadata": {
    "id": "45c13af3"
   },
   "source": [
    "---\n",
    "\n",
    "# Lyrics Scrape\n",
    "\n",
    "This section asks you to pull data from the Twitter API and scrape www.AZLyrics.com. In the notebooks where you do that work you are asked to store the data in specific ways. "
   ]
  },
  {
   "cell_type": "code",
   "execution_count": 145,
   "id": "Juyv1VwOAhpH",
   "metadata": {
    "id": "Juyv1VwOAhpH"
   },
   "outputs": [],
   "source": [
    "import requests\n",
    "from bs4 import BeautifulSoup\n",
    "import lxml\n",
    "from urllib.request import Request, urlopen\n",
    "from tqdm import tqdm\n",
    "import json\n",
    "import time"
   ]
  },
  {
   "cell_type": "code",
   "execution_count": 146,
   "id": "5bd7df77",
   "metadata": {
    "id": "5bd7df77"
   },
   "outputs": [],
   "source": [
    "artists = {'dido':\"https://www.azlyrics.com/d/dido.html\",\n",
    "           'abovebeyond':\"https://www.azlyrics.com/a/abovebeyond.html\"} \n",
    "\n",
    "# we'll use this dictionary to hold both the artist name and the link on AZlyrics\n",
    "\n",
    "#Clean up: Assign Wikipedia page as URL\n",
    "#artists = {'didoofficial':\"https://en.wikipedia.org/wiki/55_Wall_Street.html\"} "
   ]
  },
  {
   "cell_type": "markdown",
   "id": "c236c99b",
   "metadata": {
    "id": "c236c99b"
   },
   "source": [
    "## A Note on Rate Limiting\n",
    "\n",
    "The lyrics site, www.azlyrics.com, does not have an explicit maximum on number of requests in any one time, but in our testing it appears that too many requests in too short a time will cause the site to stop returning lyrics pages. (Entertainingly, the page that gets returned seems to only have the song title to [a Tom Jones song](https://www.azlyrics.com/lyrics/tomjones/itsnotunusual.html).) \n",
    "\n",
    "Whenever you call `requests.get` to retrieve a page, put a `time.sleep(5 + 10*random.random())` on the next line. This will help you not to get blocked. If you _do_ get blocked, which you can identify if the returned pages are not correct, just request a lyrics page through your browser. You'll be asked to perform a CAPTCHA and then your requests should start working again. \n",
    "\n",
    "## Part 1: Finding Links to Songs Lyrics\n",
    "\n",
    "That general artist page has a list of all songs for that artist with links to the individual song pages. \n",
    "\n",
    "Q: Take a look at the `robots.txt` page on www.azlyrics.com. (You can read more about these pages [here](https://developers.google.com/search/docs/advanced/robots/intro).) Is the scraping we are about to do allowed or disallowed by this page? How do you know? \n",
    "\n",
    "A: According to their robot.txt file, allowed for all crawlers (except 008, 80legs) for all pages except /songs/ and /lyricsdb/.\n"
   ]
  },
  {
   "cell_type": "code",
   "execution_count": 147,
   "id": "ac9d31ec",
   "metadata": {
    "colab": {
     "base_uri": "https://localhost:8080/",
     "height": 236
    },
    "id": "ac9d31ec",
    "outputId": "5223bd4d-35a6-4f98-c026-d26a21adadad"
   },
   "outputs": [
    {
     "name": "stdout",
     "output_type": "stream",
     "text": [
      "defaultdict(<class 'list'>, {'dido': ['https://www.azlyrics.com/lyrics/dido/allyouwant.html', 'https://www.azlyrics.com/lyrics/dido/dontthinkofme.html', 'https://www.azlyrics.com/lyrics/dido/herewithme.html', 'https://www.azlyrics.com/lyrics/dido/honestlyok.html', 'https://www.azlyrics.com/lyrics/dido/hunter.html', 'https://www.azlyrics.com/lyrics/dido/imnoangel.html', 'https://www.azlyrics.com/lyrics/dido/isobel.html', 'https://www.azlyrics.com/lyrics/dido/mylife.html', 'https://www.azlyrics.com/lyrics/dido/myloversgone.html', 'https://www.azlyrics.com/lyrics/dido/slide.html', 'https://www.azlyrics.com/lyrics/dido/takemyhand.html', 'https://www.azlyrics.com/lyrics/dido/thankyou.html', 'https://www.azlyrics.com/lyrics/dido/whiteflag.html', 'https://www.azlyrics.com/lyrics/dido/stoned.html', 'https://www.azlyrics.com/lyrics/dido/lifeforrent.html', 'https://www.azlyrics.com/lyrics/dido/marysinindia.html', 'https://www.azlyrics.com/lyrics/dido/seeyouwhenyoure40.html', 'https://www.azlyrics.com/lyrics/dido/dontleavehome.html', 'https://www.azlyrics.com/lyrics/dido/whomakesyoufeel.html', 'https://www.azlyrics.com/lyrics/dido/sandinmyshoes.html', 'https://www.azlyrics.com/lyrics/dido/doyouhavealittletime.html', 'https://www.azlyrics.com/lyrics/dido/thislandismine.html', 'https://www.azlyrics.com/lyrics/dido/seethesun.html', 'https://www.azlyrics.com/lyrics/dido/closer.html', 'https://www.azlyrics.com/lyrics/dido/dontbelieveinlove.html', 'https://www.azlyrics.com/lyrics/dido/quiettimes.html', 'https://www.azlyrics.com/lyrics/dido/neverwanttosayitslove.html', 'https://www.azlyrics.com/lyrics/dido/graftonstreet.html', 'https://www.azlyrics.com/lyrics/dido/itcomesanditgoes.html', 'https://www.azlyrics.com/lyrics/dido/looknofurther.html', 'https://www.azlyrics.com/lyrics/dido/us2littlegods.html', 'https://www.azlyrics.com/lyrics/dido/thedaybeforetheday.html', 'https://www.azlyrics.com/lyrics/dido/letsdothethingswenormallydo.html', 'https://www.azlyrics.com/lyrics/dido/burninlove.html', 'https://www.azlyrics.com/lyrics/dido/northernskies.html', 'https://www.azlyrics.com/lyrics/dido/foroneday.html', 'https://www.azlyrics.com/lyrics/dido/summer.html', 'https://www.azlyrics.com/lyrics/dido/nofreedom.html', 'https://www.azlyrics.com/lyrics/dido/girlwhogotaway.html', 'https://www.azlyrics.com/lyrics/dido/letusmoveon.html', 'https://www.azlyrics.com/lyrics/dido/blackbird.html', 'https://www.azlyrics.com/lyrics/dido/endofnight.html', 'https://www.azlyrics.com/lyrics/dido/sittingontheroofoftheworld.html', 'https://www.azlyrics.com/lyrics/dido/lovetoblame.html', 'https://www.azlyrics.com/lyrics/dido/godreaming.html', 'https://www.azlyrics.com/lyrics/dido/happynewyear.html', 'https://www.azlyrics.com/lyrics/dido/lovelesshearts.html', 'https://www.azlyrics.com/lyrics/dido/daybeforewewenttowar.html', 'https://www.azlyrics.com/lyrics/dido/allisee.html', 'https://www.azlyrics.com/lyrics/dido/justsayyes.html', 'https://www.azlyrics.com/lyrics/dido/letsrunaway.html', 'https://www.azlyrics.com/lyrics/dido/everythingtolosearminvanbuurenremix.html', 'https://www.azlyrics.com/lyrics/dido/lost.html', 'https://www.azlyrics.com/lyrics/dido/hurricanes.html', 'https://www.azlyrics.com/lyrics/dido/giveyouup.html', 'https://www.azlyrics.com/lyrics/dido/hellafterthis.html', 'https://www.azlyrics.com/lyrics/dido/youdontneedagod.html', 'https://www.azlyrics.com/lyrics/dido/takeyouhome.html', 'https://www.azlyrics.com/lyrics/dido/somekindoflove.html', 'https://www.azlyrics.com/lyrics/dido/stillonmymind.html', 'https://www.azlyrics.com/lyrics/dido/madlove.html', 'https://www.azlyrics.com/lyrics/dido/walkingby.html', 'https://www.azlyrics.com/lyrics/dido/friends.html', 'https://www.azlyrics.com/lyrics/dido/chances.html', 'https://www.azlyrics.com/lyrics/dido/havetostay.html', 'https://www.azlyrics.com/lyrics/dido/justbecause.html', 'https://www.azlyrics.com/lyrics/dido/thisislove.html', 'https://www.azlyrics.com/lyrics/dido/whatamidoinghere.html', 'https://www.azlyrics.com/lyrics/dido/together.html', 'https://www.azlyrics.com/lyrics/dido/myboy.html', 'https://www.azlyrics.com/lyrics/dido/cloudslikeislands.html', 'https://www.azlyrics.com/lyrics/dido/summerdress.html', 'https://www.azlyrics.com/lyrics/dido/ozziegirl.html', 'https://www.azlyrics.com/lyrics/dido/thosewerethedays.html', 'https://www.azlyrics.com/lyrics/dido/cards.html', 'https://www.azlyrics.com/lyrics/dido/teacherspoem.html', 'https://www.azlyrics.com/lyrics/dido/lookup.html', 'https://www.azlyrics.com/lyrics/dido/everythingtolose.html', 'https://www.azlyrics.com/lyrics/dido/fireandrain.html', 'https://www.azlyrics.com/lyrics/dido/ifirise.html', 'https://www.azlyrics.com/lyrics/dido/nyc.html', 'https://www.azlyrics.com/lyrics/dido/paris.html', 'https://www.azlyrics.com/lyrics/dido/worthless.html'], 'abovebeyond': ['https://www.azlyrics.com/lyrics/abovebeyond/stealingtime.html', 'https://www.azlyrics.com/lyrics/abovebeyond/airforlife.html', 'https://www.azlyrics.com/lyrics/abovebeyond/cantsleep.html', 'https://www.azlyrics.com/lyrics/abovebeyond/liquidlove.html', 'https://www.azlyrics.com/lyrics/abovebeyond/alonetonight.html', 'https://www.azlyrics.com/lyrics/abovebeyond/goodforme.html', 'https://www.azlyrics.com/lyrics/abovebeyond/forallicare.html', 'https://www.azlyrics.com/lyrics/abovebeyond/home.html', 'https://www.azlyrics.com/lyrics/abovebeyond/alchemy.html', 'https://www.azlyrics.com/lyrics/abovebeyond/sunmoon.html', 'https://www.azlyrics.com/lyrics/abovebeyond/yougottogo.html', 'https://www.azlyrics.com/lyrics/abovebeyond/blackroomboy.html', 'https://www.azlyrics.com/lyrics/abovebeyond/givingitout.html', 'https://www.azlyrics.com/lyrics/abovebeyond/onmywaytoheaven.html', 'https://www.azlyrics.com/lyrics/abovebeyond/loveisnotenough.html', 'https://www.azlyrics.com/lyrics/abovebeyond/everylittlebeat.html', 'https://www.azlyrics.com/lyrics/abovebeyond/sweetestheart.html', 'https://www.azlyrics.com/lyrics/abovebeyond/thingcalledlove.html', 'https://www.azlyrics.com/lyrics/abovebeyond/onlyafewthings.html', 'https://www.azlyrics.com/lyrics/abovebeyond/withyourhope.html', 'https://www.azlyrics.com/lyrics/abovebeyond/miracle.html', 'https://www.azlyrics.com/lyrics/abovebeyond/yougottago.html', 'https://www.azlyrics.com/lyrics/abovebeyond/satellitestealingtime.html', 'https://www.azlyrics.com/lyrics/abovebeyond/thingcalledlove353803.html', 'https://www.azlyrics.com/lyrics/abovebeyond/cantsleep.html', 'https://www.azlyrics.com/lyrics/abovebeyond/sunmoon353805.html', 'https://www.azlyrics.com/lyrics/abovebeyond/goodforme353806.html', 'https://www.azlyrics.com/lyrics/abovebeyond/sirensofthesea.html', 'https://www.azlyrics.com/lyrics/abovebeyond/loveisnotenough353807.html', 'https://www.azlyrics.com/lyrics/abovebeyond/onagoodday.html', 'https://www.azlyrics.com/lyrics/abovebeyond/alonetonight353808.html', 'https://www.azlyrics.com/lyrics/abovebeyond/makingplans.html', 'https://www.azlyrics.com/lyrics/abovebeyond/wereallweneed.html', 'https://www.azlyrics.com/lyrics/abovebeyond/blueskyaction.html', 'https://www.azlyrics.com/lyrics/abovebeyond/peaceofmind.html', 'https://www.azlyrics.com/lyrics/abovebeyond/countingdownthedays.html', 'https://www.azlyrics.com/lyrics/abovebeyond/stickyfingers.html', 'https://www.azlyrics.com/lyrics/abovebeyond/littlesomething.html', 'https://www.azlyrics.com/lyrics/abovebeyond/allovertheworld.html', 'https://www.azlyrics.com/lyrics/abovebeyond/flytonewyork.html', 'https://www.azlyrics.com/lyrics/abovebeyond/makingplans402906.html', 'https://www.azlyrics.com/lyrics/abovebeyond/excuses.html', 'https://www.azlyrics.com/lyrics/abovebeyond/saveme.html', 'https://www.azlyrics.com/lyrics/abovebeyond/sinkthelighthouse.html', 'https://www.azlyrics.com/lyrics/abovebeyond/treasure.html', 'https://www.azlyrics.com/lyrics/abovebeyond/myownhymn.html', 'https://www.azlyrics.com/lyrics/abovebeyond/northernsoul.html', 'https://www.azlyrics.com/lyrics/abovebeyond/naked.html', 'https://www.azlyrics.com/lyrics/abovebeyond/saharalove.html', 'https://www.azlyrics.com/lyrics/abovebeyond/happinessamplified.html', 'https://www.azlyrics.com/lyrics/abovebeyond/isitlove1001.html', 'https://www.azlyrics.com/lyrics/abovebeyond/coldfeet.html', 'https://www.azlyrics.com/lyrics/abovebeyond/tightrope.html', 'https://www.azlyrics.com/lyrics/abovebeyond/alrightnow.html', 'https://www.azlyrics.com/lyrics/abovebeyond/bittersweetblue.html', 'https://www.azlyrics.com/lyrics/abovebeyond/always.html', 'https://www.azlyrics.com/lyrics/abovebeyond/almosthome.html', 'https://www.azlyrics.com/lyrics/abovebeyond/alrightnowabovebeyondclubmix.html', 'https://www.azlyrics.com/lyrics/abovebeyond/anotherchance.html', 'https://www.azlyrics.com/lyrics/abovebeyond/chains.html', 'https://www.azlyrics.com/lyrics/abovebeyond/divingoutoflove.html', 'https://www.azlyrics.com/lyrics/abovebeyond/falling.html', 'https://www.azlyrics.com/lyrics/abovebeyond/flyingbycandlelight.html', 'https://www.azlyrics.com/lyrics/abovebeyond/gratitude.html', 'https://www.azlyrics.com/lyrics/abovebeyond/gratitude1273936.html', 'https://www.azlyrics.com/lyrics/abovebeyond/longwayfromhome.html', 'https://www.azlyrics.com/lyrics/abovebeyond/myownhymnalpha9remix.html', 'https://www.azlyrics.com/lyrics/abovebeyond/nooneonearth.html', 'https://www.azlyrics.com/lyrics/abovebeyond/reverie.html', 'https://www.azlyrics.com/lyrics/abovebeyond/seetheend.html', 'https://www.azlyrics.com/lyrics/abovebeyond/stickyfingersacousticversion.html']})\n"
     ]
    }
   ],
   "source": [
    "# Let's set up a dictionary of lists to hold our links\n",
    "lyrics_pages = defaultdict(list)\n",
    "\n",
    "for artist, artist_page in artists.items() :\n",
    "    # request the page and sleep\n",
    "    r = requests.get(artist_page)\n",
    "    time.sleep(5 + 10*random.random())\n",
    "    \n",
    "    # now extract the links to lyrics pages from this page\n",
    "    urls = []\n",
    "    soup = BeautifulSoup(r.content, 'lxml') # text, html.parser\n",
    "    for link in soup.findAll('a'):  #find_all\n",
    "        if (\"lyrics/\" + artist) in str(link.get('href')):\n",
    "            urls.append('https://www.azlyrics.com' + str(link.get('href')))\n",
    "\n",
    "    lyrics_pages[artist] = urls\n",
    "\n",
    "    # store the links `lyrics_pages` where the key is the artist and the\n",
    "    # value is a list of links. \n",
    "\n",
    "print(lyrics_pages)"
   ]
  },
  {
   "cell_type": "markdown",
   "id": "9c285ec1",
   "metadata": {
    "id": "9c285ec1"
   },
   "source": [
    "Let's make sure we have enough lyrics pages to scrape. "
   ]
  },
  {
   "cell_type": "code",
   "execution_count": 148,
   "id": "ae4cda68",
   "metadata": {
    "id": "ae4cda68"
   },
   "outputs": [],
   "source": [
    "for artist, lp in lyrics_pages.items() :\n",
    "    assert(len(set(lp)) > 20) "
   ]
  },
  {
   "cell_type": "code",
   "execution_count": 149,
   "id": "edca10d6",
   "metadata": {
    "id": "edca10d6"
   },
   "outputs": [
    {
     "name": "stdout",
     "output_type": "stream",
     "text": [
      "For dido we have 83.\n",
      "The full pull will take for this artist will take 0.23 hours.\n",
      "For abovebeyond we have 71.\n",
      "The full pull will take for this artist will take 0.2 hours.\n"
     ]
    }
   ],
   "source": [
    "# Let's see how long it's going to take to pull these lyrics \n",
    "# if we're waiting `5 + 10*random.random()` seconds \n",
    "for artist, links in lyrics_pages.items() : \n",
    "    print(f\"For {artist} we have {len(links)}.\")\n",
    "    print(f\"The full pull will take for this artist will take {round(len(links)*10/3600,2)} hours.\")"
   ]
  },
  {
   "cell_type": "markdown",
   "id": "011be6c6",
   "metadata": {
    "id": "011be6c6"
   },
   "source": [
    "## Part 2: Pulling Lyrics\n",
    "\n",
    "Now that we have the links to our lyrics pages, let's go scrape them! Here are the steps for this part. \n",
    "\n",
    "1. Create an empty folder in our repo called \"lyrics\". \n",
    "1. Iterate over the artists in `lyrics_pages`. \n",
    "1. Create a subfolder in lyrics with the artist's name. For instance, if the artist was Cher you'd have `lyrics/cher/` in your repo.\n",
    "1. Iterate over the pages. \n",
    "1. Request the page and extract the lyrics from the returned HTML file using BeautifulSoup.\n",
    "1. Use the function below, `generate_filename_from_url`, to create a filename based on the lyrics page, then write the lyrics to a text file with that name. \n"
   ]
  },
  {
   "cell_type": "code",
   "execution_count": 150,
   "id": "c6b6c182",
   "metadata": {},
   "outputs": [],
   "source": [
    "import shutil"
   ]
  },
  {
   "cell_type": "code",
   "execution_count": 151,
   "id": "94a78c78",
   "metadata": {
    "id": "94a78c78"
   },
   "outputs": [],
   "source": [
    "# Make the lyrics folder here. If you'd like to practice your programming, add functionality \n",
    "# that checks to see if the folder exists. If it does, then use shutil.rmtree to remove it and create a new one.\n",
    "\n",
    "if os.path.isdir(\"lyrics\") : \n",
    "    shutil.rmtree(\"lyrics/\")\n",
    "\n",
    "os.mkdir(\"lyrics\")\n",
    "os.mkdir(\"lyrics/dido\")\n",
    "os.mkdir(\"lyrics/abovebeyond\")"
   ]
  },
  {
   "cell_type": "code",
   "execution_count": 154,
   "id": "d655b687",
   "metadata": {
    "id": "d655b687"
   },
   "outputs": [
    {
     "name": "stdout",
     "output_type": "stream",
     "text": [
      "['\"All You Want\" lyrics', 'Dido Lyrics', '\"All You Want\"', \"I'd like to watch you sleep at night\", 'to hear you breathe by my side', 'And though sleep leaves me behind', \"there's nowhere I'd rather be\", 'And now our bed is oh so cold', 'my hands feel empty', 'no one to hold', 'I can sleep what side I want', \"It's not the same with you gone\", \"Oh if you'd come home\", \"I'll let you know that\", 'All you want', 'Is right here in this room', 'All you need', 'Is sitting here with you', 'All you want', \"It's been three years\", 'One night apart', 'but in that night you tore my heart', 'If only you had slept alone', 'If those seeds had not been sown', 'Oh you could come home and you would know that', 'All you want', 'Is right here in this room', 'All you need', 'Is sitting here with you', 'All you want', 'I hear your key turning in the door', \"I won't be hearing that sound anymore\", 'And you and your sin', 'can leave the way you just came in', 'send my regards to her', \"I hope you've found that\", 'All you want', 'Is right there in that room', 'All you need', 'Is sitting there with you', 'All you want', \"I'd like to watch you sleep at night\", 'to hear you breathe by my side']\n",
      "['\"Don\\'t Think Of Me\" lyrics', 'Dido Lyrics', '\"Don\\'t Think Of Me\"', \"So you're with her\", 'and not with me', \"I hope she's sweet\", 'and so pretty', 'I hear she cooks delightfully', 'a little angel beside you', \"So you're with her\", 'and not with me', 'Oh how lucky one man can be', 'I hear your house', 'is small and clean', 'Oh how lovely with your homecoming queen', 'Oh how lovely it must be', 'When you see her sweet smile baby', \"Don't think of me\", 'When she lays in your warm arms', \"Don't think of me\", \"So you're with her\", 'and not with me', 'I know she spreads sweet honey', 'In fact your best friend', 'I heard he spent last night with her', 'Now how do you feel', 'When you see her sweet smile baby', \"Don't think of me\", 'When she lays in your warm arms', \"Don't think of me\", \"And it's too late and it's too bad\", \"Don't think of me\", \"Oh it's too late and it's too bad\", \"Don't think of me\", 'Does it bother you now all the mess I made', 'Does it bother you now the clothes you told me not to wear', 'Does it bother you now all the angry games we played', \"Does it bother you now when I'm not there\", 'When you see her sweet smile baby', \"Don't think of me\", 'When she lays in your warm arms', \"Don't think of me\", \"And it's too late and it's too bad\", \"Don't think of me\", \"Oh it's too late and it's too bad\", \"Don't think of me\"]\n",
      "['\"Here With Me\" lyrics', 'Dido Lyrics', '\"Here With Me\"', \"I didn't hear you leave\", 'I wonder how am I still here', \"And I don't want to move a thing\", 'It might change my memory', '[Chorus:]', 'Oh I am what I am', \"I'll do what I want\", \"But I can't hide\", \"I won't go\", \"I won't sleep\", \"I can't breathe\", \"Until you're resting here with me\", \"I won't leave\", \"I can't hide\", 'I cannot be', \"Until you're resting here with me\", \"I don't want to call my friends\", 'They might wake me from this dream', \"And I can't leave this bed\", \"Risk forgetting all that's been\", '[Chorus]']\n",
      "['\"Honestly OK\" lyrics', 'Dido Lyrics', '\"Honestly OK\"', 'I just want to feel safe in my own skin', 'I just want to be happy again', 'I just want to feel deep in my own world', \"but I'm so lonely I don't even want to be with myself anymore\", 'On a different day if I was safe in my own skin', \"then I wouldn't feel so lost and so frightened\", \"But this is today and I'm lost in my own skin\", \"And I'm so lonely I don't even want to be with myself anymore\", 'I just want to feel safe in my own skin', 'I just want to be happy again']\n",
      "['\"Hunter\" lyrics', 'Dido Lyrics', '\"Hunter\"', 'With one light on in one room', \"I know you're up when I get home\", 'With one small step upon the stair', 'I know your look when I get there', 'If you were a king up there on your throne', 'would you be wise enough to let me go', 'for this queen you think you own', 'Wants to be a hunter again', 'wants to see the world alone again', 'to take a chance on life again', 'so let me go', 'The unread book and painful look', \"the tv's on, the sound is down\", 'One long pause', 'then you begin', \"oh look what the cat's brought in\", 'If you were a king up there on your throne', 'would you be wise enough to let me go', 'for this queen you think you own', 'Wants to be a hunter again', 'wants to see the world alone again', 'to take a chance on life again', 'so let me go', 'let me leave', \"For the crown you've placed upon my head feels too heavy now\", \"and I don't know what to say to you but I'll smile anyhow\", \"and all the time I'm thinking, thinking\", 'I want to be a hunter again', 'want to see the world alone again', 'to take a chance on life again', 'so let me go.']\n",
      "['\"I\\'m No Angel\" lyrics', 'Dido Lyrics', '\"I\\'m No Angel\"', 'If you gave me just a coin for every time we say goodbye', \"Well I'd be rich beyond my dreams, I'm sorry for my weary life\", \"I know I'm not perfect but I can smile\", 'and I hope that you see this heart behind my tired eyes', \"If you tell me that I can't, I will, I will, I'll try all night\", \"and if I say I'm coming home, I'll probably be out all night\", \"I know I can be afraid but I'm alive\", 'and I hope that you trust this heart behind my tired eyes', \"'cause I'm no angel, but please don't think that I won't try and try\", \"I'm no angel, but does that mean that I can't live my life?\", \"I'm no angel, but please don't think that I can't cry\", \"I'm no angel, but does that mean that I won't fly?\", \"I know I'm not around each night\", \"and I know I always think I'm right\", 'And I can believe that you might look around', \"'cause I'm no angel, but please don't think that I won't try and try\", \"I'm no angel, but does that mean that I can't live my life?\", \"I'm no angel, but please don't think that I can't cry\", \"I'm no angel, but does that mean that I won't fly?\"]\n",
      "['\"Isobel\" lyrics', 'Dido Lyrics', '\"Isobel\"', 'I thought it was funny when you missed the train', 'When I rang you at home they said you left yesterday', 'I thought it was strange when your car was found', 'by the tree in Ennis where we used to hang around', 'Dear Isobel', \"I hope you're well and what you've done is right\", \"Oh it's been such hell\", \"I wish you well and hope you're safe tonight\", \"It's been a long day coming and long will it last\", \"when it's last day leaving, and I'm helping it pass\", 'by loving you more', \"And who he would become, all the things he'd have done\", 'would he have loved you, and not let you down', 'and would he be stronger than his father', \"don't punish yourself, leave it well alone\", 'Dear Isobel', \"I hope you're well and what you've done is right\", \"Oh it's been such hell\", \"I wish you well and hope you're safe tonight\", \"It's been a long day coming and long will it last\", \"when it's last day leaving, and I'm helping it pass\", 'by loving you more']\n",
      "['\"My Life\" lyrics', 'Dido Lyrics', '\"My Life\"', 'What I choose to do is of no concern to you and your friends', 'Where I lay my hat may not be my home, but I will last on my own', \"'Cause it's me, and my life\", \"it's my life\", \"Oh the world has sat in the palm of my hand not that you'd see\", \"and I'm tired and bored of waiting for you and all those things you never do\", \"'Cause it's me, and my life\", \"it's my life\"]\n",
      "['\"My Lover\\'s Gone\" lyrics', 'Dido Lyrics', '\"My Lover\\'s Gone\"', \"My lover's gone\", 'his boots no longer by my door', 'he left at dawn', 'and as I slept I felt him go', 'Returns no more', 'I will not watch the ocean', \"My lover's gone\", 'no earthly ships will ever bring him home again', 'bring him home again', \"My lover's gone\", 'I know that kiss will be my last', 'no more his song', 'the tune upon his lips has passed', 'I sing alone', 'while I watch the ocean', \"My lover's gone\", 'no earthly ships will ever bring him home again', 'bring him home again']\n",
      "['\"Slide\" lyrics', 'Dido Lyrics', '\"Slide\"', \"Even on a day like this when you're crawling on the floor\", 'Reaching for the phone to ring anyone who knows you anymore', \"It's all right to make mistakes\", \"you're only human\", \"Inside everybody's hiding something\", 'Staring at the same four walls, have you tried to help yourself', \"The rings around your eyes they don't hide, that you need to get some rest\", \"It's all right to make mistakes\", \"you're only human\", \"Inside everybody's hiding something\", 'Take time to catch your breathe and choose your moment', \"Don't slide\", 'Even at a time like this when the morning seems so far', \"Think that pain belongs to you but it's happened to us all\", \"It's all right to make mistakes\", \"you're only human\", \"Inside everybody's hiding something\", 'Take time to catch your breathe and choose your moment', \"Don't slide\", 'You brought this on yourself', \"and it's high time you left it there\", 'Lie here and rest your head', 'and dream of something else instead', \"Don't slide\"]\n",
      "['\"Take My Hand\" lyrics', 'Dido Lyrics', '\"Take My Hand\"', \"Touch my skin,and tell me what you're thinking\", \"Take my hand and show me where we're going\", \"Lie down next to me, look into my eyes and tell me, oh tell me what you're seeing\", \"So sit on top of the world and tell me how you're feeling\", 'what you feel now is what I feel for you', \"Take my hand and if I'm lying to you\", \"I'll always be alone\", \"if I'm lying to you\", 'See my eyes, they carry your reflection', \"Watch my lips and hear the words I'm telling you\", \"Give your trust to me and look into my heart and show me, show me what you're doing\", \"So sit on top of the world and tell me how you're feeling\", 'what you feel now is what I feel for you', \"Take my hand and if I'm lying to you\", \"I'll always be alone\", \"if I'm lying to you\", \"Take your time, if I'm lying to you\", \"I know you'll find that you believe me\", 'you believe me', \"Feel the sun on your face and tell me what you're thinking\", 'Catch the snow on your tongue and show me how it tastes', \"Take my hand and if I'm lying to you\", \"I'll always be alone\", \"if I'm lying to you\", \"Take your time, if I'm lying to you\", \"I know you'll find that you believe me\", 'you believe me']\n",
      "['\"Thank You\" lyrics', 'Dido Lyrics', '\"Thank You\"', \"My tea's gone cold, I'm wondering why\", 'I got out of bed at all', 'The morning rain clouds up my window', \"And I can't see at all\", \"And even if I could, it'd all be grey\", 'But your picture on my wall', \"It reminds me that it's not so bad\", \"It's not so bad\", 'I drank too much last night, got bills to pay', 'My head just feels in pain', \"I missed the bus and there'll be hell today\", \"I'm late for work again\", \"And even if I'm there, they'll all imply\", 'That I might not last the day', 'And then you call me', \"And it's not so bad, it's not so bad\", 'And I want to thank you', 'For giving me the best day of my life', 'Oh, just to be with you', 'Is having the best day of my life', \"Push the door, I'm home at last\", \"And I'm soaking through and through\", 'Then you handed me a towel', 'And all I see is you', 'And even if my house falls down now', \"I wouldn't have a clue\", \"Because you're near me\", 'And I want to thank you', 'For giving me the best day of my life', 'Oh, just to be with you', 'Is having the best day of my life', 'And I want to thank you', 'For giving me the best day of my life', 'Oh, just to be with you', 'Is having the best day of my life']\n",
      "['\"White Flag\" lyrics', 'Dido Lyrics', '\"White Flag\"', \"I know you think that I shouldn't still love you,\", 'Or tell you that.', \"But if I didn't say it, well I'd still have felt it\", \"Where's the sense in that?\", \"I promise I'm not trying to make your life harder\", 'Or return to where we were', 'But I will go down with this ship', \"And I won't put my hands up and surrender\", 'There will be no white flag above my door', \"I'm in love and always will be\", 'I know I left too much mess and destruction', 'To come back again', 'And I caused nothing but trouble', \"I understand if you can't talk to me again\", 'And if you live by the rules of \"it\\'s over\"', \"Then I'm sure that that makes sense\", 'I will go down with this ship', \"And I won't put my hands up and surrender\", 'There will be no white flag above my door', \"I'm in love and always will be\", 'And when we meet', \"Which I'm sure we will\", 'All that was there', 'Will be there still', \"I'll let it pass\", 'And hold my tongue', 'And you will think', \"That I've moved on....\", 'I will go down with this ship', \"And I won't put my hands up and surrender\", 'There will be no white flag above my door', \"I'm in love and always will be\", 'I will go down with this ship', \"And I won't put my hands up and surrender\", 'There will be no white flag above my door', \"I'm in love and always will be\", 'I will go down with this ship', \"And I won't put my hands up and surrender\", 'There will be no white flag above my door', \"I'm in love and always will be\"]\n",
      "['\"Stoned\" lyrics', 'Dido Lyrics', '\"Stoned\"', \"When you're stoned, baby, I am drunk\", 'And we make love, it seems a little desolate', \"It's hard sometimes not to look away\", \"And think what's the point when I'm having to hold this fire down\", \"I think I'll explode if I can't feel this freely now\", '[Chorus:]', \"If you won't let me fall for you\", \"Then you won't see the best that I would love to do for you\", 'Instead you will be missing me when I go', \"Cos' I'm bored of hangin out in your cold\", 'When I feel loved baby, I join the road', 'And the world moves with me', 'When I feel lost I just slip away', 'Silently, quietly take my things and go', \"And think what's the point, think where's the hope we're coming home\", '[Chorus]', 'And if you find one day, find some freedom and relief', 'With this freedom maybe, maybe you will find some peace', 'With this peace baby, I hope it brings you back to me', 'Bring you home, take me home', '[Chorus]', 'Oh, take me home', 'Oh, take me home', \"When you're stoned, baby, take me home\", 'Oh...']\n",
      "['\"Life For Rent\" lyrics', 'Dido Lyrics', '\"Life For Rent\"', \"I haven't ever really found a place that I call home\", 'I never stick around quite long enough to make it', \"I apologize once again I'm not in love\", \"But it's not as if I mind\", \"that your heart ain't exactly breaking\", \"It's just a thought, only a thought\", \"But if my life is for rent and I don't learn to buy\", 'Well I deserve nothing more than I get', 'Cause nothing I have is truly mine', \"I've always thought\", 'that I would love to live by the sea', 'To travel the world alone', 'and live more simply', \"I have no idea what's happened to that dream\", \"Cause there's really nothing left here to stop me\", \"It's just a thought, only a thought\", \"But if my life is for rent and I don't learn to buy\", 'Well I deserve nothing more than I get', 'Cause nothing I have is truly mine', \"If my life is for rent and I don't learn to buy\", 'Well I deserve nothing more than I get', 'Cause nothing I have is truly mine', \"While my heart is a shield and I won't let it down\", \"While I am so afraid to fail so I won't even try\", \"Well how can I say I'm alive\", \"If my life is for rent and I don't learn to buy\", 'Well I deserve nothing more than I get', 'Cause nothing I have is truly mine', \"If my life is for rent and I don't learn to buy\", 'Well I deserve nothing more than I get', 'Cause nothing I have is truly mine', 'Cause nothing I have is truly mine', 'Cause nothing I have is truly mine', 'Cause nothing I have is truly mine']\n",
      "['\"Mary\\'s In India\" lyrics', 'Dido Lyrics', '\"Mary\\'s In India\"', \"Danny is lonely cause Mary's in India now\", \"She said she'd call but that was three weeks ago\", 'She left all her things well, her books and her letters from him', 'And as the sun rises on Mary, it sets on him', 'Just dance, and just drink and just see the things', \"I'll probably never get a chance to see\", \"Danny's not eating, he's drinking and sleeping in\", \"I saw him last night at a party, he's definitely thin\", \"He says he's happy, he looked pretty good but I think\", 'That as the sun rises on Mary, it sets on him', 'And just dance, and just drink and just see the things', \"I'll probably never get a chance to see\", 'Danny came over last night and I cooked for him', 'We talked about you Mary and how much we loved you still', \"He told me he's packed up your books and your letters and things\", \"And as the sun sets on Mary, it's rising on him\", \"And we danced and we drank and I've seen some things\", 'You probably never got a chance to see', \"Don't worry Mary, cause I'm taking care of Danny\", \"And he's taking care of me\"]\n",
      "['\"See You When You\\'re 40\" lyrics', 'Dido Lyrics', '\"See You When You\\'re 40\"', \"I've driven round in circles for three hours\", \"It was bound to happen that I'd end up at your\", \"I temporarily forgot there's better days to come\", 'I thought that I would give it just one more chance', \"Cos' I want, tonight, what I've been waiting for\", \"But I found, tonight, what I'd been warned about\", 'You think that you are complicated, deep mystery to all', \"Well it's taken me a while to see, you're not so special\", 'All energy no meaning, with a lot of words', 'So paper thin that one real feeling, could knock you down', \"And I've seen, tonight, what I'd been warned about\", \"I'm gonna leave, tonight, before I change my mind\", 'So see you when your 40, lost and all alone', \"being comforted by strangers you'll never need to know\", 'not sad because you lost me', 'but sad because you thought it was cool to be sad', 'You think misery will make you stand apart from the crowd', \"well if you had walked past me today I wouldn't have picked you out\", \"I wouldn't have picked you out\", \"Now I've seen, tonight, how could I waste my time?\", \"and I'll be on my way, and I won't be back\", \"cos I've seen, tonight, what I've been warned about\", \"your just a boy, not a man, and I'm not coming back\"]\n",
      "['\"Don\\'t Leave Home\" lyrics', 'Dido Lyrics', '\"Don\\'t Leave Home\"', \"Like a ghost don't need a key\", \"Your best friend I've come to be\", \"Please don't think of getting up for me\", \"You don't even need to speak\", \"When I've been here for just one day\", \"You'll already miss me if I go away\", 'So close the blinds and shut the door', \"You won't need other friends anymore\", \"Oh don't leave home, oh don't leave home\", \"If you're cold I'll keep you warm\", \"If you're low just hold on\", \"'Cause I will be your safety\", \"Oh don't leave home\", 'I arrived when you were weak', \"I'll make you weaker, like a child\", 'Now all your love you give to me', 'When your heart is all I need', \"Oh don't leave home, oh don't leave home\", \"If you're cold I'll keep you warm\", \"If you're low just hold on\", \"'Cause I will be your safety\", \"Oh don't leave home\", 'Oh how quiet, quiet the world can be', \"When it's just you and little me\", 'Everything is clear and everything is new', \"So you won't be leaving, will you?\", \"If you're cold I'll keep you warm\", \"If you're low just hold on\", \"'Cause I will be your safety\", \"Oh don't leave home\", \"'Cause I will be your safety\", 'And I will be your safety', 'And I will be your safety', \"Oh don't leave home\"]\n",
      "['\"Who Makes You Feel\" lyrics', 'Dido Lyrics', '\"Who Makes You Feel\"', \"I don't touch you the way I used to\", \"I don't call and write when im away\", \"We don't make love as often as we did do\", \"what couldn't wait now waits and usually goes away\", 'But listen and think when I say it', 'Oh but listen and think when I say it', 'Who makes you feel the way that I make you feel', 'Who loves you and knows you the way I do', 'Who touches you and holds you quite like I do', 'Who makes you feel like I make you feel', \"I don't mind if you come home late\", \"I don't ever ask you where you've been\", \"I just assume there's a problem will you tell me\", 'But listen and think when I say it', 'Oh but listen and think when I say it', 'Who makes you feel the way that I make you feel', 'Who loves you and knows you the way I do', 'Who touches you and holds you quite like I do', 'Who makes you feel like I make you feel', 'Who makes you feel like I make you feel', 'Who makes you feel like I make you feel', 'Being weak when I am strong', 'Being seen, who you are', \"Being sad and love's not alone\", 'But listen and think when I say it', 'Oh but listen and think when I say it', 'Who makes you feel the way that I make you feel', 'Who loves you and knows you the way I do', 'Who touches you and holds you quite like I do', 'Who makes you feel like I make you feel']\n",
      "['\"Sand In My Shoes\" lyrics', 'Dido Lyrics', '\"Sand In My Shoes\"', \"Two weeks away feels like the whole world should've changed\", \"But I'm home now\", 'And things still look the same', \"I think I'll leave it till tomorrow to unpack\", 'Try to forget for one more night', \"That I'm back in my flat on the road\", 'Where the cars never stop going through the night', \"To a life where I can't watch the sun set\", \"I don't have time\", \"I don't have time\", '[Chorus:]', \"I've still got sand in my shoes\", \"And I can't shake the thought of you\", 'I should get on, forget you', 'But why would I want to', 'I know we said goodbye', \"Anything else would've been confused\", 'But I wanna see you again', \"Tomorrow's back to work and down to sanity\", 'Should run a bath and then clear up the mess I made before I left here', 'Try to remind myself that I was happy here', 'Before I knew that I could get on the plane and fly away', 'From the road where the cars never stop going through the night', 'To a life where I can watch the sun set', 'And take my time', 'Take all our time', '[Chorus]', 'I wanna see you again', 'I wanna see you again', \"Two weeks away, all it takes to change and turn me around, I've fallen\", 'I walked away and never said that I wanted to see you again', '[Chorus x2]', 'I wanna see you again', 'I wanna see you again']\n",
      "['\"Do You Have A Little Time\" lyrics', 'Dido Lyrics', '\"Do You Have A Little Time\"', \"If you're feeling low and lost today\", \"You're probably doing too much again\", 'You spend all your hours just rushing around', 'Do you have a little time', 'Do you have a little time for me?', \"Slow down my love you're confusing me\", \"If you're feeling stressed just try calling\", 'You spend your time waiting for anyone to see', 'Do you have a little time', 'Do you have a little time for me?', 'If you should stop for a while', 'You will find me standing by', 'Over here at the side of your life', \"I'd like to hold you still, remind you of all you've missed\", 'If you have a little time', 'If you have a little time that is', 'Why do you still run when you could walk with me', 'Life will pass you by when you move as quickly', \"What can you see when you're spinning around\", 'Do you have a little time', 'Do you have a little time for me', 'If you should stop for a while', 'You will find me standing by', 'Over here at the side of your life', \"I like to hold you still, remind you of all you've missed\", 'If you have a little time', 'If you have a little time that is', \"If you let me listen I'll make you feel clear\", 'You spend your time waiting for anyone to see', 'If you should stop for a while', 'You will find me standing by', 'Over here at the side of your life', \"I'd like to hold you still, remind you of all you've missed\", 'If you have a little time', 'If you have a little time that is', 'If you should stop for a while', 'You will find me standing by', 'Over here at the side of your life', \"I'd like to hold you still, remind you of all you've missed\", 'If you have a little time', 'If you have a little time that is']\n",
      "['\"This Land Is Mine\" lyrics', 'Dido Lyrics', '\"This Land Is Mine\"', 'From behind these walls I hear your song', 'Oh, sweet words', 'The music that you play lights up my world', 'The sweetest that Iâ\\x80\\x99ve heard', 'Could it be that Iâ\\x80\\x99ve been touched and turned', 'Oh Lord, please finallyâ\\x80¦finally things are changing', '[Chorus:]', 'This land is mine but Iâ\\x80\\x99ll let you rule', 'I let you navigate and demand', 'Just as long as you knowâ\\x80¦this land is mine', 'So find your home and settle in', 'Ohhh, Iâ\\x80\\x99m ready to let you in', 'Just as long as we knowâ\\x80¦this land is mine', 'After all the battles and the wars', 'The scars and loss', 'Iâ\\x80\\x99m still the queen of my domain', 'and feeling stronger now', 'The walls are down a little more each day', 'Since you came, finallyâ\\x80¦finally things are changing', '[Chorus]', 'Follow the days Iâ\\x80\\x99ve travelled alone', 'In this cold and colorless place till now', 'Itâ\\x80\\x99s what I had to pay', '[Chorus]', 'This land is mine and I let you rule', 'I let you navigate on demand', 'Just as long as you knowâ\\x80¦this land is mine']\n",
      "['\"See The Sun\" lyrics', 'Dido Lyrics', '\"See The Sun\"', \"I'm comin' 'round to open the blinds\", \"You can't hide here any longer\", 'My God you need to rinse those puffy eyes', \"You can't last here any longer\", \"And yes they'll ask you where you've been\", \"And you'll have to tell them again and again\", \"And you probably don't want to hear tomorrow's another day\", \"Well I promise you you'll see the sun again\", \"And you're asking me why pain's the only way to happiness\", \"And I promise you you'll see the sun again\", 'Come on take my hand', \"We're going for a walk, I know you can\", \"You can wear anything as long as it's not black\", \"Please don't mourn forever\", \"She's not coming back\", \"And yes they'll ask you where you've been\", \"And you'll have to tell them again and again\", \"And you probably don't want to hear tomorrow's another day\", \"Well I promise you you'll see the sun again\", \"And you're asking me why pain's the only way to happiness\", \"And I promise you you'll see the sun again\", \"And I promise you you'll see the sun again\", 'Do you remember telling me you found the sweetest thing of all', 'You said one day this was worth dying for', 'So be thankful you knew her at all', \"But it's no more\", \"And you probably don't want to hear tomorrow's another day\", \"Well I promise you you'll see the sun again\", \"And you're asking me why pain's the only way to happiness\", \"And I promise you you'll see the sun again\", \"And I promise you you'll see the sun again\", \"And I promise you you'll see the sun again\", \"And I promise you you'll see the sun again\", \"I promise you you'll see the sun again\", 'See the sun again', 'See the sun again', 'See the sun again', 'See the sun again', 'See the sun again', 'See the sun again', 'See the sun again', 'See the sun again']\n",
      "['\"Closer\" lyrics', 'Dido Lyrics', '\"Closer\"', 'So leave your taxi waiting', 'And turn and close my door', 'And sit back down where you were sitting', 'A little closer than before', 'And when you look that serious', 'It just makes me want you more', \"And I've been meaning to tell you\", 'The closer you get, the better I feel', 'The closer you are, the more I see', 'Why everyone says that I look happier', \"When you're around\", 'The closer you get, the better I feel', \"And yes I know you're nervous\", 'Never seen you so unsure', \"You haven't touched your food tonight\", \"And you're drinking more and more\", \"And there's no need to hurry\", \"Take your time I'll still be here\", \"And I've been meaning to tell you\", 'The closer you get, the better I feel', 'The closer you are, the more I see', 'Why everyone says that I look happier', \"When you're around the better I feel\", 'The closer you get, the better you see', 'The closer you are, the more I see', 'Why everyone says that I look happier', \"When you're around\", 'The closer you get, the better I feel', 'The better I feel', \"We've been circling for time baby\", \"We're coming down to land tonight\", \"The wait is over and now it's easy\", \"Everything's fine\", 'The closer you get, the better I feel', 'The closer you are, the more I see', 'Why everyone says that I look happier', \"When you're around, the better I feel\", 'The closer you get, the better you see', 'The closer you are, the more I see', 'Why everyone says that I look happier', \"When you're around\", 'The closer you get, the better I feel']\n",
      "['\"Don\\'t Believe In Love\" lyrics', 'Dido Lyrics', '\"Don\\'t Believe In Love\"', 'I wanna go to bed', 'With arms around me', 'But wake up on my own', 'Pretend', \"That I'm still sleeping\", \"Til' you go home\", 'Oh', \"I can't look at you\", 'This morning', 'I should probably have a sign', 'That says', \"'Leave right now or quicker'\", \"You've overstayed your time\", \"If I don't believe in love\", 'Nothing will last for me', \"If I don't believe in love\", 'Nothing is safe for me', \"When I don't believe in love\", \"You're too close to me\", \"And that's why\", 'You have to leave', 'Maybe I slept peaceful', 'On your shoulder', 'Your arm warm around my side', \"But it's different now\", \"It's morning\", \"And I can't face your smile\", 'The second that I feel', 'Your safe hands', 'Reaching out for mine', 'I slip away and out of sight', \"You've ovestayed your time\", \"If I don't believe in love\", 'Nothing is good for me', \"If I don't believe in love\", 'Nothing will last for me', \"When I don't believe in love\", 'Nothing is new for me', 'Nothing is wrong for me', 'And nothing is real for me', \"When I don't believe in love\", 'Why do you care for me?', \"When I don't believe in love\", 'Nothing is real for me', \"If I don't believe in love\", \"You're getting to close to me\", \"And that's why you have to leave\", \"And that's why you have to leave\", \"If I don't believe in love\", \"If I don't believe in love\", \"If I don't believe in love\", 'Nothing is left for me', \"If I don't believe in love\", \"You're too good for me\"]\n",
      "['\"Quiet Times\" lyrics', 'Dido Lyrics', '\"Quiet Times\"', 'Ask me where I go tonight I go back to today last year.', 'Me and you had to make each other happier, now theres hope with everything.', 'Its hard enough to feel the world as it is and hold on anything.', \"Without these quiet times you've brought round here.\", 'Im Gonna have to run away, im sure that I belong some other place.', \"I've seen another side of all I've seen it keeps me wondering where my family is.\", 'Its hard enough to see the world as it is, and hold on anything.', 'Without these quiet times coming round here.', 'Now I miss you...', 'Now I want you...', \"But I can't have you...\", 'Even when your here...', \"Suppose I have to take you with me, broken mind I'd rather leave you here.\", \"To forget everything you've seen and known erase every idea.\", 'And you walk up in the street, and hold my hand and smile.', \"Well I won't be taken in, cus I know how it turns out.\", 'And it takes me back to these quiet times coming round here.', 'Now I miss you...', 'Now I want you...', 'Your not coming back...', 'And I need you...', \"But I can't have you...\", 'Even when your here...', 'Now I miss you...', 'Now I want you...', 'Your not coming back...', 'And I need you...', \"But I can't have you...\", 'Even when your here...']\n",
      "['\"Never Want To Say It\\'s Love\" lyrics', 'Dido Lyrics', '\"Never Want To Say It\\'s Love\"', 'I could put it down to being tired,', 'Or coming home to an empty house,', 'A passing moment,', 'A little man -', 'No one around to stop me writing to you.', \"I never wanna say it's love\", \"But it's really what I'm thinking of\", 'I could apologize,', \"And say 'tear it up,\", \"And put it down to the pills I've taken'\", 'Seeing my friends with their lives moved on', \"Well I've been gently drifting\", \"I never wanna say it's love\", \"But it's really what I'm thinking of\", 'I felt the same today', 'As I was feeling yesterday', \"It'll be the same tomorrow\", 'From an only one change', \"I never wanna say it's love\", \"But it's really what I'm thinking of\", 'My home is home', \"And I'm settled now\", \"I've made it through the restless phase\", 'I have no reason to get bored anymore', 'My friends are around and your name comes up', 'Asking if I ever heard from you', \"I'm keeping it quiet about those words to you\", 'But I meant every word that I said', 'I stand by every word that I said', \"I never wanna say it's love\", \"But it's really what I'm thinking of\", 'I felt the same today', 'As I was feeling yesterday', \"It'll be the same tomorrow\", 'From an only one change', \"I never wanna say it's love\", \"But it's really what I'm thinking of\", 'I felt the same today', 'As I was feeling yesterday', \"It'll be the same tomorrow\", 'From an only one change', \"I never wanna say it's love\", \"But it's really what I'm thinking of\", \"I never wanna say it's love\", \"But it's really what I'm thinking of\", \"I never wanna say it's love\", \"But it's really what I'm thinking of\"]\n",
      "['\"Grafton Street\" lyrics', 'Dido Lyrics', '\"Grafton Street\"', 'No more trips to Grafton Street,', \"No more going' there,\", 'To see you lying still,', 'While we all come and go.', 'No more watching sunsets,', \"It seems like summer's holding on.\", 'And no more standing quietly at your window.', 'No more driving down your road,', \"Wondering when you'll be home.\", 'And no more peace when they all leave', 'And leave us two alone.', 'And time we always lose is finally found here with you.', \"My love, I know we're losing but I will stand here by you.\", 'No more calling friends from the car saying \"I don\\'t know when,', 'I\\'ll be there but I\\'ll do my best to come.\"', 'No more letting you warm my hands,', 'No more trying to take it in.', 'And no more saying \"goodbye for the last time again\"', 'And no more saying \"goodbye for the last time again\"', 'And time we always lose is finally found here with you.', \"My love, I know you're leaving but I will stand here by you.\", 'No more trips to Grafton Street,', \"No more going' there,\", 'No more sitting up all night,', 'Waiting for any word.', \"Nothing's left that's safe here now,\", 'Nothing will bring you home', 'Nothing can bring us the peace', 'We had in Grafton Street.']\n",
      "['\"It Comes And It Goes\" lyrics', 'Dido Lyrics', '\"It Comes And It Goes\"', \"Some days I wanna, and some days I don't\", \"Sometimes I can feel it and suddenly it's gone...\", \"Some days I can tell you the truth and some days I just don't\", 'Only a change of mood sun goes down some one says something to quick or to soon', \"A touch not made one made to late army's of words can not hope to contain...\", 'Then It Comes And It Goes.', 'And I have no control.', \"Some days I can think clear and some days I won't\", \"Sometimes I can feel it and suddenly it's gone...\", 'Some days I am strong and some days my skins broken and thin', \"That's when it feels and it takes what it needs and it leaves before I get to know\", \"Its only a step away moments that army's of words can not hope to contain...\", 'Then it comes and it goes.', \"And I can't make it home.\", 'And theres nothing at home.', 'And it breaks me when it goes.', \"Some days I wanna, and some days I don't\", 'Sometimes I can feel it and suddenly its gone...', \"Some days I can tell you the truth and some days I just don't\", 'Only a change of mood dream comes out some one tells something to quick or to soon', \"A move not made one made to late army's of words can not hope to contain...\", 'Then it comes and it goes.', 'And I seem to hope', 'And theres nothing at home.', 'And it breaks me when it goes.']\n",
      "['\"Look No Further\" lyrics', 'Dido Lyrics', '\"Look No Further\"', 'I might have been a singer', 'Who sailed around the world?', 'A gambler who wins millions', 'And spent it all on girls', 'I might have been a poet', 'Who walked upon the moon?', 'A scientist who would tell the world', 'I discovered something new', 'I might have loved a king', 'Been the one to end a war', 'A criminal who drink Champaign', 'And never could be caught', 'But among your books', 'Among your clothes', 'Among the noise and fuss', \"I've let it go\", \"I can't stop and catch my breathe\", 'And Look No further for happiness', 'And I will not turn again', \"'Cause my heart has found its home\", \"Everyone I'll never meet\", \"And friends I won't now make\", 'The adventures that they could have been', \"And the risks I'll never take\", 'But Among Your Books', 'Among your clothes', 'Among the noise and fuss', \"I've let it go\", \"I can't stop and catch my breathe\", 'And Look No further for happiness', 'And I will not turn again', \"'Cause my heart has found its home\"]\n",
      "['\"Us 2 Little Gods\" lyrics', 'Dido Lyrics', '\"Us 2 Little Gods\"', 'Walking home, burnt and red', '\"Sticky thin\" he said', 'Let us go down in the woods', '\"Can you be careful?\" she said', 'Us 2 little gods with the world at our feet', '\"Sticky thin, how you\\'ve grown?\" They said', '\"You\\'ll never fit in your long white dress', 'When\\'s he going to try and get a job?\"', '\"I\\'m thankful for what we\\'ve got\" She said', 'Us 2 little gods with the world at our feet', 'Just in this life, I need no other', 'Just this day, I need no more', 'Just this moment, let it all stop here', \"Let it all stop here I've had my fill.\", '\"Summers here, early again', \"Let's take the kid and go and celebrate\", 'Drinking beer, moon on the left', 'And there\\'s the sun, hold my hand\" He said', 'Us 3 little gods, with the world at our feet', 'Just in this life, I need no other', 'Just this day, I need no more', 'Just this moment, let it all stop here', \"Let it all stop here I've had my fill.\"]\n",
      "['\"The Day Before The Day\" lyrics', 'Dido Lyrics', '\"The Day Before The Day\"', \"Speeches won't be made today, clocks will carry on\", \"Flowers won't be left in parks, work will still be done\", \"People won't be dressed in black, babies will be born\", 'No flags will fly, the sun will rise', 'But we know that you are gone', 'You who love to love and believed we can never give enough', 'It wakes me every single night, thinking through the day', 'Did you stop at any time have doubts at any stage', 'Were you calm or were you numb or happy just to get it done', \"I've lived my life without regret until today\", 'You who love to love and believed we can never give enough', \"I didn't get to say goodbye the day before the day\", \"Was trying to get to work on time, that's why I turned away\", \"And missed the most important thing you've ever tried to say\", \"I've lived my life without regret until today\", 'You who love to love and believed we can never give enough', 'And you who hoped that underneath we all felt the same', 'That was until the day before the day']\n",
      "['\"Let\\'s Do The Things We Normally Do\" lyrics', 'Dido Lyrics', '\"Let\\'s Do The Things We Normally Do\"', \"Let's pretend that we'll be here tomorrow\", \"And I'll try for you to be a little more on time\", \"I know you need to say you know you've let me down\", \"But you haven't and it's hard to talk with people all around\", \"Please don't say how proud you are\", 'Lets do the things we normally do', \"I'll say see you later\", \"You'll sing a line or two\", 'From your rebel songs sung out of tune', \"Don't hold my hand for longer than you need to\", \"Lets forget that we're here and make some plans\", \"We'll go for walks\", 'Sit on the bench we always sat', \"I'll tell you every little detail of my day and so will you\", \"Don't try to stay awake\", \"I'm feeling tired too\", 'This is just another day', \"Let's do the things we normally do\", \"I'll say see you later you'll sing a line or two\", 'From your rebel songs sung out of tune', \"Don't hold my hand for longer than you need to\", 'Armored cars and tanks and guns came to take away our sons', \"And everybody's stood behind\", 'The man behind the wire', \"There's a fight to love\", 'A fight to have', \"Your bed's a battlefield and back\", 'And all of this will just be stripped away', \"Let's do the things we normally do\", \"I'll say see you later you'll sing a line or two\", 'From your rebel songs sung out of tune', \"Don't hold my hand for longer than you need to\", \"Don't look me in the eye more than you need to\", \"Don't try to say goodbye if I don't want to\", \"Don't say how proud you are\", \"And say I'm far away\", 'and take along your', 'and say a word', 'and I can say fade away']\n",
      "['\"Burnin\\' Love\" lyrics', 'Dido Lyrics', '\"Burnin\\' Love\"', 'I found no peace', \"In the lies that I've told,\", \"I'm only hurt by the blows that get withheld\", 'The sharper I get cut', 'The harder I get held', 'More that I believe', 'That you will come to me', \"Without you I've been burnin' love\", 'Whao-ao', \"You're the one that I've been calling for\", 'Whao-ao', \"Without you I've been burnin' love\", 'Whao-ao', \"You're the one that I've been calling for\", 'I found no peace', \"In the lies that I've told,\", \"I'm only hurt by the blows that get withheld\", 'The sharper I get cut', 'The harder I get held', 'More that I believe', 'That you will come to me', \"Without you I've been burnin' love\", 'Whao-ao', \"You're the one that I've been calling for\", 'Whao-ao', \"Without you I've been burnin' love\", 'Whao-ao', \"You're the one that I've been calling for\", \"'Bout you I've been burnin' love\", 'Whao-ao', \"You're the one that I've been calling for\", \"Without you I've been burnin' love\", 'Whao-ao', \"You're the one that I've been calling for\", 'Whao-ao', \"Without you I've been burnin' love\", 'Whao-ao', \"You're the one that I've been calling for\"]\n",
      "['\"Northern Skies\" lyrics', 'Dido Lyrics', '\"Northern Skies\"', '\"I have returned to the northern skies\"', 'I have returned to the northern skies,', 'Where the summer had not touched', 'The clouds that pass above.', 'Oh, and I have returned to the somber grace', 'Of the days too early to come and too early to stay.', 'And I have left a million stars,', 'And an ocean so lightly, so clearly blue.', 'And I have left the warmth of the sun', 'And a million adventures not yet begun.', 'The great sense of passing through,', 'The great sense of passing through,', 'The great sense of passing through.', 'Oh, for once there was beauty here for me', 'Under these white, northern skies.', 'I felt the green was blacker', 'And the blue was darker still.', 'My roots are lying deeper than I ever think they will again.', 'Heartache and poverty under these northern skies.', 'The great sense of passing through,', 'The great sense of passing through,', 'The great sense of passing through']\n",
      "['\"For One Day\" lyrics', 'Dido Lyrics', '\"For One Day\"', 'If I had the chance for just one day with you', 'One day release from here and all that you go through', \"Well I'd get you dressed and I'd get you out\", \"And I know you'd be fine as soon as we broke out\", \"So please just for one day I wouldn't talk for you\", \"You'd tell me what to say, you'd show me what to do\", \"And please just for one day I'd see you walk again\", \"And we'd go hand in hand so far we can't go back\", \"I'd do anything I could do for this one more day with you\", \"Away from all these wires and tubes they've stuck on you\", \"And I would buy you an early beer, we'd watch the game\", \"And we'd talk of all friends and of work and heartbreak\", \"You'd ask me who you'd need to kill to make it ok again\", \"But laughing about it'd make it small anyway\", \"So please just for one day I wouldn't guess for you\", \"You'd tell me what you felt and what you want to do\", \"And please just for one day I wouldn't hide from you\", \"You wouldn't see me try keep all of you from you\", \"So please just for one day I wouldn't talk for you\", \"You'd tell me what to say, you'd show me what to do\", \"And please just for one day I'd see you walk again\", \"And we'd go hand in hand so far we can't go back\", \"I won't cry for you, cos I will wait until\", 'I have this day with you']\n",
      "['\"Summer\" lyrics', 'Dido Lyrics', '\"Summer\"', 'We can make it rain again', \"I'd feel like I belong\", \"Let's make it cold again\", \"I'm not ready and it's wrong\", 'We can put the outdoor chairs back in and lock the door', 'Go back to walking all heads down and put our coats back on', \"The summer's come too soon and I'm still missing you\", 'We can stay at home and draw the blinds and light a fire', 'Pull the covers high and go to sleep early for hours', \"Don't want to be too hot and there's no way to cool down\", \"Don't want to sit outside all night or even leave the house\", \"The summer's come too soon and I'm still missing you\", \"I don't want to sit and drink in parks and watch the sun go down\", \"Don't want to put my feet in water and lie back in the grass\", \"I don't want to watch the plains go by or hold anybody's hand\", \"The summer's come too soon and I can't come back to you\", \"The summer's come too soon and I'm still missing you\", 'And if the sun would go down', 'Stop reminding us how', 'If we ever had a chance', \"I don't by now\"]\n",
      "['\"No Freedom\" lyrics', 'Dido Lyrics', '\"No Freedom\"', 'Take it by your silence', \"That I'm free to walk out the door\", 'By the look in your eyes I can tell', \"You don't think I'll be back for more\", 'Try to think of the world', 'Where you could stay and these safe hands could go', 'Take your heart above the water', 'Wherever I choose to go', 'No love without freedom', 'No love without freedom', 'No love without freedom', 'No freedom without love', \"Even when you don't see me\", \"Even when you don't hear\", \"I'll be flying low below the sun\", \"And you'll feel it all out here\", 'No love without freedom', 'No love without freedom', 'No love without freedom', 'No freedom without love', 'No love without freedom', 'No love without freedom', 'No love without freedom', 'No freedom without love', 'Standing here in silence', 'The world in front of me', 'Holding you in my hand', \"And seeing as you'd see\", 'No love without freedom', 'No love without freedom', 'No love without freedom', 'No freedom without love', 'No freedom without love']\n",
      "['\"Girl Who Got Away\" lyrics', 'Dido Lyrics', '\"Girl Who Got Away\"', 'I wanna move with the seasons', 'And go with the flow', 'And take it easy', 'And let stuff go', 'I wanna sleep like a baby', 'Rise with the sun', 'And kick it all back', 'And get nothing done', 'I wanna make this day', 'The longest day', 'With a warmth that', 'Delivers happiness', 'If only for today', 'I wanna be', 'The girl who got away', 'The lover who really loved', 'The dancer who danced', 'To the last song', \"Don't wanna take sides\", \"Don't wanna make sense\", 'Of pounds and pence', 'I want to be alone', \"I don't wanna hide\", \"Don't wanna be talked over\", 'Or walked upon', 'I wanna think the heart', 'Is bigger than the head', 'Wanna follow you', 'But not be led', 'If only for today', 'I wanna be', 'The girl who got away', 'The lover who really loved', 'The dancer who danced', 'To the last song', \"I know what it's like\", 'To be passed over', 'To go unnoticed', 'To be clumsy get things wrong', \"And I know what it's like\", 'To arrive too late', 'To be told to leave', 'To be walked upon', 'If only for today', 'I wanna be', 'The girl who got away', 'The lover who really loved', 'The dancer who danced', 'To the last song', '[x2]']\n",
      "['\"Let Us Move On\" lyrics', 'Dido Lyrics', '\"Let Us Move On\"', '(feat. Kendrick Lamar)', \"Don't wrap it up and go or hide it behind the sun\", 'Just give it to me as it is', 'And let it stand', \"Don't fly it like a kite... between the clouds\", 'It needs no excuse, just bring it down', 'Let us that are in pain look upon it', \"In all it's glory\", 'Let us move on, Let us move on', 'This is short and it will pass', 'Let us move on, Let us move on', 'For this is short, and it will pass', 'Every voice that is lifted', 'River and some pain', 'Show us now, and let love not be chained', 'We should feel what we can stand, let us be alive', \"Show enough, and we've done, now we can\", 'Let us that are frozen get to see', \"In all it's glory\", 'Let us move on, Let us move on', 'For this is short and it will pass', 'Let us move on, Let us move on', 'For this is short, and it will pass', 'And let all that is lost be forgotten', 'And it will pass', 'So let all that is lost be forgotten', 'Let us move on', '[Kendrick Lamar:]', 'Like the waters in the open sea', 'When tribulation come over you say yes hopefully', \"And yesterday you could probably say there's no hope for me\", \"But today I'm overly dedicated\", \"I'm posed to be testimony for broken hearts in the city\", \"You're either crash landing or planning on flyin' with me\", 'Misery love standing behind his company,', 'Well, vividly I could see that your feelings would like to dwell', 'On our past encounters, reaching over the counter', \"Told me that it's appealing to pop a pill less or down now\", 'I heard emotions burn deep', 'I heard when you fall out of love, the drop is steep', \"I heard when you see a dove that's what you try to be\", \"Got these burdens under my wings but I'm still free\", 'Cause I can make the decision to let it all go away', 'Before I ever run astray, I looked you in the eye and say', 'Let us move on, Let us move on', 'For this is short and it will pass', 'Let us move on, Let us move on', 'For this is short, and it will pass', 'Let us move on, Let us move on', 'For this is short and it will pass', 'Let us move on, Let us move on', 'For this is short, and in the past', 'And in the past']\n",
      "['\"Blackbird\" lyrics', 'Dido Lyrics', '\"Blackbird\"', 'He put the coffee in the cup and with milk he filled it up', 'He added sugar and I never knew he liked it like that', 'He took his coat from the hook and his scarf and his hat', \"And he put down a key and said I won't be needing that\", 'And he turned and smiled as if that explained it all', 'And he walked down the hall and he opened the door', \"And said of course I'll call\", 'Heart, why do I bring you love', 'When all you give me back is pain?', 'Heart, why do we search it out', 'To watch you wash your hands and walk away?', \"Now there's a black black blackbird in my chest\", 'All a flutter, and all caged in', 'Wanting to break free with the wolves in my head', 'Who tear at every wise thing I should have said', 'Heart, why do I bring you love', 'When all you give me back is pain?', 'Heart, why do we search it out', 'To watch you wash your hands and walk away?', \"We're not the strangers we were\", 'When we first met', 'But the kind of strangers at the end', 'And all that remains is a day without plans', \"Where I won't be missed, another handful of sand\", 'Heart, why do I bring you love', 'When all you give me back is pain?', 'Heart, why do we search it out', 'To watch you wash your hands and walk away?', '[x2]']\n",
      "['\"End Of Night\" lyrics', 'Dido Lyrics', '\"End Of Night\"', \"Only now it's gone\", 'I can see the year', 'See it for what it was', 'And start another day', 'All the liberty you took', 'The love that you abused', 'The friends that you turned', 'Against me if you could', \"And you're twisting what I say\", 'All that saying you were scared', \"It doesn't matter anymore\", \"Cause I'm not there\", 'You were careless when the beat kicked in', 'And careless when it left', 'And careless all the way', \"I didn't see it till the end\", 'I feel nothing', 'When you cry', 'I hear nothing', 'See no need to reply', 'I can smile now', 'And turn away', 'Come over here', 'So you can see me walk away', 'And celebrate', 'The end of night', '[x4]', 'It only takes one lie', 'To bring this house down', 'Behind closed doors', 'No one tells the first time round', 'Pain is worse when', 'You bring it on yourself', 'The sweetest bully building', \"A love that couldn't last\", 'You were ugly when the beat kicked in', 'And ugly when it left', 'And ugly all the way,', \"I didn't see it till the end\", 'I feel nothing', 'When you cry', 'I hear nothing', 'See no need to reply', 'I can smile now', 'And turn away', 'Come over here', 'So you can see me walk away', 'And celebrate', 'The end of night', '[x8]', 'After the fall comes love', 'I hate to hate and I love to love', '[x2]', 'I feel nothing', 'When you cry I hear nothing', 'See no need to reply', 'I can smile now', 'And turn away', 'Come over here', 'So you can see me walk away', 'And celebrate', 'The end of night', '[x8]']\n",
      "['\"Sitting On The Roof Of The World\" lyrics', 'Dido Lyrics', '\"Sitting On The Roof Of The World\"', 'I climbed a mountain', 'Not knowing that I had', 'Thought it was just a road from a to b', 'I took no protection', 'Not much of anything', 'Just went as I was', 'Looking in windows', 'And playing songs', 'And knocking on doors', 'I was not scared', 'I just enjoyed the sights', 'Kept myself to myself', 'There I was', 'Sitting on the roof of the world', 'There I was', 'There I was', 'Not knowing how I got there', 'Or how to leave', 'Everyone says I was lucky to have got there', 'As not many can', 'But truth be told I was saved', 'By the love', 'Of a good man', 'Who came and got me', 'And brought me down', 'From on up there', \"I'd be lying if I didn't say\", 'I missed it now and then', 'But I have no wish to go back there', 'There I was', 'Sitting on the roof of the world', 'There I was', 'With all the gods', 'Not knowing how I got there', 'Or how to leave', 'People say', \"What's so special about being back here\", 'With everyone so close', \"But that's the point\", \"I don't want to be different\", 'I just want to fit in', 'There I was', 'There I was', 'Sitting on the roof of the world', 'There I was', 'With all the gods', 'Not knowing how I got there', 'Or how to leave', 'Not knowing how I got there', 'Or how to leave', 'Not knowing how I got there', 'Or how to leave']\n",
      "['\"Love To Blame\" lyrics', 'Dido Lyrics', '\"Love To Blame\"', 'Helen of Troy was the kind of girl', 'Who really had it all', 'Not a care in the world but her head was turned', 'And forever changed', 'She said one love is lost but another is found', \"So just take the keys and let's just go, birds fly south\", 'Nothing ventured', 'Nothing gained', \"It's all about love\", \"So I'm not to blame\", \"I'm not to blame\", \"She said I've dotted my i's and I've crossed my t's\", 'Had time for friends when they needed me', 'I try to make sense of senseless things', 'Try to live how I believe', \"And of course I leave things behind that I'll regret\", \"But there's time enough for new things yet, for new things yet\", 'When the dust covers the sun', 'And all you hope for is undone', 'Will you turn and say', 'Nothing ventured', 'Nothing gained', 'It was all for love so love is to blame', 'Love is to blame', '[x7]', 'When the dust covers the sun', 'And all you hope for is undone', 'Will you turn and say', 'Nothing ventured', 'Nothing gained', 'It was all for love so love is to blame', 'Love is to blame', '[x2]', 'Love is to blame', '[x6]']\n",
      "['\"Go Dreaming\" lyrics', 'Dido Lyrics', '\"Go Dreaming\"', 'Another summer coming to an end', \"And I'm still walking on without a care\", 'And even if the birds have flown, the sun has gone', \"I'll still be here, here\", 'Oh, I want to walk with kings', 'Oh, and take a chance on things', 'And though I may give way to those who could cause me pain', 'And step aside to threats and bullies', 'I still believe, I still believe', \"I'd rather go dreaming, believing in something, better than in me\", \"I'd rather die loving, lost in the feeling of letting go\", \"I'd rather die caring, working for something, seeing it as good\", 'I can let it go, I can let it go', \"They're all flying flags and making noise\", 'Bringing on their speeches drinks and boys', \"But when they're gone I'll be standing here\", 'And picking up the mess they left', 'I still believe, I still believe', \"I'd rather go dreaming, believing in something, better than in me\", \"I'd rather die loving, lost in the feeling of letting go\", \"I'd rather die caring, working for something, seeing it as good\", 'I can let it go, I can let it go...', '[x2]']\n",
      "['\"Happy New Year\" lyrics', 'Dido Lyrics', '\"Happy New Year\"', \"I'll wear the jewels you gave me round my neck tonight\", \"Though I know you won't be there\", \"I'll wear them in a gold chain that catches in the light\", \"Though I know of course you won't appear\", \"I'll leave the party early after a drink or two\", \"And I'll check my phone for calls\", 'Though I know there will be none from you, from you', \"I'll walk home with snow falling\", 'Deep on frozen lawns', \"And I'll leave all those others celebrating\", 'All the things that they have done', \"I'll come over to your office and watch them come and go\", \"Though I know I won't see you there\", \"And I'll take a train down to the coast and sit and watch the sea\", \"I'll be sitting there alone\", 'As usual, above all things I miss you every day', 'Without pause', 'Happy new year my darling, happy new year', \"I'll walk home with snow falling\", 'Deep on frozen lawns', \"And I'll leave all those others celebrating\", 'All the things that they have done', 'Happy new year my darling, happy new year', \"(And I'll leave)\", 'Happy new year my darling, happy new year', \"(And I'll leave)\", 'Happy new year my darling, happy new year', \"(And I'll leave)\", 'Happy new year my darling, happy new year', \"(And I'll leave...)\"]\n",
      "['\"Loveless Hearts\" lyrics', 'Dido Lyrics', '\"Loveless Hearts\"', 'I can find the good news in anything', \"But without you, that's all gone\", \"No one could have told me how much I'd miss you\", 'And how soon the world moves on', 'How can they not hear me', 'When I say', \"Oh, we're not safe anymore\", 'Did loveless hearts build the world', 'Only to tear it apart', 'How did those gods tempt you to leave', 'Just when we needed you most', 'The sun will rise today as it did yesterday', \"And I'll keep on going too\", 'But every hour that I get through it breaks my heart', 'That I am losing more of you', 'Did loveless hearts build the world', 'Only to tear it apart', 'How did those gods tempt you to leave', 'Just when we needed you most', '[x2]']\n",
      "['\"Day Before We Went To War\" lyrics', 'Dido Lyrics', '\"Day Before We Went To War\"', 'All the pictures on the wall', 'The sand lying on the floor', 'The bed upstairs still unmade', 'The dust float in the light', 'The people just left', 'All laughter and mess', 'Forgetting this and that', 'And rushing back', 'The front door open', 'The music still playing in one room', 'Down the hall', 'Towels on the floor', \"And then it's quiet\", 'Just the bees and birds', 'The summer haze', 'Of the trees', 'And the air', 'Feeds it all', 'Feeds it all', 'We can all feel it', 'Like a light hand on your back', 'Welcoming you', 'We can all feel it', 'Like a light hand on your back', 'Welcoming you', 'The day before we went to war', 'The day before we went to war', 'We can all feel it', 'All the parasols and kids at play', 'The sea so still and calm', 'Blue as the cloudless sky', 'Just the gentle hum', \"Of the summer's goings on\", 'Broken by the sudden rush', 'Of two planes', 'Flying low and fast', 'Into the sun', 'Into the sun', 'We can all feel it', 'Like a light hand on your back', 'Welcoming you', 'We can all feel it', 'Like a light hand on your back', 'Welcoming you', 'The day before we went to war', 'The day before we went to war', 'We can all feel it', 'We can all feel it', 'Like a light hand on your back', 'Welcoming you', 'We can all feel it', 'Like a light hand on your back', 'Welcoming you', 'The day before we went to war', 'The day before we went to war', 'The day before we went to war']\n",
      "['\"All I See\" lyrics', 'Dido Lyrics', '\"All I See\"', '(feat. Pete Miser)', 'I thought it was done when I packed my bags and walked into the light', 'I picked the books I thought I should and closed the door behind', 'And when I handed back the keys I thought that I was free', 'No shame, no dirt, no surprises wait for me', \"I want to believe that where I began is not where I'll always be\", \"But you're all I see and I carry you with me\", \"You're all I see and I carry you with me\", 'Thought it was safe to assume once I locked up the room', \"That I'd be gone for good but I would be back soon\", \"Memories burned out still I'm smelling the fumes\", \"Melodies turned down still I'm singing the tunes\", 'Like a witch on a broom I wish I could fly fly away', 'Disappear into the ether find a hideaway', 'But the memories invade when I lie awake', \"Can't hide from yourself is what I'm trying to say\", 'And by the way what would I be without my past', 'Only find the right number when I doubt my math', 'Avoid blunders only after I recount my last', \"Setbacks that don't kill me just amount to laughs\", 'Anyway if I could turn back the hands of time', 'Would I change the events or change my mind', \"Wouldn't recognise myself without my doubts and fears\", 'Got a feeling all I need is all right here', \"And you're all I see and I carry you with me\", \"You're all I see and I carry you with me\", \"I've been told apples don't fall far from the tree\", \"I hope they're wrong when they're talking about me\", 'All I see are the ruins of a plan gone wrong', 'All I need is a reason to keep on and stay strong', \"Gotta couple old ghosts that won't leave me alone\", 'Even after moving three thousand miles from home', \"Thought I shook 'em when I hit Brooklyn wasn't even looking\", \"But they're putting their mark on everything I do\", 'Find a few quiet moments and they creep back through', 'Infiltrated my dreams and held my sleep back too', \"I don't know where I could go without them following me\", \"It seems everywhere I look they're all I see\", \"You're all I need\", \"You're all I need\", \"And you're all I see and I carry you with me\", \"You're all I see and I carry you with me\"]\n",
      "['\"Just Say Yes\" lyrics', 'Dido Lyrics', '\"Just Say Yes\"', 'If by chance, I saw you at first', 'First time there, there on the dance floor', 'I would put, my coat back down', \"I'd head for the door and I'd ask your name\", \"Just because, you've been there before\", \"And been burnt, don't walk away\", 'Well just say yes, why say no,', 'When you can say yes and just come home?', \"Just come here, don't step away\", \"Don't stop there, when you can be here\", 'Nothing is familiar, nothing stays the same', \"But it's OK\", 'Even if, you think you should walk', 'Before you can run and falling is wrong', 'Even if, if you believe', 'Fate conspires against you again', 'Well just say yes, why say no,', 'You can say yes and just come home', 'Just come here, why step away?', \"Don't stop there, when you can be here\", 'Nothing is familiar, nothing stays the same', \"But it's OK\", 'You should clear a space in your head', 'Kick out the lame, the lost and the dead', 'And who will know you and you', 'Are just bones and who,', 'Will care how beautiful you are', 'Well just say yes, why say no,', 'You can say yes and just come home', 'Just come here, why step away?', \"Don't stop there, when you can be here\", 'Nothing is familiar, nothing stays the same', \"But it's OK\", 'Nothing is familiar, nothing stays the same', \"But it's OK\"]\n",
      "['\"Let\\'s Run Away\" lyrics', 'Dido Lyrics', '\"Let\\'s Run Away\"', 'And before I start the day', 'I have a glimpse of how I used to feel', 'When we drove all night and laughed all day', 'Thinking nothing can go wrong', 'And now our hands are full and walking in the dark', \"I don't know what's below or what's above\", \"But it doesn't matter now\", \"Don't look back\", \"Don't look back\", \"Let's runaway\", \"Then tomorrow won't be the same\", \"Let's go away\", \"Then today won't feel the same\", \"Don't look up and don't look left or right\", \"Trust me now and we'll be fine\", \"I'll take your fear and send it out to sea\", \"And you'll forget every little thing you've seen\", \"And it doesn't matter now\", \"Don't look back\", \"Let's runaway\", \"Then tomorrow won't be the same\", \"Let's go away\", \"Then today won't feel the same\", \"Let's runaway\", \"Then tomorrow won't be the same\", \"Let's go away\", \"Then today won't feel the same\", \"Let's runaway\", \"Then tomorrow won't feel the same\", \"Won't feel the same\"]\n",
      "['\"Everything To Lose (Armin Van Buuren Remix)\" lyrics', 'Dido Lyrics', '\"Everything To Lose (Armin Van Buuren Remix)\"', 'Mhhhhhhmmmhhhhhmmmhhhmmm', 'I used to be so fearless so limitless and free', 'Happy on my own and nothing really bothered me.', 'I had desires to see the world, jump out of planes and fly', 'And I love to be alive but I was not afraid to die', 'Mhhhhhhmmmhhhhhmmmhhhmmm', 'I used to be so sure of things and self-contained', 'I could carry on with no need to explain', \"It didn't matter if I ever made it home\", 'Could go too fast, and drink all night and dance alone', 'I love to be alive but I was not afraid to die', 'I love to be alive but I was not afraid to die', 'Mhhhhhhmmmhhhhhmmmhhhmmm', 'I used to be so thoughtless, so easy and free', 'Could walk away, not think ahead, and had no plans to keep.', 'No hand to told, no one to bring down with me.', \"I wouldn't see the worst and it only hurts me.\", 'Whoooooaaaaaaaaaaaaa', 'I love to be alive but I was not afraid to die', 'Whoooooaaaaaaaaaaaaa', \"I've got everything to lose\", 'Whoooooaaaaaahhhhhhh', \"Since I've met you\", \"I've got everything to lose\", 'Whoooooaaaaaaaaaaaaa', \"Since I've met you\", 'Whooooooahhhhhhhhhh']\n",
      "['\"Lost\" lyrics', 'Dido Lyrics', '\"Lost\"', \"However long I'm under makes no difference\", \"However long I'm down there'll be air for me\", \"All I've had that's lost, that's gone it falls away\", \"And I'll come up in my time, there'll be no fear for me\", 'I walk down this easy path where shadows fall behind', 'And rest beneath the trees and wait for me', \"Lost's where I belong, lost's where I've gone\", \"Lost is my new home, lost's where I belong\", 'Usually darkness gets to me, this place is mine', 'No idea what led me to more peace than home', 'Dressed in blue she takes me through, no doubt for me', \"To follow right behind the sun is blind and I can't see\", \"Lost's where I belong, lost's where I've gone\", \"Lost is my new home, lost's where I belong\", \"Lost's where I belong, lost where I've gone\", \"Lost is my new home, lost's where I belong\", \"I can walk, with no end, nothing hurts, nothing's pain\", \"Nothing's missed, no one's gone, moved away, nothing's wrong.\", \"Lost where I belong, lost where I've gone\", 'Lost is where I belong']\n",
      "['\"Hurricanes\" lyrics', 'Dido Lyrics', '\"Hurricanes\"', 'I wanna wake up', 'With your weight by my side', 'And I wanna think that', 'You look good as you rise', 'And I wanna turn to you', 'Turn around by your side', 'And I wanna think', 'But not to say', 'Let me face', 'The sound and fury', 'Let me face', 'Hurricanes', 'And I wanna see you', 'As you walk through the door', 'And time will make us', 'Some ways less and some ways more', 'And I wanna talk of nothing', 'As the world passes by', 'And I wanna think', 'But not to say', 'Let me face', 'The sound and fury', 'Let me face', 'Hurricanes', 'Let me not turn away', 'From happiness or pain', 'Just not to run away', 'In my heart and in my head', 'Let me face', 'Hurricanes', 'Hurricanes', 'Hurricanes', 'Hurricanes', 'Hurricanes', 'Hurricanes', 'Let me face', 'The sound and fury', 'Let me face', 'Hurricanes', 'Let me face', 'The sound and fury', 'Let me face', 'Hurricanes', 'Hurricanes', 'Hurricanes', 'Hurricanes']\n",
      "['\"Give You Up\" lyrics', 'Dido Lyrics', '\"Give You Up\"', \"I'm not sitting with my head in my hands right now\", \"I don't care where you've been\", \"No, I ain't watching the clock or getting my phone out\", \"I won't drink myself to sleep\", 'Oh, oh', \"You don't, you don't get under my skin no more\", \"No, it's gone, it's gone\", \"I ain't thinking 'bout you no more\", 'I found a way to let you go', \"So you don't have to stay now\", 'A broken mind', 'I came close', \"But you can't rip my heart out\", \"I'm giving up\", \"I'm giving up\", \"I'll give you up\", 'I found a way to let you go', \"It's gonna rip your heart out\", 'Got your picture covering up the cracks on the wall', \"But the lines won't fade\", \"Didn't think that I would be missing you at all\", 'Maybe that was my mistake', 'Oh, oh', \"You don't, you don't get under my skin no more\", \"No, it's gone, it's gone\", \"I ain't thinking 'bout you no more\", 'I found a way to let you go', \"So you don't have to stay now\", 'A broken mind', 'I came close', \"But you can't rip my heart out\", \"I'm giving up\", \"I'm giving up\", \"I'll give you up\", 'I found a way to let you go', \"It's gonna rip your heart out\", 'Nothing you say will change my mind', \"You couldn't wait to leave me behind\", 'Nothing you say will change my mind', \"You couldn't wait to leave me behind\", 'Nothing you say will change my mind', \"You couldn't wait to leave me behind\", 'I found a way to let you go', \"So you don't have to stay now\", 'A broken mind', 'I came close', \"But you can't rip my heart out\", \"I'm giving up\", \"I'm giving up\", \"I'll give you up\", 'I found a way to let you go', \"It's gonna rip your heart out\"]\n",
      "['\"Hell After This\" lyrics', 'Dido Lyrics', '\"Hell After This\"', 'Get a room', 'Fall in love', 'Just for an afternoon', \"Lovin' goes too slow\", 'Light moves alone', 'A song that plays', 'Makes me miss', \"All that I've lost\", 'Till the sun goes down', 'And the lights go on', \"This feeling I'm fine\", \"Gone when you're gone\", 'Hell after this', \"Is gone when I'm home\", \"If I'm going to hell\", 'After this', \"I'm gonna enjoy it while I can\", \"I won't remember your face\", 'After this', \"I'm gonna enjoy it while I can\", 'Got a coin and a sun', 'Back in time', 'Looking up', 'Got the sky on my mind', 'Out at sea, get a drink', \"It's time for a change\", 'Feels like god is on my side', \"This feeling I'm fine\", \"Gone when you're gone\", 'Hell after this', \"Is gone when I'm home\", \"If I'm going to hell\", 'After this', \"I'm gonna enjoy it while I can\", \"I won't remember your face\", 'After this', \"I'm gonna enjoy it while I can\", \"If I'm going to hell\", 'After this', \"I'm gonna enjoy it while I can\", \"I'm gonna enjoy it while I can\", \"I'm gonna enjoy it while I can\"]\n",
      "['\"You Don\\'t Need A God\" lyrics', 'Dido Lyrics', '\"You Don\\'t Need A God\"', 'I can hear the music', 'Just a few notes from a passing car', 'And they can take me', 'With heart opening speed', 'To somewhere not here', \"I'm hell stuck still by a side of something\", 'Nothing much to see', 'But enough to catch me', 'Send me absolutely elsewhere', 'Take me absolutely right here', \"You don't need a god\", \"To pray I'm here\", \"You don't need a god\", 'To stay out here', \"You don't need a thing\", 'While we have', 'Right here', 'It can be one word', 'Or the smallest thing that only I see', \"It's like lightning\", 'And it changed the way I feel', 'And sends me absolutely elsewhere', 'And holds me absolutely right here', \"You don't need a god\", \"To pray I'm here\", \"You don't need a god\", 'To stay out here', \"You don't need a thing\", 'While we have', 'Right here', \"You don't need a god\", \"To pray I'm here\", \"You don't need a god\", 'To stay out here', \"You don't need a thing\", 'While we have', 'Right here', 'Right here', 'Right here']\n",
      "['\"Take You Home\" lyrics', 'Dido Lyrics', '\"Take You Home\"', 'Sun is hanging low across the street', \"As we're fighting, loving, talking in the heat\", \"We're all walking home barely\", \"Everyday we'll meet, everyday we'll meet, do the same\", 'I can sing you a song, take you home', \"But I can't seem to find my own\", 'I can sing you a song, take you home', \"But I can't seem to find my way home\", 'We could dance all night and sleep all day', 'Kiss and love and just walk away', 'Took pride in all the rules and disobey', \"Move so slow we didn't see a change\", 'I can sing you a song, take you home', \"But I can't seem to find my own\", 'I can sing you a song, take you home', \"But I can't seem to find my way home\", 'I can sing you a song, take you home', \"But I can't seem to find my own\", 'I can sing you a song, take you home', \"But I can't seem to find my way home\", \"But I can't seem to find my way home\", \"But I can't seem to find my way home\", \"But I can't seem to find my way home\", \"But I can't seem to find my way home\", \"But I can't seem to find my way home\"]\n",
      "['\"Some Kind Of Love\" lyrics', 'Dido Lyrics', '\"Some Kind Of Love\"', 'She found the records lying underneath the bed', 'All the songs she used to sing', 'All the songs she used to play', 'All those words, those melodies', 'And the promise of some kind of love', 'And the promise of some kind of love', 'When we lose what we love', \"Don't think anything will ever taste the same\", 'When we lose what we love', \"Don't think anything will ever feel as good again\", 'Now I know how much the anger', 'However much the pain', 'Destroy only enough that enough still remains of', 'Some kind of love, some kind of love', 'Some kind of love', 'Some kind of love, some kind of love', 'Some kind of love', \"The songs hadn't changed, every note just the same\", 'But when she played them once again', 'All those words, those melodies', 'Like better days past and gone, leaving her behind', 'With the promise of some kind of love', 'With the promise of some kind of love', 'When we lose what we love', \"Don't think anything will ever taste the same\", 'When we lose what we love', \"Don't think anything will ever feel as good again\", 'Now I know how much the anger', 'However much the pain', 'Destroy only enough that enough still remains of', 'Some kind of love, some kind of love', 'Some kind of love', 'Some kind of love, some kind of love', 'Some kind of love', 'Some kind of love', 'She put the records back in their place', 'And straightened her dress, and wiped her face', 'She closed and locked the door', 'And left them lying on the floor', 'And she sang', 'Mmmm, some kind of love', 'Some kind of love, mmmm', 'Mmmm, some kind of love', 'Some kind of love, mmmm', 'Mmmm, some kind of love', 'Some kind of love']\n",
      "['\"Still On My Mind\" lyrics', 'Dido Lyrics', '\"Still On My Mind\"', 'Rolling seas, endless roads', 'Heading into the sun', 'Big skies, bigger dreams', 'Enough for everyone', 'I was brave, free of love', 'I wanted to travel alone', 'We were born in the light', \"I'm sorry I remembered it wrong\", \"I'm sorry that I broke you down\", \"I'm sorry that I thought it through\", \"I'm sorry that I looked and run\", \"I couldn't keep up, good enough\", 'You were there when I needed you', 'And without a word', 'Stood at my back when I wanted you', 'Turned away when it hurt', 'You were there when I called for you', 'And I walked away', \"I've run so far, but you're still on my mind\", \"You're still on my mind\", 'The sun began to burn too bright', 'I saw myself in the light', 'I opened the door and lost the dream', \"And couldn't go back inside\", 'I took a road that led nowhere', \"I didn't know that then\", 'But I made my choice', \"Now I've gone too far\", 'To come back here again', \"I'm sorry that I let you down\", \"I'm sorry that I lost the way\", \"I'm sorry that I died and then came alive\", \"I couldn't keep up\", 'You were there when I needed you', 'And without a word', 'Stood at my back when I wanted you', 'Turned away when it hurt', 'You were there when I called for you', 'And I walked away', \"I've run so far, but you're still on my mind\", \"You're still on my mind\", 'You were there when I needed you', 'And without a word', 'Stood at my back when I wanted you', 'Turned away when it hurt', 'You were there when I called for you', 'And I walked away', \"I've run so far, but you're still on my mind\", \"You're still on my mind\"]\n",
      "['\"Mad Love\" lyrics', 'Dido Lyrics', '\"Mad Love\"', \"Let 'em tell us stories\", 'As we lie in the fields', 'And watch the birds soar above', \"Let 'em tell us of love and loss\", \"How we'll live and how we'll die\", 'Cos they say he once was', 'Somebody with a black suit', 'And good shoes', 'And a perfect smile', 'Who makes me want to ask', 'Was it in the mad loves', 'And the big fights', 'So was it in a small change', 'And the passing of day', 'So was it in the giving up', 'And the getting on', 'Oh, was it in the mad love', 'So was it in the mad love', 'So was it in the mad love', 'And the big fights', \"Let 'em tell us stories\", 'As we lie in the fields', 'And watch the clouds pass above', 'How paper burns and pictures fade', 'Only melody remains', 'And sure enough he laughs as if he knows', 'Makes me want to ask', 'Was it in the mad loves', 'And the big fights', 'So was it in the right words', 'At the right times', 'Was it in the giving up', 'And the moving on', 'Oh, was it in the mad love', 'So was it in the mad love', 'So was it in the mad love', 'So was it in the little things', 'We all want', 'We all want', 'We all want', 'Was it in the mad loves', 'And the big fights', 'So was it in the small change', 'And the passing of day', 'So was it in the giving up', 'And the getting on', 'Oh, was it in the mad love', 'So was it in the mad love', 'So was it in the mad love', 'So was it in the mad love', 'So was it in the mad love', 'And the big fights']\n",
      "['\"Walking By\" lyrics', 'Dido Lyrics', '\"Walking By\"', 'Keep me locked up, keep me shut in', 'You can but my mind still roams free', 'You can keep me caged', 'You can tell me to be quiet', 'But I remember everything', \"Please don't forget that you broke your own heart\", \"And don't forget that you lost your mind\", 'Please stop telling everybody that I did it for you', \"Cos every step I take I'm always here without you\", \"And I don't need words or anything from you\", 'And I wish I never felt it', 'Kept on walking by', 'And I wish I never met you', 'Kept on walking by', 'Keep me locked up, keep me shut in', 'But I remember everything', \"Please don't forget that you sold your own heart\", \"And don't forget that you lost your way\", 'Please stop telling everybody that I did it for you', \"Cos every step I take I'm always here behind you\", \"And I don't need words or anything from you\", 'And I wish I never seen it', 'Kept on walking by', 'And I wish I never met you', 'Kept on walking by', 'And I wish I never tried it', 'Kept on walking by', 'And I wish I never felt it', 'Please stop telling everybody that I did it for you', \"Cos every step I take I'm always here without you\", \"And I don't need words or anything from you\", 'And I wish I never met you', 'Kept on walking by', 'And I wish I never felt it', 'Kept on walking by', 'And I wish I never seen it', 'Kept on walking by', 'And I wish I never met you', 'Kept on walking by']\n",
      "['\"Friends\" lyrics', 'Dido Lyrics', '\"Friends\"', \"I know you thought I'd never be\", 'Really much of anything', 'While you were telling me', 'I turned against the wind', 'When my eyes started to burn', 'And you turned your back on me', 'Well you see I slipped away', 'Now turn to me', \"Cos I've done a hundred things\", \"You've only dreamed\", \"So don't come crying to me\", \"Don't come trying again\", \"No matter how I feel, don't call us friends\", \"Cos I don't remember anymore how we used to be\", \"No, I don't remember anymore how I used to feel\", \"Don't call us friends\", 'And you waited all alone', 'For your luck to come along', \"You assumed that things they'd go your way\", 'It would all just carry on', 'Well you see it slipped away', 'Now turn to me', \"Cos I've done a hundred things\", \"You've only dreamed\", \"So don't come crying to me\", \"Don't come trying again\", \"No matter how I feel, don't call us friends\", \"Cos I don't remember anymore how we used to be\", \"No, I don't remember anymore how I used to feel\", \"Don't call us\", \"So don't come crying to me\", \"Don't come trying again\", \"No matter how I feel, don't call us friends\", \"Cos I don't remember anymore how we used to be\", \"No, I don't remember anymore how I used to feel\", \"Don't call us friends\"]\n",
      "['\"Chances\" lyrics', 'Dido Lyrics', '\"Chances\"', 'All I did today', 'Was wake up and watch TV', 'Another wasted day', \"But that's alright with me\", 'When shadows turn to clouds', \"Good choices won't be made\", 'Until tomorrow comes', \"But that's alright with me\", \"I will stand and wait until it's mornin'\", \"And I won't make it lyin' down\", \"I will close my eyes so I can't see you\", 'And I will have all my chances again', 'I want all of my chances again', 'And as the sky turns red', 'The streetlights coming on', 'I could stay up all night, or go to bed', \"Oh neither's right or wrong\", 'Until tomorrow comes', 'Until tomorrow comes', \"I will stand and wait until it's mornin'\", \"And I won't make it lyin' down\", \"I will close my eyes so I can't see you\", 'And I will have all my chances again', 'I want all of my chances again', 'I will stand', 'I will stand', \"I will stand and wait until it's mornin'\", \"And I won't make it lyin' down\", \"I will close my eyes so I can't see you\", 'And I will have all my chances again', 'I want all of my chances again']\n",
      "['\"Have To Stay\" lyrics', 'Dido Lyrics', '\"Have To Stay\"', 'You were born with a smile on your face', \"And it's been there everyday\", 'When you cry I remind you', \"That I'm never gone away\", \"That I'm here by your side\", 'Until you send me away', \"When you're a hundred thousand years\", 'You say till then I have to stay', 'And when we walk out hand in hand', 'And you tell me about your day', 'Nothing else matters', 'But all you have to say', 'And when you wake up far too early', \"It's a chance to start again\", \"And I don't know what will happen\", 'But I know I want to stay', 'And if the light turns to darkness', 'And your face might turn away', \"When your words don't sound as sweet anymore\", \"I'll listen to what you say\", \"And when you're pushing me and telling me\", \"I still won't walk away\", \"Yes I don't know what will happen\", 'But I know I have to stay', \"Cos that's what love is, darling\", \"I'm here as long as you need\", \"When you show you're okay on your own\", \"I'll smile and leave\", \"Cos that's what love is, darling\", \"I'm here as long as you need\", \"When you show you're okay on your own\", \"I'll smile and leave\", \"I'll smile and leave\"]\n",
      "['\"Just Because\" lyrics', 'Dido Lyrics', '\"Just Because\"', 'Sing your song', 'Just sing your song', 'Just sing your song', 'Just sing your song', 'Hello, hello', \"You're taking a chance, ya know\", 'And you can say you tried', 'Just because', 'If you get it wrong just laugh it off', \"You don't need to hide in the dark\", 'We know, we know', \"It won't last\", 'Sing your song', 'Just sing your song', '(Just because everybody does it)', 'Sing your song', \"(Doesn't mean that we need to)\", '(Just because everybody wants it)', 'Just sing your song', \"(Doesn't mean we want it too)\", 'Just because everybody does it', \"Doesn't mean that we need to\", 'Just because everybody wants it', \"Doesn't mean we want it too\", \"Just because everybody's talking\", \"We don't need to share\", 'Just because', 'Is not enough', 'We are, we are', 'And whether we say we are', 'We are what we try to do', \"We'll be what we want to be\", 'We are, we are', 'And whether we say we are', 'We are what we try to do', \"We'll do what we want to do\", \"You're the sun, you're the sun, you're the sun\", 'Happy out there alone', \"You don't need to hear it all\", \"You don't need to see it all\", 'Just sing your song', 'Just sing your song']\n",
      "['\"This Is Love\" lyrics', 'Dido Lyrics', '\"This Is Love\"', \"Well, it's done and now, now we can walk away\", 'Take the love and leave the rest behind', \"Hey love, hey love, we don't need anything\", \"Now it's just me and you and more than I deserve\", 'Oh, what a day!', 'Oh, this is love!', 'Oh, what a life!', 'Oh, this is love!', 'There is unknown, there is loss and there is pain as well', 'We are proof that you can win it all', \"We are safe, we are free, don't wanna change a thing\", 'And God, I feel thankful for all you brings in me', 'Oh, what a day!', 'Oh, this is love!', 'Oh, what a life!', 'Oh, this is love!', 'Oh, what a day!', 'Oh, this is love!', 'Oh, what a life!', 'Oh, this is love!', 'Oh, this is love!', 'Oh, this is love!']\n",
      "['\"What Am I Doing Here\" lyrics', 'Dido Lyrics', '\"What Am I Doing Here\"', \"There's an empty seat next to me everywhere I go\", 'Even on the plane and on the sofa back at home', \"Life's too short for all this time\", 'We could have spent as two', \"I've seen it and I've held it\", \"And it's better spent with you\", 'I have run from most things that come too close', 'But all those journeys led me here, to your home', 'Now dated plans keep taking me further from you', \"Time is running out and I'm tired of missing you\", \"What am I doing here when you're there?\", \"What am I doing here when you're there?\", \"I hope that they don't find me in many years to come\", \"With a list of things by my bed that I've never done\", 'One of them being coming back, travelling back to you', 'One of them being throwing off all these silly rules', 'Now dated plans keep taking me further from you', \"Time is running out and I'm tired of missing you\", \"What am I doing here when you're there?\", \"What am I doing here when you're there?\", \"And I know that you're waiting for me\", \"I know that you're waiting\", \"I know that you're waiting\", \"I know that you're waiting for me\", 'So what am I doing here', \"When you're there?\", \"What am I doing here when you're there?\", \"And I know that you're waiting for me\", \"I know that you're waiting\", \"I know that you're waiting\", \"I know that you're waiting for me\", 'So what am I doing here?']\n",
      "['\"Together\" lyrics', 'R Plus & Dido Lyrics', '\"Together\"', 'Ladies and gentlemen', 'We have begun', \"We don't need the news\", 'Just need the weather', 'We can tell the time', \"We'd prefer getting better\", \"We're like the night before\", \"We'll love the morning after\", 'We spend time alone', 'We fit together', 'We fit together', 'We fit together', 'We fit together', 'We fit together', 'We fit together', \"We don't need the news\", 'Just need the weather', 'We can tell the time', \"We'd prefer getting better\", \"We're like the night before\", \"We'll love the morning after\", 'We spend time alone', 'We fit together', 'We fit together', 'We fit together', 'We fit together', 'We fit together', 'We fit together', 'We live together', 'We fit together', 'We fit together', 'We fit together']\n",
      "['\"My Boy\" lyrics', 'R Plus & Dido Lyrics', '\"My Boy\"', 'Love? What is love?', \"Well, I suppose, to me it's like, incredible\", 'Completely different from everything I ever felt', 'And also the difference is also between the last lust and the love', 'Like, for instance, I can lust very strongly', 'For a very, very long time', \"But it's not the same as when I feel real love\", 'Real love is so deep it can make you sick', 'And hurt your tummy', 'And sometimes even make you so sad you want to die', 'But also it can make you so excited', \"It's like you took drugs\", \"And it's so exciting you never want to eat\", 'Or sleep', 'My boy', \"He ain't up to much\", 'My boy', \"He ain't into love\", 'My boy', \"He don't get all dressed up\", \"He don't get a second glance\", 'My boy', 'His head is in the clouds', 'He just leaves it all to chance', 'But when he calls', 'I always say', 'Come on over', 'We can dance', '(Oh) we can dance', '(Oh) we can dance', '(Oh) we can dance', 'My boy', \"He ain't up to much\", 'My boy', \"He ain't into love\", 'My boy', \"He don't get all dressed up\", \"He don't get a second glance\", 'But when he calls', 'I always say', 'Come on over', 'We can dance', '(Oh) we can dance', '(Oh) we can dance', '(Oh) we can dance', '(Oh) we can dance', '(Oh) we can dance', 'We can dance', '(Oh) we can dance', 'We can dance']\n",
      "['\"Clouds Like Islands\" lyrics', 'R Plus Lyrics', '\"Clouds Like Islands\"', 'Pine forests, clouds like islands', 'Spanish boys on mopeds', 'Vodka shots and charcoal fires', 'Palm trees, heat on the asphalt', 'Larks and lizards and wasps in the grass', 'Asleep in the dunes and empty pools', 'Old men in old village squares', 'Forever playing cards', 'Pickpockets and Burger King', 'Empty beaches, skinny dipping', 'Short dresses, widows on benches', 'Girls spending their time watching the lifeguards', 'All day hitchhiking', 'Beach music and bodysurfing', 'Open car windows and fights in bars', 'All for one and one for all', 'Stray dogs, fans turning', 'All dressed up for the dance', 'Getting dry with sandy towels', 'Sunglasses and cigarettes', 'Stealing food from empty tables', 'Every day like the rest', 'But no day like the last']\n",
      "['\"Summer Dress\" lyrics', 'R Plus & Dido Lyrics', '\"Summer Dress\"', 'Was it the dress I was wearing?', 'Or getting lost going home?', 'Was it the summer stars shining?', 'Or the laughter we shared?', 'Was it the dress I was wearing? (Was it the dress I was wearing?)', 'Or getting lost going home? (Or getting lost going home?)', 'Was it the summer stars shining? (Was it the summer stars shining?)', 'Or the laughter we shared? (Or the laughter we shared?)', 'Was it the dress I was wearing? (Was it the dress I was wearing?)', 'Or getting lost going home? (Or getting lost going home?)', 'Was it the dress I was wearing? (Was it the summer stars shining?)', 'Or getting lost going home? (Or the laughter we shared?)', 'Like love now arriving', 'In the palm of my hand', 'Boy, he was fine', 'Boy, he was fine', 'Boy, he was fine', 'Boy, he was fine', 'Boy, he was fine', 'Boy, he was fine', 'Boy, he was fine']\n",
      "['\"Ozzie Girl\" lyrics', 'R Plus Lyrics', '\"Ozzie Girl\"', \"So, um, actually I was in love with this fella's best friend\", 'He was way more good looking and um, anyway', 'He fancied my best friends, that kinda screwed things up for me', 'But I thought, you know, if I get together with the best mate', 'I get to hang out with the guy I really like', 'So I did, you know?', 'Um, but I was a virgin', \"And he was not, that's true\", 'He was also, I think a drug addict already', 'But um, anyway, so we hung out as a foursome a lot', 'He was a terrible kisser', 'And the other guy looked like a really good kisser', 'I used to watch the others kissing and it was like hot, really hot', 'Anyway, finally, we go to this party', \"And my sister is dating this guy I'm seeing's brother, right\", 'So they go off for a wander in the fields', \"And I know what they're going to do\", \"And then the guy that I'm seeing says\", '\"Do you wanna go for a walk?\"', \"And I'm like, oh, shit\", 'But I went, \"Okay, sure,\" and he was leaving that night to go to the airport', 'So I thought, you know what can go wrong?', \"If it does go wrong, he's leaving so you know\", 'If he abducts me, he can only abduct me for like an hour', 'So then, we go for a walk', 'And uh, we lie down in this field and this full moon, so romantic', \"Except it's not romantic 'cause they're fucking prickles all over my ass\", 'And like in my head and my neck', \"And he's like dry humping me\", 'But I just go with it, you know?', \"Then he's like getting his donger out\", 'And putting on a you know what', 'And then he goes', '\"Guide me\"', \"And I'm like, no\"]\n",
      "['\"Those Were The Days\" lyrics', 'R Plus & Dido Lyrics', '\"Those Were The Days\"', 'We were kids', \"We'd know it all\", 'We will live', 'We will love forever more', 'We were blind', 'So we were free', 'We had no care', 'Just doubts', 'We were young', 'Love as a weapon', 'Days so sharp', \"It's never enough, never enough\", \"It's never enough, never enough\", \"It's never enough, never enough\", \"It's never enough, never enough\", \"It's never enough, never enough\", \"It's never enough, never enough (We were kids)\", 'Never enough, never enough', \"It's never enough, never enough (We were friends)\", 'Never enough, never enough', \"It's never enough, never enough (We were young)\", 'Never enough, never enough', \"It's never enough, never enough (We were kids)\", 'Never enough, never enough', 'Never enough, never enough (We were friends)', 'Never enough, never enough', 'Never enough', 'Those were the days', 'Those were the days', 'Those were the days', 'Those were the days', 'Those were the days', 'Those were the days (Never enough)', 'Those were the days (Never enough, never enough)', 'Those were the days (Never enough, never enough)', 'Those were the days (Never enough)', 'Those were the days', 'Those were the days (Never enough)', 'Those were the days (Never enough, never enough)', 'Never enough, never enough', 'Never enough, never enough', 'Never enough, never enough', 'Never enough, never enough', 'Those were the days', 'Those were the days', 'Those were the days', 'Those were the days', 'Those were the days', 'Those were the days']\n",
      "['\"Cards\" lyrics', 'R Plus & Dido Lyrics', '\"Cards\"', 'Oh, baby, baby, baby', 'What happened to those days', 'When the doors were always open', 'And the music always played?', 'Do you remember, darling', 'All the words we never said?', 'I loved you then', 'I loved you still', 'I loved you then', 'I loved you still', \"But the cards didn't fall that way\", \"But the cards didn't fall that way\", 'Oh, baby, baby, baby', 'What happened to those days', 'When the world was laid before us?', 'Our plans we never made', \"I heard you came a-callin'\", 'To see if I was still around', 'I loved you then', 'I loved you still', 'I loved you then', 'I loved you still', 'I loved you then', 'I loved you still', 'I loved you then', 'I loved you still', 'I loved you then', 'I loved you then', 'I loved you then', 'I loved you then', 'I loved you then', 'But the cards never fell that way', 'But the cards never fell that way', 'But the cards never fell that way']\n",
      "['\"Teacher\\'s Poem\" lyrics', 'R Plus Lyrics', '\"Teacher\\'s Poem\"', 'All time came calling', 'In this one moment', 'All the past', 'And all the present', 'It swooped', 'Like a swallow', 'Through the open car window', 'It came from the sun', 'That sat between the mountains', 'Blazing down', 'Upon the pines', 'It flew, a blur', 'Up the winding road', 'Faster than I could drive', 'It rushed through the forest', 'Over the dry red earth', 'In and out of the thin grey trees', '(Many freshly burnt)', 'Both future and history', 'It could be forever', 'Though it was only', 'The 10-minute journey', 'Between Forada', 'And Buscatell']\n",
      "['\"Look Up!\" lyrics', 'R Plus & Dido Lyrics', '\"Look Up!\"', 'Look up!', \"Don't miss a dream\", 'Look up!', \"Don't miss a thing\", 'Look around', 'Clouds across the sky', 'Birds upon our way', 'Look up!', \"Don't miss a dream\", 'Look up!', \"Don't miss a thing\", 'Look around', 'The sun upon the see', 'The birds upon our way', 'Look up!']\n",
      "['\"Everything To Lose\" lyrics', 'Dido Lyrics', '\"Everything To Lose\"', '(from \"Sex and the City 2\" soundtrack)', 'Mhhhhhhmmmhhhhhmmmhhhmmm', 'I used to be so fearless so limitless and free', 'Happy on my own and nothing really bothered me.', 'I had desires to see the world, jump out of planes and fly', 'And I love to be alive but I was not afraid to die', 'I used to be so sure of things and self-contained', 'I could carry on with no need to explain', \"It didn't matter if I ever made it home\", 'Could go too fast, and drink all night and dance alone', 'Mhhhhhmmmhhhhmmmmm', 'I love to be alive but I was not afraid to die', 'I love to be alive but I was not afraid to die', 'Whooooooaaaaaoooaaaa', \"I've got everything to lose\", 'I used to be so thoughtless, so easy and free', 'Could walk away, not think ahead, and had no plans to keep.', 'No hand to told, no one to bring down with me.', \"I wouldn't see the worst and it only hurts me.\", 'I love to be alive but I was not afraid to die', 'Whoooooaaaaaaaaaaaaa', \"I've got everything to lose\", 'Whoooooaaaaaahhhhhhh', \"Since I've met you\", \"I've got everything to lose\", 'Mhhhhhhmmmhhhhhmmmmhhhmm', \"I've got everything to lose\", 'Whooooooahhhhhhhhhh', \"Since I've met you\", \"I've got everything to lose\", 'Whooooooooaaaaahhhhhhh', \"I've got everything to lose\"]\n",
      "['\"Fire And Rain\" lyrics', 'Dido Lyrics', '\"Fire And Rain\"', '(originally by James Taylor)', 'Just yesterday morning', 'They let me know you were gone', 'Susanne the plans they made put an end to you', 'I walked out this morning and I wrote down this song', \"I just can't remember who to send it to\", \"I've seen fire and I've seen rain\", \"I've seen sunny days\", 'That I thought would never end', \"I've seen lonely times\", 'When I could not find a friend', \"But I always thought that I'd see you again\", \"Won't you look down upon me, Jesus\", \"You've got to help me make a stand\", \"You've just got to see me through another day\", \"My body's aching and my time is at hand\", \"And I won't make it any other way\", \"Oh, I've seen fire and I've seen rain\", \"I've seen sunny days\", 'That I thought would never end', \"I've seen lonely times\", 'When I could not find a friend', \"But I always thought that I'd see you again\", 'Been walking my mind to an easy time', 'My back turned towards the sun', 'Lord knows when the cold wind blows', \"It'll turn your head around\", \"Well, there's hours of time on the telephone line\", 'To talk about things to come', 'Sweet dreams and flying machines in pieces on the ground', \"Oh, I've seen fire and I've seen rain\", \"I've seen sunny days\", 'That I thought would never end', \"I've seen lonely times\", 'When I could not find a friend', \"But I always thought that I'd see you, baby\", 'One more time again, now', \"Thought I'd see you one more time again\", \"There's just a few things coming my way this time around, now\", \"Thought I'd see you, thought I'd see you fire and rain, now\"]\n",
      "['\"If I Rise\" lyrics', 'Dido Lyrics', '\"If I Rise\"', '(with A. R. Rahman)', '(from \"127 Hours\" soundtrack)', '[Dido:]', \"In your life, you're mad\", \"In your car, you're sad\", \"O' your taller now I've found\", 'Hold your fire course', \"O' your fallen out\", 'Go and sow your courses', '[A R R:]', 'If I rise, evermore try', 'If I believe, there is more than this', 'There is more than this', '[Dido:]', 'If I rise, one more try', 'All I give, more than this', \"O' your taller now I've found\", 'Hold your fire course', \"O' your fallen out\", 'Go and sow your courses', '[A R R:]', 'If I rise, evermore try', 'If I believe, there is more than this', 'There is more than this', '[Chorus:]', 'If I found I wanted more', \"That though I've wandered far from home\", \"I'd never lost the way back again\", 'Back again', '[A R R & Dido:]', 'If I rise, evermore try', 'If I believe, there is more than this', 'There is more than this', '[Chorus:]', 'If I found I wanted more', \"That though I've wandered far from home\", 'If I found I wanted more', \"That though I've wandered far from home\", '[Dido:]', \"If I believe, there's more than this\", 'Even more than this']\n",
      "['\"NYC\" lyrics', 'Dido Lyrics', '\"NYC\"', 'White house on the beach', 'With steps down to the sand', 'The plane takes off and we', 'We all cheer when it lands', 'Waiting in a room', \"Where the windows won't open\", 'Got coffee with no milk', \"And their heart still ain't broken\", \"Still ain't broken\", \"Still ain't broken\", 'And the music stops', 'And the beat goes on', 'And the music stops', \"But I'm dancing on\", \"I won't be home until I've walked\", 'Every street in New York', \"And I'll walk on without your love\", 'Without your love', 'Dancing on', \"Till I'm alone\", \"There's no need to return\", 'Without your love, until I have walked', 'Every street in New York', 'Boat goes', 'From one island to the next', 'An old man drinking beer', 'Women on the bench', 'And the music stops', 'And the beat goes on', 'And the music stops', \"But I'm dancing on\", \"I won't be home until I've walked\", 'Every street in New York', \"And I'll walk on without your love\", 'Without your love', 'Dancing on', \"Till I'm alone\", \"There's no need to return\", 'Without your love, until I have walked', 'Every street in New York', 'Glory when my plane takes off', \"Don't know me when I'm home\", 'Say your prayers with your fingers crossed', 'Forget to call before I go', 'If I had to phone tonight', 'To say I made you sad', \"And though I've fallen in your call and palm\", \"I won't be home until I've walked\", 'Every street in New York', \"And I'll walk on without your love\", 'Without your love', 'Dancing on', \"Till I'm alone\", \"There's no need to return\", 'Without your love, until I have walked', 'Every street in New York']\n",
      "['\"Paris\" lyrics', 'Dido Lyrics', '\"Paris\"', 'Coming back from paris on the train,', 'I really didnt care if the journey took all day,', 'Trying to turn the pages of my magazine,', 'Ill try to keep a hold all your hand,', \"And ordering a coffee that i wouldn't ever drink,\", 'Just to keep you and paris on my mind,', '[x2]', 'I didnt know it would be the last time,', 'The last time,', 'I saw you,', 'At waterloo we went our separate ways,', 'When i got in my cab i didnt turn and wave,', 'Didnt go to work just went to bed,', 'Trying to keep you and paris on my mind', '[x2]', 'I didnt know it would be the last time,', 'The last time,', 'I saw you,', 'I phoned your office this afternoon,', \"Hey said they hadn't heard anything from you,\", 'Its been seven days without a word,', 'I have to keep you and paris on my mind,', '[x2]', 'I didnt know it would be the last time,', 'The last time,', 'I saw you,', 'Going back to paris on the train,', 'Raining and here without you,', 'Its not the same,', 'I have to do this journey one more time,', 'Just to keep you and paris on my mind', '[x2]', 'I didnt know it would be the last time,', 'The last time,', 'I saw you,', 'The  last time,', 'I saw you,', 'The last time,', 'I saw you,', 'The last time,', 'I saw you']\n",
      "['\"Worthless\" lyrics', 'Dido Lyrics', '\"Worthless\"', 'I know what you came for', \"And I know when you'll leave\", 'You came for my heart', \"And it's lost to me\", \"For I won't stop you\", 'I will open my door', 'My heart is here waiting', \"I don't need it no more\", \"I know why you're leaving\", \"And I'll just let it be\", 'I am left with nothing', \"And now you're lost to me\", \"For I can't stop you\", 'I will open my door', 'My heart is here waiting', \"I don't need it no more\", \"I know why you're waiting\", 'Give me time breathe', 'Before you take my heart now', 'And just get up and leave', \"For I won't stop you\", 'I will open my door', 'My heart is here waiting', \"I don't need it no more\", 'For love makes a fool of me', 'For love makes a part of us', \"You know it's worthless\", 'As worthless can be', 'For love makes a fool of me', 'For love makes a part of us', \"You know it's worthless\", 'As worthless can be']\n",
      "['\"Stealing Time\" lyrics', 'Above & Beyond Lyrics', '\"Stealing Time\"', \"I'm stealing time from my own life\", 'All the hours that God sends', \"I'm flying high on my red eye\", 'And winding down the windows', \"I'm stealing time from my own life\", 'All the hours that God sends', 'My future is a Valentine', 'Stolen in the perfect crime', 'And as the hours go flashing by', \"I'm winding down the windows\", \"And I know I'm living out of line\", \"But with a blazing smile I'll die\"]\n",
      "['\"Air For Life\" lyrics', 'Above & Beyond Lyrics', '\"Air For Life\"', 'NEED AIR FOR LIFE.....WE ALL BREATH.', 'NEED AIR FOR LIFE....NOW IN MY SOUL.', 'NEED AIR FOREVER...', 'IN ALL THAT I DO...', 'NEED AIR FOR WHATEVER...THAT I DO.', 'NEED AIR FOREVER...', 'IN ALL THAT I DO...', 'NEED AIR FOR WHATEVER...THAT I DO.', 'NEED AIR FOR LIFE.....WE ALL BREATH.', 'NEED AIR FOR LIFE....NOW IN MY SOUL.', 'NEED AIR FOREVER...', 'IN ALL THAT I DO...', 'NEED AIR FOR WHATEVER...THAT I DO.', 'NEED AIR FOREVER...', 'IN ALL THAT I DO...', 'NEED AIR FOR WHATEVER...THAT I DO.']\n",
      "['\"Can\\'t Sleep\" lyrics', 'Above & Beyond Lyrics', '\"Can\\'t Sleep\"', \"Four thirty A.M, I'm awake again\", 'Singing to the dark through open eyes', 'While dreaming I see only you and me', 'Stuck between desire and compromise', \"If I said I want you back I'd be a liar\", \"There's nothing left of us to long for anymore\", 'But inside the ashes burns an endless fire', \"And every night I can't help reaching out for more\", \"And I can't sleep... You're so far away from me\", \"And I can't sleep... And I can't sleep\", \"And I can't sleep... You're so far away from me\", \"And I can't sleep... And I can't sleep\", \"You're leaving me scars scattered in my heart\", 'A road map of all the places you have been', \"And I can't escape, can't wash this away\", 'Love has burned your mark so deep within', \"If I said I want you back I'd be a liar\", \"There's nothing left of us to long for anymore\", 'But inside the ashes burns an endless fire', \"And every night I can't help reaching out for more\", \"And I can't sleep... You're so far away from me\", \"And I can't sleep... And I can't sleep\", \"And I can't sleep... You're so far away from me\", \"And I can't sleep... And I can't sleep\", \"And I can't sleep... You're so far away from me\", \"And I can't sleep... And I can't sleep\", \"And I can't sleep... You're so far away from me\", \"And I can't sleep... And I can't sleep\"]\n",
      "['\"Liquid Love\" lyrics', 'Above & Beyond Lyrics', '\"Liquid Love\"', 'I wait for you, my love', 'I ache for you, my love', 'Call this a liquid love', 'Rain down on me', 'You should have come over', 'Your love slips through my hands', 'These streets like sinking sand', 'Drowning in liquid love', 'Rain down on me', 'I call out your name', '(You should have come over)', 'Your love is chasing through my veins', '(You should have come over)', 'Such a foolish game', '(You should have come over)', \"Your love's no good for me, good for me\", 'But it makes me happy', 'Makes me happy', 'I wait for you, my love', 'I ache for you, my love', 'Call this a liquid love', 'Rain down on me', 'I call out your name', '(You should have come over)', 'Your love is chasing through my veins', '(You should have come over)', 'Such a foolish game', '(You should have come over)', \"Your love's no good for me, good for me\", 'But it makes me happy']\n",
      "['\"Alone Tonight\" lyrics', 'Above & Beyond Lyrics', '\"Alone Tonight\"', 'Slipping sideways, silver stars collide', 'And fade away just like our love that died', 'And there is nowhere in this universe to hide from you tonight', \"I've wrestled with angels all my life\", \"It's always the halos and the wings that keep you blind\", \"And if I'd fought with all the strength I held inside\", \"I wouldn't be out here alone tonight\", \"I wouldn't be standing alone tonight\", \"I wouldn't be standing alone tonight\", \"I wouldn't be standing alone tonight\", \"I wouldn't be standing alone tonight\", \"Alone tonight just like the western star, I'm sinking.\", 'The angels curse me blind with straight and crooked thinking', \"Alone tonight just like the western star, I'm sinking.\", 'The angels curse me blind with straight and crooked thinking', 'Slipping sideways, silver stars collide', 'And fade away just like our love that died', 'And there is nowhere in this universe to hide from you tonight', \"I've wrestled with angels all my life\", \"It's always the halos and the wings that keep you blind\", \"And if I'd fought with all the strength I held inside\", \"I wouldn't be out here alone tonight\", \"Alone tonight just like the western star, I'm sinking.\", 'The angels curse me blind with straight and crooked thinking', \"Alone tonight just like the western star, I'm sinking.\", 'The angels curse me blind with straight and crooked thinking', \"And if I'd fought with all the strength I held inside\", \"I wouldn't be out here alone tonight\"]\n",
      "['\"Good For Me\" lyrics', 'Above & Beyond Lyrics', '\"Good For Me\"', 'To be with you is easy', \"I know you're good for me\", 'This feeling inside me', 'Oh it sends me sky high', 'To feel for you is easy oh baby', \"I know you're good for me\", 'This feeling inside me', 'Oh it sends me sky high', \"You're good for me, my baby\", 'So good for me, my love', \"You're good for me, my baby\", 'So good for me, oh, love']\n",
      "['\"For All I Care\" lyrics', 'Above & Beyond Lyrics', '\"For All I Care\"', 'Hey you', 'For all I care', 'Hey you', 'For all I care', 'Hey you', 'For all I care for you', '[4x]', 'And I need', 'For you', 'And I bleed', 'For you', '[2x]', 'Hey you', 'For all I care', 'Hey you', 'For all I care', 'Hey you', 'For all I care for you', '[2x]', 'And I need', 'For you', 'And I bleed', 'For you', '[2x]']\n",
      "['\"Home\" lyrics', 'Above & Beyond Lyrics', '\"Home\"', 'Here I come to find myself, catch the tide', 'Looking for a peace at the end of the line', \"Sometimes I can't help myself feel the tide\", \"I'm all at sea and so unwise\", \"I'm so afraid I'd lose your love as time goes by\", 'But courage is a fire and a beacon so bright', 'The sunset builds a memory - our love signed', 'And all I see becomes a lie', 'Will I wash away, turning like a stone?', 'I need a place where I belong', 'Call the setting sun to throw me down the road', 'And take me to a place called home!', \"I close my eyes, I know you're there, love of mine\", 'Standing on the shore in a world I designed', 'The sunset fires a lonely flare into the sky', 'And all I see we say goodbye', 'Will I wash away, turning like a stone?', 'I need a place where I belong', 'Call the setting sun to throw me down the road', 'And take me to a place called home!', 'Looking for a place called home']\n",
      "['\"Alchemy\" lyrics', 'Above & Beyond Lyrics', '\"Alchemy\"', '(feat. Zoe Johnston)', 'All these words you speak to me', 'Are from a foreign land', \"You're telling me that birds don't fly\", 'How can it be that you love her?', \"You don't have to raise your voice\", \"I still don't understand\", \"There's me and you, and you and me\", 'So how can it be that you love her?', 'It was alchemy', 'To sing to me your freedom song', 'To make love where there was none', \"Alchemy ~ now it's all gone\", 'And she is the golden one', 'So what are you saying?', \"We've got to dismantle it all?\", 'Rip up the paper, smash up the walls', 'How can it be that you love her?', 'Take all of the things that we so carefully made', 'Take all of the life you have betrayed', 'How can it be that you love her?']\n",
      "['\"Sun & Moon\" lyrics', 'Above & Beyond Lyrics', '\"Sun & Moon\"', '(feat. Richard Bedford)', \"It's raining, it's pouring\", 'A black sky is falling', \"It's cold tonight\", 'You gave me your answer', 'Goodbye', \"Now I'm all on my own tonight\", 'And when the big wheel starts to spin', 'You can never know the odds', \"If you don't play you'll never win\", 'We were in heaven you and I', 'When I lay with you and close my eyes', 'Our fingers touch the sky', \"I'm sorry baby\", 'You were the sun and moon to me', \"I'll never get over you, you'll never get over me\", 'And when the big wheel starts to spin', 'You can never know the odds', \"If you don't play you'll never win\", 'We were in heaven you and I', 'When I lay with you and close my eyes', 'Our fingers touch the sky', '[x4:]', \"(I'm sorry baby\", 'You were the sun and moon to me', \"I'll never get over you, you'll never get over me)\"]\n",
      "['\"You Got To Go\" lyrics', 'Above & Beyond Lyrics', '\"You Got To Go\"', '(feat. Zoe Johnston)', 'Dream on, little dreamer! This is how it all begins', 'Move your feet ~ feel how sweet it is', 'Dream on, little dreamer! Follow all of your signs', 'You got to gather up what you need', 'You got to choose a direction', 'And when the moment is right for you', 'You got to go', 'You got to keep your ideals high', 'You got to know that the sky belongs to no one', 'You know you got to go!', 'Keep on, little dreamer ~ keep hold of all that you are']\n",
      "['\"Black Room Boy\" lyrics', 'Above & Beyond Lyrics', '\"Black Room Boy\"', '(feat. Tony McGuinness & Richard Bedford)', \"It's the same old scene\", \"You've been stuck at the screen for a lifetime\", 'You keep your mind sharp and clean', 'With a fix of caffeine for the night time', 'You got a page full of friends', 'And a world without end, DIKU?', 'But if push comes to shove', 'You could do without them if they make you', 'With all this poison inside', \"It's much too late to decide\", \"You've got your mind made up\", \"You've been living a lie in your white room\", \"For all the hours that you've cried\", \"There's a year of love they denied\", 'So you slip through the door and fall to the floor in your black room', \"You're a black room boy\", \"You're feeling so way down\", \"You're a black room boy\", 'Forget the losses and burn down', \"You're a black room boy\", 'Fall into city lights', \"You're a black room boy\", 'Nothing else to be', \"You kissed your mommy's hand\", \"Wearing daddy's ring when they left you\", \"And you buried yourself in the pain that they couldn't accept you\", \"You're in a world of your own\", 'Got no cellular phone', \"They can't track you\", 'But the girl at the store with the sketchy rapport', 'She will back you', 'With all this poison inside', \"It's much too late to decide\", \"You've got your mind made up\", \"You've been living a lie in your white room\", \"For all the hours that you've cried\", \"There's a year of love they denied\", 'So you slip through the door and fall to the floor in your black room', \"You're a black room boy\", \"You're feeling so way down\", \"You're a black room boy\", 'Forget the losses and burn down', \"You're a black room boy\", 'Fall into city lights', \"You're a black room boy\", 'Nothing else to be', \"You're feeling so way down\", 'Forget the losses and burn down', 'Fall into city lights', 'Nothing else to be', \"You're a black room boy\"]\n",
      "['\"Giving It Out\" lyrics', 'Above & Beyond Lyrics', '\"Giving It Out\"', '(feat. Zoe Johnston)', 'For so long now', \"for so long now I've been trying\", \"It's not working\", \"I've been trying and hoping and wishing\", 'with every part of me', \"It's not working\", \"I've been giving it out\", \"But it's not coming back to me, baby\", 'Kept thinking that somehow...', \"But I'm going to go now~\", '(Now I want to be FREE)', 'You can call out my name', 'and tell me about your pain', \"But I'm not coming back to you, baby\", \"I'll be giving it out\", \"But it's not going to come back to you\", \"There's only so much\", 'Only so much you can do', 'My heart is breaking', 'I keep on giving it out', 'Because I love you~', 'But ohhh this is not enough for me', 'Now I want to be free', \"I'll be giving it out\", 'All the good stuff', 'Giving it out to someone', 'Who loves me']\n",
      "['\"On My Way To Heaven\" lyrics', 'Above & Beyond Lyrics', '\"On My Way To Heaven\"', '(feat. Richard Bedford)', 'You always laugh when I cry', \"I'm always looking to tomorrow\", 'As you mourn the days gone by', 'You always tread on my toes', 'But my guiding hand of love', 'Is helping everywhere you go', \"I'm always WRONG you're always RIGHT\", 'But I can see right through the LIES', 'To the never changing light', 'Rain on me, my arms are cold', \"I want to get home but there's water on the road\", 'And if I do, you will not change', \"I'm just a singing satellite in an orbit\", 'that is strange', 'I want to laugh, I want to smile', 'Get your arms inside my head', 'And stop me THINKING for a while', \"I'm just a fool hung on a sting\", 'But since you put these thorns around my head', 'You know I am a king, a KING', 'A king of everything & nothing', \"I'm on my way to heaven\", \"I'm always here, I'm in denial\", \"And when there's nothing left between us\", 'I will stay another while', \"You know you're free, you've got your wings\", 'And I am just another angel', 'With a voice who wants to sing', 'Yeah, yeah, yeah, Almighty', \"I'm on my way to heaven\", 'Yeah, yeah, yeah', \"I'm on my way to HEAVEN\", 'I want to cry, I want to steal', 'A little ray of perfect sunshine', 'From the sun above the hill', 'I want to laugh, I want to smile', 'Get your arms inside my head', 'And stop me THINKING for a while', \"I'm just a fool hung on a sting\", 'But since you put these thorns around my head', 'You know I am a king, a KING', 'A king of everything & nothing', \"I'm on my way to heaven\"]\n",
      "['\"Love Is Not Enough\" lyrics', 'Above & Beyond Lyrics', '\"Love Is Not Enough\"', '(feat. Zoe Johnston)', \"I've had too many a good cry for you\", 'This is my time to say goodbye to you', 'In my heart of hearts', \"I know there's more love left for you\", \"But love is not enough, I've learned,\", 'To see the journey through', 'This is not yours alone', 'It hurts me too', \"Please don't say you don't care\", '(I know you do)', 'Love is not enough for me', 'If it screams when you hold it', 'Love is not enough for me', 'Love is hurting if it screams', \"Oh if it's screaming out loud\", 'Love is not enough', 'One day you will fly away from here', 'One day you will leave your hurts behind']\n",
      "['\"Every Little Beat\" lyrics', 'Above & Beyond Lyrics', '\"Every Little Beat\"', '(feat. Richard Bedford)', 'Every little beat of your heart', 'You get a little closer to me', \"You've never been so happy since I've been around\", \"I don't want to tear your world apart\", \"But that's how it's going to be\", \"Your head's in the sky but I'm underground\", 'Words come slow to me', 'Silence easily', \"But the world spins 'round and 'round\", \"A heart is breaking, the mess I'm making\", 'Every little beat of your heart', \"You're painting a picture of me\", \"You put me on a pedestal, I can't climb down\", 'Every little beat of my own', 'Takes me further from you', \"I've run out of heaven & I'm closing down\", \"There's an actor in this town\", 'And he follows you around', 'He gets his lines right every time', 'But his heart is breaking', \"He's tired of faking\"]\n",
      "['\"Sweetest Heart\" lyrics', 'Above & Beyond Lyrics', '\"Sweetest Heart\"', '(feat. ZoÃ« Johnston)', 'You have the sweetest heart']\n",
      "['\"Thing Called Love\" lyrics', 'Above & Beyond Lyrics', '\"Thing Called Love\"', '(feat. Richard Bedford)', 'There was a time, there was a place', 'But there was fear inside', 'A witty line to save my face', 'A parachute of pride', 'To cross the line takes a tiny step', 'But will the spark cause the bridge to burn', 'My fear entwined with my regret', 'I beat a path for safe return', \"So here we are, we're just the same\", 'And you will never know', 'My secret plan, how close we came', 'To share another road', 'And have I lost my only chance', 'To tell you how I feel inside?', \"Is it just me, I'd like to know\", 'Or are we all just a little blind?', \"Cause there's a thing called love that we all forget\", \"And it's a wasted love that we all regret\", 'You live your life just once', \"So don't forget about a thing called LOVE\", \"Don't forget, forget about a thing called LOVE\", \"Cause there's a thing called love that we all forget\", \"And it's a wasted love that we all regret\", 'You live your life just once', \"So don't forget about a thing called LOVE\", \"Don't forget, forget about a thing called LOVE\"]\n",
      "['\"Only A Few Things\" lyrics', 'Above & Beyond Lyrics', '\"Only A Few Things\"', '(feat. Zoe Johnston)', 'Only a few things will we recall', 'With love, with gratitude', 'Only a few things', 'On the hour in which I die', 'So if I cannot tell you', 'If the words I do not find', 'I want you to know', 'There are only a few things', 'That I will be carrying', 'In my memory when I go', 'Only a few things will we recall', 'With true happiness, with gratitude', 'Only a few things', 'I see you ~', 'I see you ~', 'You ~ you were the joy in my life', 'The one who loved my tired bones', 'The one who came to stay', 'So if I do not tell you', \"If I don't find the words\", \"It is NOT because I don't feel it in my heart\", \"You're the one who loved my tired bones\", \"You're the one who took me home\", 'You ~ you brought joy to my world', 'So I will tell you now', \"In case you don't know\", \"That you'll be with me\", 'When I go', 'Only a few things will we recall', 'With love, with gratitude', 'Only a few things', 'On the hour in which I die']\n",
      "['\"With Your Hope\" lyrics', 'Above & Beyond Lyrics', '\"With Your Hope\"', 'Connected to talk', 'singing through a forest of ice', 'This slow motion moment is tumbling down', \"Till we're lost inside the sound\", \"It's your worst fall\", 'you push me through the walls', \"And I just can't cope\", \"You're breaking my heart with your hope\", 'Youâ\\x80\\x99re breaking my heart with your hope', 'Youâ\\x80\\x99re breaking my heart with your hope', 'Youâ\\x80\\x99re breaking my heart with your hope']\n",
      "['\"Miracle\" lyrics', 'Above & Beyond Lyrics', '\"Miracle\"', 'Donâ\\x80\\x99t they know that thereâ\\x80\\x99s something going on?', 'What theyâ\\x80\\x99re harming with their indecision', 'But who will be left standing when Iâ\\x80\\x99m gone?', 'Thereâ\\x80\\x99ll be nothing left but a vision', 'Itâ\\x80\\x99s too easy to turn a blind eye to the light', 'Itâ\\x80\\x99s too easy to bow your head and pray', 'But there are some times', 'When you should try to find your voice', 'This is one voice that you must find today', 'Are you hoping for a miracle', 'As the ice caps melt away?', 'No use hoping for a miracle', 'Thereâ\\x80\\x99s a price weâ\\x80\\x99ll have to pay', \"Don't they know that there's\", 'Something they can do?', \"To be sure of tomorrow's tomorrow\", 'And too late is too late for me and you', 'No more time left for you to borrow', 'And itâ\\x80\\x99s too easy to turn a blind eye to the light', 'Itâ\\x80\\x99s too easy to bow your head and pray', 'But there are some times', 'When you should try to find your voice', 'And this is one voice that you must find today', 'Are you hoping for a miracle', 'As the ice caps melt away?', 'No use hoping for a miracle', 'Thereâ\\x80\\x99s a price weâ\\x80\\x99ll have to pay', 'Are you hoping for a miracle?', 'Are you hoping for a miracle?']\n",
      "['\"You Gotta Go\" lyrics', 'Above & Beyond Lyrics', '\"You Gotta Go\"', 'Dream on, little dreamer', 'This is how it all begins', 'Dream on, little dreamer', 'This is how it all begins', 'Move your feet', 'Feel how sweet it is', 'Dream on little dreamer', 'Follow all your signs', 'You got to gather up what you need', 'You got to choose a direction', 'And when the moment is right for you', 'You got to go', 'You got to keep your ideals high', 'You got to know that the sky belongs to no one', 'And you know you got to go', 'Dream on, little dreamer', 'This is how it all begins', 'Dream on, little dreamer', 'This is how it all begins', 'Move your feet', 'Feel how sweet it is', 'Dream on little dreamer', 'Follow all your signs', 'You got to gather up what you need', 'You got to choose a direction', 'And when the moment is right for you', 'You got to go', 'You got to keep your ideals high', 'You got to know that the sky belongs to no one', 'And you know you got to go', 'You got to go, you got to go', 'You got to gather up what you need', 'You got to choose a direction', 'And when the moment is right for you', 'You got to go', 'You got to keep your ideals high', 'You got to know that the sky belongs to no one', 'And you know you got to go', 'You got to go, you got to go', 'Dream on little dreamer', 'Follow all of your own signs', 'You got to go']\n",
      "['\"Satellite / Stealing Time\" lyrics', 'Above & Beyond Lyrics', '\"Satellite / Stealing Time\"', 'My love is like footsteps in this snow, baby', 'I follow you everywhere you go, baby', 'The palest light has come to wake you', 'But you will never realize', 'That I inspire the dreams that guide you, baby', 'I follow the winds that bring the cold, baby', \"I'll light a fire in your soul, baby\", 'The lightest touch of feathers falling', 'My love may be invisible', 'But I inspire the dreams that guide you, baby', \"You're a half a world away\", 'But in my mind I whisper every single word you say', 'And before you sleep at night', 'You pray to me, your lucky star', 'Your singing satellite', 'Your singing satellite, your satellite', 'Your singing satellite', \"You're half a world away\", \"I'm stealing time from my own life\", 'All the hours that God sends', \"I'm flying high on my red-eye\", 'And winding down the window', 'My future is a Valentine', 'Stolen in the perfect crime', \"And I know I'm living out of line\", \"But with a blazing smile I'll die\", \"You're a half a world away\", 'But in my mind I whisper every single word you say', 'And before you sleep at night', 'You pray to me, your lucky star', 'Your singing satellite']\n",
      "['\"Thing Called Love\" lyrics', 'Above & Beyond Lyrics', '\"Thing Called Love\"', 'There was a time there was a place', 'But there was fear inside', 'A witty line to save my face', 'A parachute of pride', 'To cross the line takes a tiny step', 'But will the spark cause the bridge to burn?', 'My fear entwined with my regret', 'I beat a path for safe return', \"There's a thing called love that we all forget\", \"And it's a wasted love that we all regret\", 'You live your life just once', \"So don't forget about a thing called love\", \"Don't forget\", 'Forget about a thing called love', \"So here we are, we're just the same\", 'And you will never know', 'My secret plan', 'How close we came', 'To share another road', 'And have I lost my only chance', 'To tell you how I feel inside?', \"Is it just me I'd like to know\", 'Or are we all just a little blind?', \"There's a thing called love that we all forget\", \"And it's a wasted love that we all regret\", 'You live your life just once', \"So don't forget about a thing called love\", \"Don't forget\", 'Forget about a thing called love']\n",
      "['\"Can\\'t Sleep\" lyrics', 'Above & Beyond Lyrics', '\"Can\\'t Sleep\"', \"Four thirty A.M, I'm awake again\", 'Singing to the dark through open eyes', 'While dreaming I see only you and me', 'Stuck between desire and compromise', \"If I said I want you back I'd be a liar\", \"There's nothing left of us to long for anymore\", 'But inside the ashes burns an endless fire', \"And every night I can't help reaching out for more\", \"And I can't sleep... You're so far away from me\", \"And I can't sleep... And I can't sleep\", \"And I can't sleep... You're so far away from me\", \"And I can't sleep... And I can't sleep\", \"You're leaving me scars scattered in my heart\", 'A road map of all the places you have been', \"And I can't escape, can't wash this away\", 'Love has burned your mark so deep within', \"If I said I want you back I'd be a liar\", \"There's nothing left of us to long for anymore\", 'But inside the ashes burns an endless fire', \"And every night I can't help reaching out for more\", \"And I can't sleep... You're so far away from me\", \"And I can't sleep... And I can't sleep\", \"And I can't sleep... You're so far away from me\", \"And I can't sleep... And I can't sleep\", \"And I can't sleep... You're so far away from me\", \"And I can't sleep... And I can't sleep\", \"And I can't sleep... You're so far away from me\", \"And I can't sleep... And I can't sleep\"]\n",
      "['\"Sun & Moon\" lyrics', 'Above & Beyond Lyrics', '\"Sun & Moon\"', \"It's raining, it's pouring\", 'A black sky is falling', \"It's cold tonight\", 'You gave me your answer - goodbye', \"Now I'm all on my own tonight\", 'But when the big wheel starts to spin', 'You can never know the odds', \"If you don't play you'll never win\", 'We were in heaven, you and I', 'When I lay with you and close my eyes', 'Our fingers touch the sky', \"I'm sorry baby\", 'You were the sun and moon to me', \"I'll never get over you\", \"You'll never get over me\", 'You held back and lost out', 'You gave in to each doubt', 'And walked away', 'A final embrace', \"You won't turn, I won't chase\", 'Nothing more to say', 'But when the big wheel starts to spin', 'You can never know the odds', \"If you don't play you'll never win\", 'We were in heaven, you and I', 'When I lay with you and close my eyes', 'Our fingers touch the sky', \"I'm sorry baby\", 'You were the sun and moon to me', \"I'll never get over you\", \"You'll never get over me\"]\n",
      "['\"Good For Me\" lyrics', 'Above & Beyond Lyrics', '\"Good For Me\"', 'To be with you is easy', \"I know you're good for me\", 'This feeling inside me', 'Oh it sends me sky high', 'To be with you is easy', \"I know you're good for me\", 'This feeling inside me', 'Oh it sends me sky high', \"You're good for me, my baby\", 'So good for me, my love', \"You're good for me, my baby\", 'So good for me, oh love', 'To feel for you is easy - oh baby', \"I know you're good for me\", 'This feeling inside me', 'Oh it sends me sky high', \"You're good for me, my baby\", 'So good for me, my love', \"You're good for me, my baby\", 'So good for me, oh love', \"You're good for me, my baby\", 'So good for me, my love', \"You're good for me, my baby\", 'So good for me, oh love']\n",
      "['\"Sirens Of The Sea\" lyrics', 'Above & Beyond Lyrics', '\"Sirens Of The Sea\"', 'I can not resist your call', 'I can not resist your call', 'Take my hand, take my hand, yeah, take my hand', \"Follow me, follow me, yeah, let's go\", 'To the sand, to the sand, the purest sand', \"Into the sea, into the sea, yeah, let's go\", \"Out beyond the water's edge\", 'Far out past the coral ledge', 'Underneath the diamond dancing lights', 'Chase the world from far below', 'Silence sleeping indigo', 'Drifting out into the endless night', 'I can not resist your call', 'I can not resist your call', 'Take my hand, take my hand, yeah, take my hand', \"Follow me, follow me, yeah, let's go\", 'To the sand, to the sand, the purest sand', \"Into the sea, into the sea, yeah, let's go\", 'Leaving reason far behind', 'Nothing here is cruel or kind', 'Only your desire to set me free', 'Let us lie here, all alone', 'Worn away like river stone', 'Let us be the sirens of the sea', 'I can not resist your call']\n",
      "['\"Love Is Not Enough\" lyrics', 'Above & Beyond Lyrics', '\"Love Is Not Enough\"', \"Well, I've had too many a\", 'Good cry for you', 'Well, this is my time to say', 'Goodbye to you', 'In my heart of hearts', \"I know there's more love left for you\", \"But love is not enough, I've learned\", 'To see the journey through', 'This is not yours alone', 'It hurts me too', \"Please don't say you don't care\", 'I know you do', 'In my heart of hearts', \"I know there's more love left for you\", \"But love is not enough, I've learned\", 'To see the journey through', 'Love is not enough for me', 'If it screams when you hold it', 'Love is not enough for me', 'Love is hurting if it screams', \"Oh, if it's screaming out loud\", \"I've been screaming for love\", 'Love is not enough', 'In my heart of hearts', \"I know there's more love left for you\", \"But love is not enough, I've learned\", 'To see the journey through']\n",
      "['\"On A Good Day\" lyrics', 'Above & Beyond Lyrics', '\"On A Good Day\"', 'A little bit lost and a little bit lonely', 'Little bit cold here, a little bit of fear', 'But I hold on and I feel strong', 'And I know that I can', \"I'm getting used to it\", 'Lit the fuse to it', 'Like to know who I am', \"I've been talking to myself forever, yeah\", 'And how I wish I knew me better, yeah', 'Still sitting on a shelf and never', 'Never seen the sun shine brighter', 'And it feels like me on a good day', \"I'm a little bit hemmed in\", 'A little bit isolated', 'A little bit hopeful', 'A little bit calm', 'But I hold on and I feel strong', 'And I know that I can', \"I'm getting used to it\", 'Lit the fuse to it', 'Like to know who I am', \"I've been talking to myself forever, yeah\", 'And how I wish I knew me better, yeah', 'Still sitting on a shelf and never', 'Never seen the sun shine brighter', 'And it feels like me on a good day']\n",
      "['\"Alone Tonight\" lyrics', 'Above & Beyond Lyrics', '\"Alone Tonight\"', 'Slipping sideways, silver stars collide', 'And fade away just like our love that died', 'And there is nowhere in this universe to hide', 'From you tonight', \"I've wrestled with angels all my life\", \"It's always the haloes and the wings\", 'That keep you blind', \"And if I'd fought with all the strength I held inside\", \"I wouldn't be out here\", 'Alone tonight', \"I wouldn't be standing alone tonight\", \"Alone tonight, just like the western star I'm sinking\", 'The angels curse me blind with', 'Straight and crooked thinking', \"I've been crossing out the words I left unsaid\", 'From the epilogue left lying in my head', 'Where there is poetry and tragedy unread', 'Until tonight', \"There's no other angel quite like you\", 'They broke the mould, a thousand pieces icy blue', 'And though I tried to realign them - like I do', 'You went your own way', 'And I did too', 'So here I am', \"Alone tonight, just like the western star I'm sinking\", 'The angels curse me blind with', 'Straight and crooked thinking']\n",
      "['\"Making Plans\" lyrics', 'Above & Beyond Lyrics', '\"Making Plans\"', 'Time held its breath', 'A motionless spell of rapture', 'Across the room', 'A memory had been captured', 'And through the years', 'Though distance lay between us', 'I carried your torch', 'To illuminate the darkness', 'And I still lose myself', 'In that orange glowing moment', 'When your upturned face', 'Seemed to answer all my questions', 'But when I asked myself', 'As I do from time to time now', 'Where it all went wrong', 'Is there really any point in making plans?', 'In making plans?', 'So I made my vows', 'In the last low hours of morning', 'As I lay you down', 'I heard you whispering a warning', 'But then we lost ourselves', 'In that orange glowing moment', 'And your upturned face', 'Seemed to answer all my questions', 'But when I asked myself', 'As I do from time to time now', 'Where it all went wrong', 'Is there really any point in making plans?', 'In making plans?', 'And I still lose myself', 'I still lose myself', 'making plans']\n",
      "['\"We\\'re All We Need\" lyrics', 'Above & Beyond Lyrics', '\"We\\'re All We Need\"', '(feat. ZoÃ« Johnston)', 'You tell me of a place you like to go', 'You say it will reach out and seize the sorrow', 'And we always mean to act on what we say', \"So come on, oh darling now... hurry, hurry, let's go\", \"We're all we need, oh darling\", \"We're all we need, oh darling\", \"We're all we need, oh darling\", \"We're all we need, oh darling\", 'I told you of a place that I had been', 'It was dark and I was supremely alone', 'No matter now if the compass fails again', \"'Ð¡ause in your love I built a home\", \"We're all we need, oh darling\", \"We're all we need, oh darling\", \"We're all we need, oh darling\", \"We're all we need, oh darling\", \"We're all we need\", \"We're all we need\", \"We're all we need\", \"We're all we need\", \"We're all we need, oh darling\", \"We're all we need, oh darling\", \"We're all we need, oh darling\", \"We're all we need, oh darling\", \"Most certainly I'm where I'm supposed to be\", 'In a molten sun; with you I am free', 'Today our hearts won first prize', \"'Ð¡ause we're wise with the feeling\", \"We're all we need\"]\n",
      "['\"Blue Sky Action\" lyrics', 'Above & Beyond Lyrics', '\"Blue Sky Action\"', '(feat. Alex Vargas)', 'I get tired of life', \"What a world I'm living in\", \"Now I've got it all\", \"I've had enough, I'm giving in\", 'The sun is shining', 'Melting the clouds away', 'Got me some blue sky action', \"I'm breathing today\", \"I know I'm burning\", 'This is my final day', \"I'm gonna go out smiling\", 'A king for a day', 'A king for a day', 'A king for a day', 'Stuck in this toxic town', 'It really takes my breath away', \"It's either leave or drown\", \"I'm on a blue sky getaway\", 'The sun is shining', 'Melting the clouds away', 'Got me some blue sky action', \"I'm breathing today\", \"I know I'm burning\", 'This is my final day', \"I'm gonna go out smiling\", 'A king for a day', 'A king for a day', 'A king for a day', 'The sun is shining', 'Melting the clouds away', 'Got me some blue sky action', \"I'm breathing today\", \"I know I'm burning\", 'This is my final day', \"I'm gonna go out smiling\", 'A king for a day', 'A king for a day', 'A king for a day']\n",
      "['\"Peace Of Mind\" lyrics', 'Above & Beyond Lyrics', '\"Peace Of Mind\"', '(feat. ZoÃ« Johnston)', 'I lost all my riches', 'The diamonds in the mind', 'It turns out that this was the best thing to ever happen to me', 'Errors and glitches', 'What a way to find', 'That such hurt could bring you greater peace of mind', 'Ooh, bring me peace of mind', 'Ooh, bring me peace of mind', \"If you've ever lost every part of yourself\", \"If you've left your heart on a lonely avenue\", 'It will be only a matter of time', 'Before your life comes through for you', \"If you've ever lost every part of yourself\", \"If you've left your heart on a lonely avenue\", 'It will be only a matter of time', 'Before your life comes through for you', \"If you've ever lost every part of yourself\", \"If you've left your heart on a lonely avenue\", 'It will be only a matter of time', 'Before your life comes through for you', \"If you've ever lost every part of yourself\", \"If you've left your heart on a lonely avenue\", 'It will be only a matter of time', 'Before your life comes through for you']\n",
      "['\"Counting Down The Days\" lyrics', 'Above & Beyond Lyrics', '\"Counting Down The Days\"', '(feat. Gemma Hayes)', '[2x]', \"I've been counting down the days and the nights\", 'Since you last said that you loved me', \"And it's cold here in the shadows with no light\", 'Since you last said that you loved me', 'Time is like an enemy leaving lovers by the side,', \"The more you cling to love, the more you're gonna lose your mind.\", 'All I feel is silence now', 'Taking over, taking over, taking over.', 'All I see is black clouds of doubt', 'Taking over, taking over, taking over.', \"I've been counting down the days and the nights\", 'Since you last said that you loved me', \"And it's cold here in the shadows with no light\", 'Since you last said that you loved me', 'Time is like an enemy leaving lovers by the side,', \"The more you cling to love, the more you're gonna lose your mind.\", 'All I feel is silence now', 'Taking over, taking over, taking over.', \"I've been counting down the days and the nights\", 'Since you last said that you loved me', \"And it's cold here in the shadows with no light\", 'Since you last said that you loved me']\n",
      "['\"Sticky Fingers\" lyrics', 'Above & Beyond Lyrics', '\"Sticky Fingers\"', '(feat. Alex Vargas)', 'We painted the picture you want', 'I wanted it too', \"But now there's something that I\", 'Would like you to do', 'Get your sticky fingers out of my head', 'Get your sticky fingers out of my head', \"It's not that I'm ungrateful for\", 'The chance to dream and then explore', 'But your elegant dinosaur limbs', 'Are still willfully bruising my skin', 'Get your sticky fingers out of my head', 'Get your sticky fingers out of my head', 'Get your sticky fingers out of my head', '(Get your sticky fingers out of my head)', 'Get your sticky fingers out of my head', '(Get your sticky fingers out of my head)', 'Get your sticky fingers out of my head', '(Get your sticky fingers out of my head)', 'Get your sticky fingers out of my head', '(Get your sticky fingers out of my head)', 'Get your sticky fingers out of my head', 'Get your sticky fingers out of my head', 'Get your sticky fingers out of my head', '(Get your sticky fingers out of my head)', 'Get your sticky fingers out of my head']\n",
      "['\"Little Something\" lyrics', 'Above & Beyond Lyrics', '\"Little Something\"', '(feat. Justine Suissa)', 'Too many hours on the road', 'Too many days as you grow older', 'And tears are spilled', 'As each moment unfolds', 'Your head is resting upon my shoulder', \"And I'm quietly thrilled\", 'Did I miss that smile?', 'Did I miss that first step?', \"All the moments you're supposed not to forget?\", 'You are my little something', \"It's like you came from nothing\", \"And now you're everything to me\", \"I used to fear what you'd bring\", \"I didn't know if I could love you\", \"The way you'd deserve\", 'You make me feel like a king', 'A day is no longer what I get through', \"You're my everything\", 'Did I miss that smile?', 'Did I miss that first step?', \"All the moments you're supposed not to forget\", 'You are my little something', \"It's like you came from nothing\", \"And now you're everything to me\", 'You are my little something', \"It's like you came from nothing\", \"And now you're everything to me\", 'If I could turn back time', \"I'd be there for every minute\", \"I'd give up the life I chose\", 'Just to have you in it', 'If I could turn back time', \"I'd be there for every minute\", \"I'd give up the life I chose\", 'Just to have you in it']\n",
      "['\"All Over The World\" lyrics', 'Above & Beyond Lyrics', '\"All Over The World\"', '(feat. Alex Vargas)', 'Maybe I have waited for too long', 'Maybe I got caught up in the storm', 'And I sent you off so incomplete', 'Now your lonely call is haunting me', \"And it's all over the world\", 'Your call lost in the wind', 'You soar over the world', 'Your call over the world', 'All over the world', \"I've tried untethering my despair\", 'Tried to forget and not to care', 'But the ropes that hold me are of stone', 'And your call it cuts me to the bone', \"And it's all over the world\", 'Your call lost in the wind', 'You soar over the world', 'Your call over the world', 'All over the world', 'All over the world', \"It's all over the world\", 'All over the world']\n",
      "['\"Fly To New York\" lyrics', 'Above & Beyond Lyrics', '\"Fly To New York\"', '(feat. ZoÃ« Johnston)', \"You've been in my dreams\", 'Right there in the seams', 'In the notes, in the fabric', 'In the way the day leans', \"There's so much I'd like to share with you\", 'Share my arms', 'Share my time', \"Share almost anything that's mine\", 'Except my fear of losing you', 'We could fly to New York', 'I could show you that place', \"Cut shapes from the winter's most delicate lace\", 'Lay down in Superman crystals of snow', \"But this is real life, don't you know\", 'We could fly to New York', 'I could show you that place', \"Cut shapes from the winter's most delicate lace\", 'Lay down in Superman crystals of snow', \"But this is real life, don't you know\", \"You're part of me now\", 'Known me somehow', 'Since birth', 'Since I fell down', 'Since you gave me my crown', \"It's too much to bear\", 'Too much love there', 'Full of wonder', 'I will be free', 'You can see almost all of me', 'But not my fear of losing you', 'Oooh', 'We could fly to New York', 'I could show you that place', \"Cut shapes from the winter's most delicate lace\", 'Lay down in Superman crystals of snow', \"But this is real life, don't you know\", 'We could fly to New York', 'I could show you that place', \"Cut shapes from the winter's most delicate lace\", 'Lay down in Superman crystals of snow', \"But this is real life, don't you know?\"]\n",
      "['\"Making Plans\" lyrics', 'Above & Beyond Lyrics', '\"Making Plans\"', 'Time held its breath', 'A motionless spell of rapture', 'Across the room', 'A memory had been captured', 'And through the years', 'Though distance lay between us', 'I carried your torch', 'To illuminate the darkness', 'And I still lose myself', 'In that orange glowing moment', 'When your upturned face', 'Seemed to answer all my questions', 'But when I ask myself', 'As I do from time to time now', 'Where it all went wrong', 'Is there really any point in making plans?', 'In making plans', 'So I made my vows', 'In the last slow hours of morning', 'As I lay you down', 'I heard you whisper me a warning', 'But then we lost ourselves', 'In that orange glowing moment', 'And your upturned face', 'Seemed to answer all my questions', 'When I ask myself', 'As I do from time to time now', 'Where it all went wrong', 'Is there really any point in making plans?', 'In making plans', 'And I still lose myself', 'I still lose myself', 'Making plans']\n",
      "['\"Excuses\" lyrics', 'Above & Beyond Lyrics', '\"Excuses\"', 'Your heart feels heavy now', 'The mist keeps rolling down', 'You never got that lucky break', 'They owe you, they owe you', 'Your friends have all left town', 'Your dreams are starting to drown', 'And you forgot that easy way', 'They showed you, they showed you', 'You are the one to blame', 'Living in total shame', 'Like the invisible man', \"You've got to stop as soon as you can\", 'For all these excuses hear me well', \"You're making excuses\", 'As you go to hell', 'And while it seduces', \"You're losing your chance\", 'Stop making excuses', 'Just get up and dance', 'When there are things you gotta get out', 'Open the window and shout', \"You're gonna make your own luck\", \"And show them, you'll show them\", 'And while it all feels clearer now', 'You gotta kill that sacred cow', 'You gotta find the sun', 'And start growing, and glowing', 'You are the one to blame', 'Living in total shame', 'Like the invisible man', 'You got to stop as soon as you can', 'For all these excuses hear me well', \"You're making excuses\", 'As you go to hell', 'And while it seduces', \"You're losing your chance\", 'Stop making excuses', 'Just get up and dance', 'For all these excuses hear me well', \"You're making excuses\", 'As you go to hell', 'And while it seduces', \"You're losing your chance\", 'Stop making excuses', 'Just get up and dance']\n",
      "['\"Save Me\" lyrics', 'Above & Beyond Lyrics', '\"Save Me\"', '(feat. ZoÃ« Johnston)', 'He wants to hold the children up high', 'When they come tearing through the rye', 'To save them from falling', 'To save them from falling', 'He wants to bring a little honey', 'To the saltiness of grief', 'To come up from underneath', 'You used to say that you would rescue me', 'But you yourself are lost at sea', \"Save me and I'll save you\", \"Save me and I'll save you\", 'Pave ways to get through together', \"Save me and I'll save you\", \"Save me and I'll save you\", 'Pave ways to get through together', \"Save me and I'll save you\", \"Save me and I'll save you\", 'Pave ways to get through together']\n",
      "['\"Sink The Lighthouse\" lyrics', 'Above & Beyond Lyrics', '\"Sink The Lighthouse\"', '(feat. Alex Vargas)', 'When it comes calling', \"The temperature's falling\", 'Our fear is crawling', \"Don't quit - we're all in\", \"The ship's a mile out\", \"Don't blow the lights out\", \"They'll cry their eyes out\", 'If we sink the lighthouse', 'Since fear itself is', 'Cruel and selfish', 'A contradiction', 'A fatal addiction', \"You've tried to shout out\", 'My words in your mouth', \"But they'll cry their eyes out\", 'If we sink the lighthouse', \"We're hot on the angels heels\", 'With fire and brimstone wheels', 'Their meadow is starred', 'With bones and flowers and tears', \"The ship's a mile out\", \"Don't blow the lights out\", \"They'll cry their eyes out\", 'If we sink the lighthouse', 'With darkness closing', \"We're decomposing\", \"We're made of starlight\", 'From cruel and dark night', 'The guilty crushed out', \"We're left in no doubt\", \"They'll cry their eyes out\", 'If we sink the lighthouse', \"We're hot on the angels heels\", 'With fire and brimstone wheels', 'Their meadow is starred', 'With bones and flowers and tears', \"The ship's a mile out\", \"Don't blow the lights out\", \"They'll cry their eyes out\", 'If we sink the lighthouse']\n",
      "['\"Treasure\" lyrics', 'Above & Beyond Lyrics', '\"Treasure\"', '(feat. ZoÃ« Johnston)', 'Treasure is measured in units of love', 'Which means you may find you are rich', 'Beyond your wildest dreams', 'Beyond your wildest dreams', 'Beyond your wildest dreams', 'Beyond your wildest dreams', 'Treasure is measured in units of love', 'Which means you may find you are rich', 'Beyond your wildest dreams', 'Beyond your wildest dreams', 'Beyond your wildest dreams', 'Beyond your wildest dreams']\n",
      "['\"My Own Hymn\" lyrics', 'Above & Beyond Lyrics', '\"My Own Hymn\"', '(feat. ZoÃ« Johnston)', 'In the confines of a photograph', 'Lives a child who once was me', 'Oooh, do you see?', 'I still see through those eyes', 'Why did you choose to believe bare-faced lies', 'And let the troubles of others darken your skies?', 'I wrote my own hymn', 'I sing my own hymn', 'It says, oooh', '\"Your soul is good!\"', 'I wrote my own hymn', 'I sing my own hymn', 'It says', '\"Yes, your soul is good!\"', 'In the remnants of our time', \"I wake to find you've broken me\", 'Used to be free', 'But in pain I chose to stay', 'Why did you choose to believe things unkind?', 'Oh, hallelujah!', 'Heaven is in your mind', 'I wrote my own hymn', 'I sing my own hymn', 'It says, oooh', '\"Your soul is good!\"', 'I wrote my own hymn', 'I sing my own hymn', 'It says', '\"Yes, your soul is good!\"', 'I wrote my own hymn', 'I sing my own hymn', 'It says, oooh', '\"Your soul is good!\"', 'I wrote my own hymn', 'I sing my own hymn', 'It says', '\"Yes, your soul is good!\"']\n",
      "['\"Northern Soul\" lyrics', 'Above & Beyond Lyrics', '\"Northern Soul\"', 'Midnight, moonlight', 'The wind blows off Saint Clair', \"I'm stuck at a red light, waiting\", 'At 6 Mile & Delaware', 'The sound of a distant Firebird', \"The echo of a rhyme - Smokey's words\", 'And absence, sweet absence', 'Fills the freezing air', \"I've been wayside for years now\", 'But no one seems to care', 'Their eyes on the distant horizon', 'I drove them out of here', 'I gave you the American dream', 'And the music for your movie scene', 'But you left me, bleeding', 'So listen to my prayer', 'You can break my heart and crush my dreams', 'But you can never take my soul', 'You can crack my stones and melt my steel', 'But you can never take my soul', 'You can break my heart and crush my dreams', 'But you can never take my soul', 'You can crack my stones and melt my steel', 'But you can never take my soul', 'You can never take my soul', 'You can never take my soul', 'You can never take my soul', 'Mmm, you can never take my soul', 'You can never take my soul', 'You can never take my soul', 'You can break my heart and crush my dreams', 'But you can never take my soul', 'You can crack my stones and melt my steel', 'But you can never take my soul', 'You can break my heart and crush my dreams', 'But you can never take my soul', 'You can crack my stones and melt my steel', 'But you can never take my soul']\n",
      "['\"Naked\" lyrics', 'Above & Beyond Lyrics', '\"Naked\"', '(feat. Justine Suissa)', \"I'm turning around to find\", \"I'm just a step behind\", \"Wondering where you've been my whole life\", 'A kiss and then a wave', 'How long for you say', \"Wondering where you've been my whole life\", 'And only you can know', 'Who you are', 'And only you can change', 'How you feel', 'Drop the masquerade', 'All the lies will fade', \"Let's get naked\", '(With our words, with our ways)', \"Let's get naked\", '(With our words, with our ways)', \"Let's get naked\", '(With our words, with our ways)', \"Let's get naked\", 'Sleeping we can learn', \"I'll sleep walk to the earth\", \"Wondering where I've been my whole life\", 'Love the place you are', 'Love with all your heart', \"Know that it's what will make your whole life\", 'And only you can know', 'Who you are', 'And only you can change', 'How you feel', 'Drop the masquerade', 'All the lies will fade', \"Let's get naked\", '(With our words, with our ways)', \"Let's get naked\", '(With our words, with our ways)', \"Let's get naked\", \"Let's get naked\", \"Let's get naked\", '(With our words, with our ways)', \"Let's get naked\", '(With our words, with our ways)', \"Let's get naked\", '(With our words, with our ways)', \"Let's get naked\"]\n",
      "['\"Sahara Love\" lyrics', 'Above & Beyond Lyrics', '\"Sahara Love\"', '(feat. ZoÃ« Johnston)', 'When I see your face I feel the sun inside me rise', 'And everything awakens in this sweet paradise', \"If there's anything I can do for you\", \"When your bones are cold and you're blue\", 'And I will be sending you all of my Sahara love', 'And I will be sending you all of my Sahara love', 'And I will be sending you all of my Sahara love', 'And I will be sending you all of my Sahara love', 'When I see your face I feel the edges start to fall', 'And the seas give up a treasure to the shore', \"If you need me oh, I'll be there for you\", \"When your bones are cold and you're blue\", 'I hope my love will warm you through', 'And be the city lights coming into view', \"I'll put my arms all the way around you\", 'And forever peace will surround you', 'Forever', 'Forever', 'Forever, peace will surround you', 'Cause the arms of the sun have found you', 'And I will be sending you all of my Sahara love', 'And I will be sending you all of my Sahara love', 'And I will be sending you all of my Sahara love', 'And I will be sending you all of my Sahara love']\n",
      "['\"Happiness Amplified\" lyrics', 'Above & Beyond Lyrics', '\"Happiness Amplified\"', '(feat. Richard Bedford)', 'I tried to take a picture', 'Of the sunlight in your hand', 'But the tears in my eyes', 'Make it hard to focus', 'So I just stand and stare', 'Through the tears in my eyes', 'This is the love of my life right here', 'This is the end of my night of fear', 'This is the meaning of ever and ever', 'This is happiness amplified', 'This is reality starry-eyed', 'This is the meaning of ever and ever', 'I came in search of answers', \"To questions I can't find\", 'But you answered them somehow', 'Poetry in motion', 'A melody to find', \"There's a song in my heart now\", 'This is the love of my life right here', 'This is the end of my night of fear', 'This is the meaning of ever and ever', 'This is happiness amplified', 'This is reality starry-eyed', 'This is the meaning of ever and ever', 'This is the love of my life right here', 'This is the end of my night of fear', 'This is the meaning of ever and ever', 'This is happiness amplified', 'This is reality starry-eyed', 'This is the meaning of ever and ever']\n",
      "['\"Is It Love? (1001)\" lyrics', 'Above & Beyond Lyrics', '\"Is It Love? (1001)\"', 'Is it love', 'If we can talk about it?', 'Is it love', \"If you don't feel the same?\", 'Is it love', 'If we can talk about it?', 'Is it love', \"If you don't feel the same?\", 'Is it love?', 'Is it love?', 'Is it love?', 'And I know', \"There's a thousand ways up\", 'For I know', \"There's a thousand ways up\", \"It's the same way down\", \"There's a thousand ways up\", 'For I know', \"There's a thousand ways up\", \"It's the same way down\", \"It's the same way down\", \"It's the same way down\", 'And I know', \"There's a thousand ways up\", 'For I know', \"There's a thousand ways up\", \"It's the same way down\", \"It's the same way down\"]\n",
      "['\"Cold Feet\" lyrics', 'Above & Beyond Lyrics', '\"Cold Feet\"', '(feat. Justine Suissa)', 'You came with your troubled eyes', 'Oh and the push and pull of loves desires', 'You came with your easy smile', 'Oh and your pretty words like coloured birds fly away', \"I don't want to burn for you\", \"I don't want to yearn for you\", 'I would love to get crazy in your body heat', \"But I don't want to get trampled by your cold feet\", 'When you leave you leave no clues', 'So I reinvent the things you meant', 'All of this undeclared charade', 'Keeps me so unsure always wanting more everyday', \"I don't want to burn for you\", \"I don't want to yearn for you\", 'I would love to get crazy in your body heat', '(Know that I would lose myself)', \"But I don't want to get trampled by your cold feet\", 'You stay the same with things you say', 'A long embrace, you walk away', 'And now my eyes are full of light', \"As I pretend that it's okay\", \"I don't want to burn for you\", \"I don't want to yearn for you\", 'I would love to get crazy in your body heat', '(Know that I would lose myself)', \"But I don't want to get trampled by your cold feet\", \"I don't want to burn for you\", \"(I don't want to burn for you)\", \"I don't want to yearn for you\", 'I would love to get crazy in your body heat', '(Know that I would lose myself)', \"But I don't want to get trampled by your cold feet\", 'I would love to get crazy in your body heat', '(Know that I would lose myself)', \"But I don't want to get trampled by your cold feet\", '(Know that I would lose myself)']\n",
      "['\"Tightrope\" lyrics', 'Above & Beyond Lyrics', '\"Tightrope\"', \"When you're running out of tightrope\", \"And there's empty sky below\", \"Where'd you go?\", 'Please. Does anyone know?', \"When you're running out of tightrope\", 'And the fear begins to grow', \"Where'd you go?\", 'Please. Does anyone know?', 'Does anyone know', 'Does anyone know', 'Does anyone know, please', 'Does anyone know', \"When you've laid down all your aces\", \"And there's nothing left to show\", \"Where'd you go?\", 'Please. Does anyone know?', \"When you can't shut out the voices\", \"And your head's about to blow\", \"Where'd you go?\", 'Please. Does anyone know?', 'Does anyone know', 'Does anyone know', 'Does anyone know, please', 'Does anyone know', \"When you're running out of tightrope\", \"And there's empty sky below\", \"Where'd you go?\", 'Please. Does anyone know?']\n",
      "['\"Alright Now\" lyrics', 'Above & Beyond Lyrics', '\"Alright Now\"', '(feat. Justine Suissa)', \"I've lived a little\", \"I've loved a lot\", 'I lost myself to you', 'We tied our dreams up', \"In a lover's knot\", 'But none of them came true', 'My solid ground soon', 'Turned to quicksand', 'The warm winds turned to frost', 'Where does love go', 'When it has no plan', 'When everything is lost', 'The only thing that I forgot', 'Was that we walk alone', \"I'm learning how to stand again\", 'A steady hand again', \"I'm gonna be ok\", \"I'm gonna be just fine\", \"I'm gonna be alright now\", 'Alright now', \"I'm gonna make the grade\", \"I'm gonna take my time\", \"I'm gonna be alright now\", 'Alright now', \"I'm gonna be ok\", \"I'm gonna be just fine\", \"I'm gonna be alright now\", 'Alright now', \"I'm gonna make the grade\", \"I'm gonna take my time\", \"I'm gonna be alright now\", 'Alright now', 'Alright now', 'Alright now', 'Alright now', 'Alright now', 'You said you loved me bigger', 'Than the universe the sun and all the stars', \"You said that there was nothing that we couldn't overcome\", 'And yet we fell apart', 'We fell apart']\n",
      "['\"Bittersweet & Blue\" lyrics', 'Above & Beyond Lyrics', '\"Bittersweet & Blue\"', '(feat. Richard Bedford)', \"I've got a photograph of you\", 'Kept in a box of memories', 'And when I feel breakable', 'I take it out and look into your eyes', \"Hoping you'd tell me what to do\", 'Give me some guidance', 'Always unshakeable', 'Your voice was strong, and beautiful and wise', 'Look at the cloudless day', 'You captured me smiling', 'A fantasy life, you say', 'Is our silver lining', 'This is your life', 'Dreams can come true', 'But like your memories of me', \"They'll be bittersweet and blue\", 'This is your life', 'Dreams can come true', 'But like your memories of me', \"They'll be bittersweet and blue\", 'Bittersweet and blue', 'Bittersweet and blue', 'Oh, oh', 'Bittersweet and blue', 'Maybe I left it late to say', 'You were my hero', 'Rising the falling sun', 'Whistling Elvis, striding through the snow', 'The thought of a weekend far away', 'Lasting forever', 'But when the day had come', 'The final bell concealed a body blow', \"Look at me now, you'd say\", 'Drowning in sorrow', 'I guess I got lost today', \"But there's always tomorrow\", 'This is your life', 'Dreams can come true', 'But like your memories of me', \"They'll be bittersweet and blue\", 'This is your life', 'Dreams can come true', 'But like your memories of me', \"They'll be bittersweet and blue\", 'Bittersweet and blue', 'Bittersweet and blue', 'This is your life', 'Bittersweet and blue', 'This is your life', 'Dreams can come true', 'But like your memories of me', \"They'll be bittersweet and blue\", 'This is your life', 'Dreams can come true', 'But like your memories of me', \"They'll be bittersweet and blue\", 'Bittersweet and blue', 'Bittersweet and blue', 'Ooh', 'Bittersweet and blue']\n",
      "['\"Always\" lyrics', 'Above & Beyond Lyrics', '\"Always\"', '(feat. ZoÃ« Johnston)', 'Maybe, when I am hurting', 'Maybe you will give a little time to me', 'And some day, when I really need you', 'You will take me in your arms and you will say', 'Always, sure as the rising sun', 'Always, mornings begun', 'Always, the way that all good things come', 'Always, always', 'Can you hear me when I am way down here', 'Maybe you will one day walk away from me', 'Stay close when the wind is howling', 'And never let me go', 'Always, sure as the rising sun', 'Always, mornings begun', 'Always, the way that all good things come', 'Always, always', 'Always, sure as the rising sun', 'Always, mornings begun', 'Always, all good things come', 'Always, always', \"Maybe one day you'll walk away, one day you'll walk away from me\", \"Maybe you'll be there for me, you'll be there for me, you'll be there for me\", 'Always, sure as the rising sun', 'Always, mornings begun', 'Always, the way that all good things come', 'Always, always']\n",
      "['\"Almost Home\" lyrics', 'Above & Beyond, Justine Suissa Lyrics', '\"Almost Home\"', 'I am where I am', 'Because I made it so', 'I have ways to deceive myself', 'And bind my soul', 'I was waiting to be found', 'But found that on my own', 'If I looked for the truth', 'It led me home', 'My own journey with my own mistakes', 'The way out is the way in', 'Just rearrange the things you know', 'The way out is the way in', 'The trail will guide you back again', 'The way out is the way in', \"And now I'm almost home\", 'The way out is the way in', 'Some say where you are', \"Is where you're meant to be\", 'That the lessons always find u', \"'Till you learn to see\", 'I need to build a little speed', 'I need to roll this stone', \"Travel light, know I'm free\", 'But not alone', 'My own journey with my own mistakes', \"I talked so much that I couldn't hear you\", 'My eyes were closed', 'As I looked for a way through', \"I talked so much that I couldn't hear you\", 'I wasted time with conclusions that I drew', \"I talked so much that I couldn't hear you\", 'My eyes were closed as I looked for a way through', \"I talked so much that I couldn't hear you\", 'I wasted time with conclusions that I drew', 'The way out is the way in', 'The way out is the way in', \"And now I'm almost home\", 'The way out is the way in', 'Just rearrange the things you know', 'The way out is the way in', 'The trail will guide you back again', 'The way out is the way in', \"And now I'm almost home\", 'The way out is the way in']\n",
      "['\"Alright Now (Above & Beyond Club Mix)\" lyrics', 'Above & Beyond Lyrics', '\"Alright Now (Above & Beyond Club Mix)\"', '(with Justine Suissa)', \"I've lived a little.\", \"I've loved a lot.\", 'I lost myself to you.', 'We tied our dreams up in a lovers knot', 'But none of them came true.', 'My solid ground soon turned to quicksand.', 'The warm winds turn to frost.', 'Where does love go', 'When it has no plan?', 'When everything is lost?', 'The only thing that I forgot', 'Was that we walk alone.', \"I'm learning how to stand again,\", 'A steady hand again.', \"I'm going to be O.K.\", \"I'm going to be just fine.\", \"I'm gonna be alright now (alright now).\", \"I'm going to make a break (I'm going to make a break).\", \"I'm going to take my time (I'm going to take my time).\", \"I'm going to be alright now (I'm going to be alright).\", 'Alright now.', \"I'm going to be O.K.\", \"I'm going to be just fine.\", \"I'm gonna be alright now (alright now).\", \"I'm going to make a break (I'm going to make a break).\", \"I'm going to take my time (I'm going to take my time).\", \"I'm going to be alright now (I'm going to be alright).\", 'Alright now.', \"You said you'd love me bigger than the universe the sun and all the stars.\", \"You said that there was nothing that we couldn't overcome and yet we fell apart.\", 'We fell apart.']\n",
      "['\"Another Chance\" lyrics', 'Above & Beyond Lyrics', '\"Another Chance\"', 'All I ask for is another chance', 'All I ask for', 'All I ask for is another chance', 'All I ask for', 'I know the time will come', 'When I will learn to love again', 'I know the time will come', \"When I won't hold on to the past\", 'I know the time will come', 'When I will learn to love again', 'I know the time will come', \"When I won't hold on to the past\", \"When I won't hold on to the past\", \"When I won't hold on to the past\", 'Only the brave find hope in a second chance', 'Only the brave find hope', 'I know the time will come', 'When I will learn to love again', 'I know the time will come', \"When I won't hold on to the past\", \"When I won't hold on to the past\", 'I know the time will come', 'When I will learn to love again', 'I know the time will come', \"When I won't hold on to the past\", 'I know the time will come', 'When I will learn to love again', 'I know the time will come', \"When I won't hold on to the past\"]\n",
      "['\"Chains\" lyrics', 'Above & Beyond Lyrics', '\"Chains\"', '(feat. Marty Longstaff)', \"I think I've lost my chains\", \"I think you've lost your hold on me\", 'The bridle and the reins', 'The grey clouds that rain cold on me', 'There is nothing to fear', 'Jump and the net will appear', \"I think I've lost my chains\", \"I think I've killed the light on you\", 'No doubt or fear remains', 'I see my life in spite of you', 'No, there is nothing to fear', 'Jump and the net will appear', 'Now that I feel that weight on my shoulder', \"I know that I'm stronger, a cloud, not a boulder\", 'The power I feel just fills me with wonder', \"I've found the way out now, it's over, not under\", \"I think I've lost my chains\", 'Now that I feel that weight on my shoulder', \"I know that I'm stronger, a cloud, not a boulder\", 'The power I feel just fills me with wonder', \"I've found the way out now, it's over, not under\", \"I think I've lost my chains\", 'No doubt or fear remains']\n",
      "['\"Diving Out Of Love\" lyrics', 'Above & Beyond Lyrics', '\"Diving Out Of Love\"', 'I keep diving, diving, diving out of love', 'I keep diving, diving, diving out of love', 'I keep diving, diving, diving out of love', 'Waiting for the day that never came', 'Lost inside your little world of blame', 'Tryna find a way to change the frame', \"But it's never gonna be the same again\", 'I keep diving, diving, diving out of love', 'I keep diving, diving, diving out of love', 'I keep diving, diving, diving out of love', 'I keep diving, diving, diving out of love']\n",
      "['\"Falling\" lyrics', 'Above & Beyond Lyrics', '\"Falling\"', '(feat. ZoÃ« Johnston)', \"Don't let yourself be hurt this time\", \"Don't let yourself be hurt this time\", 'Then I saw your face', 'Then I saw your smile', 'The sky is still blue', 'The clouds go and go', 'Yet something is different', 'Are we falling in love?', \"Don't let yourself be hurt this time\", \"Don't let yourself be hurt this time\", 'Then your kiss so soft', 'Then your touch so warm', 'The stars still shine bright', 'The mountains still high', 'Yet something is different', 'Are we falling in love?', 'Falling, falling', 'Falling, falling', 'In love', 'Falling, falling', 'Falling, falling', 'In love']\n",
      "['\"Flying By Candlelight\" lyrics', 'Above & Beyond Lyrics', '\"Flying By Candlelight\"', '(feat. Marty Longstaff)', \"You're my candle in a darkened house\", \"You say relax, I'll lead the way\", 'Up the staircase in this darkened house', \"Out through the window we're away\", \"You're my candle in a darkened house\", \"You say relax, I'll lead the way\", 'Up the staircase in this darkened house', \"Out through the window we're away\", \"I've waited a lifetime these night wings to fly\", 'The lights of the city below', 'Too cold in the dark was my lonely goodbye', \"But now there's a new light I know\", 'You keep burning, burning bright', '(Forever and ever and ever...)', 'You keep burning, burning bright', '(Forever and ever and ever and ever and ever...)', 'You keep burning, burning bright', 'You keep burning, burning bright', 'You keep burning, burning bright', '(Forever and ever and ever and ever and ever...)', 'You keep burning, burning bright', '(Forever and ever and ever and ever and ever and ever...)', 'You keep burning, burning bright', '(Forever and ever and ever and ever and ever...)', \"You're my candle in a darkened house\"]\n",
      "['\"Gratitude\" lyrics', 'Above & Beyond, gardenstate & Marty Longstaff Lyrics', '\"Gratitude\"', 'There are moments in the day', 'When I just lose myself in sorrow and forget', 'How the sky has been much bluer', 'And my life just so much sweeter since we met', 'You make my day, with what you say', 'A world of calm, inside your arms, I hope you know', 'The love you bring, the song you sing, I overflow', 'I hope you know, I hope you know', 'My current mood', 'Is gratitude', 'My current mood', 'Is gratitude', '...']\n",
      "['\"Gratitude\" lyrics', 'Above & Beyond, anamÄ\\x93 Lyrics', '\"Gratitude\"', '(feat. Marty Longstaff)', 'My current mood', 'Is gratitude', 'There are moments in the day', 'When I just lose myself in sorrow and forget', 'How the sky has been much bluer', 'And my life just so much sweeter since we met', 'My current mood', 'Is gratitude', 'My current mood', 'Is gratitude', 'My current mood', 'Is gratitude', 'My current mood', 'Is gratitude', 'There are moments in the day', 'When I just lose myself in sorrow and forget', 'How the sky has been much bluer', 'And my life just so much sweeter since we met']\n",
      "['\"Long Way From Home\" lyrics', 'Above & Beyond Lyrics', '\"Long Way From Home\"', '(feat. RBBTS)', 'Painfully, lonely I followed my heart', 'I am secretly, silently falling apart', \"I'm a long, long way from home\", \"I'm a long, long way from hope\", \"I'm a long from hope\"]\n",
      "['\"My Own Hymn (Alpha 9 Remix)\" lyrics', 'Above & Beyond Lyrics', '\"My Own Hymn (Alpha 9 Remix)\"', '(feat. ZoÃ« Johnston)', 'In the confines of a photograph', 'Lives a child who once was me', 'Oh, do you see?', 'I still see through those eyes', 'Why did you choose to believe bare-faced lies', 'And let the troubles of others darken your skies?', 'I wrote my own hymn', 'I sing my own hymn', 'It says, \"Uh, your soul is good\"', 'I wrote my own hymn', 'I sing my own hymn', 'It says \"Yes, your soul is good\"', '\"Your soul is good\"', 'In the remnants of our time', \"I wake to find you've broken me\", 'Used to be free', 'But in pain I chose to stay', 'Why did you choose to believe things unkind?', 'Oh, hallelujah!', 'Heaven is in your mind', 'Oh, yeah', 'I wrote my own hymn', 'I sing my own hymn', 'It says, \"Uh, your soul is good\"', 'I wrote my own hymn', 'I sing my own hymn', 'It says \"Yes, your soul is good\"', 'I wrote my own hymn', 'I sing my own hymn', 'Oh, yeah', 'I wrote my own hymn', 'I sing my own hymn', 'It says, \"Uh, your soul is good\"', 'I wrote my own hymn', 'I sing my own hymn', 'It says \"Yes, your soul is good\"']\n",
      "['\"No One On Earth\" lyrics', 'Above & Beyond Lyrics', '\"No One On Earth\"', '(feat. ZoÃ« Johnston)', 'Down through the dark trees', 'You came to save me', \"You're so ugly and you're so beautiful\", \"You're like no one on Earth could be\", 'Take me home', 'Let me be the one', \"All of my life I've been waiting\", 'For you', 'I wanna be the one that you take home', 'Let me be the one', \"Cause I'm so lonely\", 'Take me home', 'With you', 'No one on Earth knows me like you do', 'Take me home', \"In time you'll love me like one of your own\", 'So come on', 'Take me home', 'With you', 'No one on Earth knows me like you do', 'Take me home', \"In time you'll love me like one of your own\", 'So come on', 'Take, take me home', 'With you', 'No one on Earth knows me like you do', \"La la la la, I'm going home\"]\n",
      "['\"Reverie\" lyrics', 'Above & Beyond Lyrics', '\"Reverie\"', '(feat. ZoÃ« Johnston)', 'You used to bring the smell of rain into my bed', 'And lie so close to me you could be inside my head', \"Maybe it's a once in a lifetime kind of thing\", 'To feel the kind of magic that your love brings', \"Some days it's like a haunting\", 'This cool and empty space', 'Far above and all around me', 'When I start to miss your face?', 'You live in me, my reverie', \"Don't ever leave\", 'You live in me, my reverie', \"Don't ever leave me\", 'You live in me, my reverie', \"Don't ever leave\", 'You live in me, my reverie', \"Don't ever leave me\", 'You live in me, my reverie', \"Don't ever leave\", 'You live in me, my reverie', \"Don't ever leave me\", 'Oh no']\n",
      "['\"See The End\" lyrics', 'Above & Beyond, Seven Lions & Opposite The Other Lyrics', '\"See The End\"', \"I'm ready now\", 'To figure out', 'The reason', 'The more that I lose myself, the more that I find you', 'I never seem', 'To remedy', 'The feeling', \"When I wanna hide away, you've already found me\", 'In the night', 'A mighty low', \"You're all I have\", \"You're all I know\", \"I'll shut my eyes\", 'And hold you close', \"You're all I've needed\", 'I never wanna see the end', \"I'm caught in a dream again\", 'In the night', 'A mighty low', \"You're all I have\", \"You're all I know\", \"I'll shut my eyes\", 'And hold you close', \"You're all I've needed\", 'I never wanna see the end', \"I'm caught in a dream again\", 'In the night', 'A mighty low', \"You're all I have\", \"You're all I know\", \"I'll shut my eyes\", 'And hold you close', \"You're all I've needed\", 'I never wanna see the end', \"I'm caught in a dream again\", 'In the night', 'A mighty low', \"You're all I have\", \"You're all I know\", \"I'll shut my eyes\", 'And hold you close', \"You're all I've needed\", 'I never wanna see the end']\n",
      "['\"Sticky Fingers (Acoustic Version)\" lyrics', 'Above & Beyond Lyrics', '\"Sticky Fingers (Acoustic Version)\"', 'We painted the picture you want', 'I wanted it too', \"But now there's something that I\", 'Would like you to do', 'Get your sticky fingers out of my head', 'Get your sticky fingers out of my head', \"I'm sure I imagine the time\", 'When I have to go', 'But your small kept disguise', 'How deep it could go', 'Get your sticky fingers out of my head', 'Get your sticky fingers out of my head', \"It's not that I'm ungrateful for\", 'The chance to dream and then explore', 'But your elegant dinosaur limbs', 'Are still willfully bruising my skin', 'In such a moment of calm', \"As rare as it's true\", 'I must admit to myself', \"What I'm unable to do\", 'Get your sticky fingers out of my head', '(Get your sticky fingers out of my head)', 'Get your sticky fingers out of my head', '(Get your sticky fingers out of my head)', 'Get your sticky fingers out of my head', '(Get your sticky fingers out of my head)', 'Get your sticky fingers out of my head', '(Get your sticky fingers out of my head)', 'Get your sticky fingers out of my head', '(Get your sticky fingers out of my head)', 'Get your sticky fingers out of my head', '(Get your sticky fingers out of my head)']\n",
      "0:27:20.098998\n"
     ]
    }
   ],
   "source": [
    "url_stub = \"https://www.azlyrics.com\" \n",
    "start_time = datetime.datetime.now()\n",
    "\n",
    "def generate_filename_from_link(link) :\n",
    "    \n",
    "    if not link :\n",
    "        return None\n",
    "    \n",
    "    # drop the http or https and the html\n",
    "\n",
    "    name = link.replace(\"www.azlyrics.com\",\"\")\n",
    "    name = name.replace(\"https\",\"\")\n",
    "    name = name.replace(\"http\",\"\")\n",
    "    name = name.replace(\".html\",\"\")\n",
    "    name = name.replace(\"/lyrics/\",\"\")\n",
    "    \n",
    "    # Replace useless chareacters with UNDERSCORE\n",
    "    name = name.replace(\"://\",\"\").replace(\".\",\"_\").replace(\"/\",\"_\")\n",
    "    \n",
    "    # tack on .txt\n",
    "    name = name + \".txt\"\n",
    "    \n",
    "    return(name)\n",
    "\n",
    "total_pages = 0 \n",
    "\n",
    "for artist, links in lyrics_pages.items():\n",
    "    if artist == 'dido':\n",
    "        save_path = 'C:/Users/drzag/lyrics/dido/'\n",
    "    if artist == 'abovebeyond':\n",
    "        save_path = 'C:/Users/drzag/lyrics/abovebeyond/'\n",
    "    if(isinstance(links, list)):\n",
    "        for link in links:\n",
    "            \n",
    "            lyric_list = []\n",
    "            r = requests.get(link)\n",
    "            time.sleep(5 + 10*random.random())\n",
    "            soup = BeautifulSoup(r.text, 'lxml')\n",
    "            \n",
    "            \n",
    "            lyrics = []\n",
    "            flag = False\n",
    "            for string in soup.body.stripped_strings:\n",
    "                if string == 'Submit Corrections':\n",
    "                    break\n",
    "                if flag==True:\n",
    "                    lyrics.append(string)\n",
    "                if string == 'Search':\n",
    "                    flag=True\n",
    "  \n",
    "            print(lyrics)\n",
    "    \n",
    "            output_file = generate_filename_from_link(link)\n",
    "            \n",
    "            complete_name = os.path.join(save_path, output_file)\n",
    "            with open(complete_name, 'w', encoding = \"utf-8\") as f:\n",
    "                for line in lyrics:\n",
    "                    f.write(line+'\\n')\n",
    "            f.close()\n",
    "    \n",
    "\n",
    " \n",
    "end_time = datetime.datetime.now()\n",
    "\n",
    "print(end_time - start_time)\n",
    "\n",
    "            #request the lyrics pages\n",
    "            #Sleep\n",
    "            #Extract the title and lyrics from the page\n",
    "            #Write out the title, two returns ('\\n'), and the lyrics. Use `generate_filename_from_url`\n",
    "            \n",
    "#for artist in lyrics_pages :\n",
    "\n",
    "    # Use this space to carry out the following steps: \n",
    "    \n",
    "    # 1. Build a subfolder for the artist\n",
    "    # 2. Iterate over the lyrics pages\n",
    "    # 3. Request the lyrics page. \n",
    "        # Don't forget to add a line like `time.sleep(5 + 10*random.random())`\n",
    "        # to sleep after making the request\n",
    "    # 4. Extract the title and lyrics from the page.\n",
    "    # 5. Write out the title, two returns ('\\n'), and the lyrics. Use `generate_filename_from_url`\n",
    "    #    to generate the filename. \n",
    "    \n",
    "    # Remember to pull at least 20 songs per artist. It may be fun to pull all the songs for the artist\n",
    "    "
   ]
  },
  {
   "cell_type": "code",
   "execution_count": 161,
   "id": "36c394f1",
   "metadata": {
    "id": "36c394f1"
   },
   "outputs": [
    {
     "name": "stdout",
     "output_type": "stream",
     "text": [
      "Total run time was 0:27:20.098998\n"
     ]
    }
   ],
   "source": [
    "print(f\"Total run time was\", (end_time - start_time))"
   ]
  },
  {
   "cell_type": "markdown",
   "id": "054cf14b",
   "metadata": {
    "id": "054cf14b"
   },
   "source": [
    "---\n",
    "\n",
    "# Evaluation\n",
    "\n",
    "This assignment asks you to pull data from the Twitter API and scrape www.AZLyrics.com.  After you have finished the above sections , run all the cells in this notebook. Print this to PDF and submit it, per the instructions."
   ]
  },
  {
   "cell_type": "code",
   "execution_count": 163,
   "id": "217c2b0a",
   "metadata": {
    "id": "217c2b0a"
   },
   "outputs": [],
   "source": [
    "# Simple word extractor from Peter Norvig: https://norvig.com/spell-correct.html\n",
    "def words(text): \n",
    "    return re.findall(r'\\w+', text.lower())"
   ]
  },
  {
   "cell_type": "markdown",
   "id": "9290b4c3",
   "metadata": {
    "id": "9290b4c3"
   },
   "source": [
    "---\n",
    "\n",
    "## Checking Twitter Data\n",
    "\n",
    "The output from your Twitter API pull should be two files per artist, stored in files with formats like `cher_followers.txt` (a list of all follower IDs you pulled) and `cher_followers_data.txt`. These files should be in a folder named `twitter` within the repository directory. This code summarizes the information at a high level to help the instructor evaluate your work. "
   ]
  },
  {
   "cell_type": "code",
   "execution_count": 165,
   "id": "d2174c46",
   "metadata": {
    "id": "d2174c46"
   },
   "outputs": [
    {
     "name": "stdout",
     "output_type": "stream",
     "text": [
      "We see two artist handles: aboveandbeyond and didoofficial.\n"
     ]
    }
   ],
   "source": [
    "twitter_files = os.listdir(\"twitter\")\n",
    "twitter_files = [f for f in twitter_files if f != \".DS_Store\"]\n",
    "artist_handles = list(set([name.split(\"_\")[0] for name in twitter_files]))\n",
    "\n",
    "print(f\"We see two artist handles: {artist_handles[0]} and {artist_handles[1]}.\")"
   ]
  },
  {
   "cell_type": "code",
   "execution_count": 180,
   "id": "7ad545be",
   "metadata": {
    "id": "7ad545be"
   },
   "outputs": [
    {
     "name": "stdout",
     "output_type": "stream",
     "text": [
      "We see 100912 in your follower file for aboveandbeyond, assuming a header row.\n",
      "In the follower data file (aboveandbeyond_followers_data.txt) for aboveandbeyond, we have these columns:\n",
      "DjSpace.booty : djspace_booty : 1568710404314124288 : Los Angeles, CA : 2022-09-10 21:18:25+00:00 : 3 : 35 : LA DJ with a passion for house music & a nice ass!\n",
      "\n",
      "We have 100912 data rows for aboveandbeyond in the follower data file.\n",
      "For aboveandbeyond we have 20389 unique locations.\n",
      "For aboveandbeyond we have 100867 words in the descriptions.\n",
      "Here are the five most common words:\n",
      "[('74', 300), ('61', 294), ('48', 293), ('44', 291), ('55', 284)]\n",
      "\n",
      "----------------------------------------\n",
      "\n",
      "We see 100928 in your follower file for didoofficial, assuming a header row.\n",
      "In the follower data file (aboveandbeyond_followers_data.txt) for didoofficial, we have these columns:\n",
      "RenElDepre : ElRenirey : 1368982010920898561 : Santiago, Chile : 2021-03-08 17:48:50+00:00 : 10 : 195 : Lo que me Apasiona 😇 Lo que me Divierte😎 Lo que me Enamora🥰 Lo que me Enloquece 🤑\n",
      "\n",
      "We have 100928 data rows for didoofficial in the follower data file.\n",
      "For didoofficial we have 28773 unique locations.\n",
      "For didoofficial we have 100865 words in the descriptions.\n",
      "Here are the five most common words:\n",
      "[('10', 553), ('9', 488), ('11', 468), ('12', 439), ('13', 437)]\n",
      "\n",
      "----------------------------------------\n",
      "\n"
     ]
    }
   ],
   "source": [
    "for artist in artist_handles :\n",
    "    follower_file = artist + \"_followers.txt\"\n",
    "    #follower_data_file = artist + \"_followers_data.txt\"\n",
    "    \n",
    "    ids = open(\"twitter/\" + follower_file,'r', encoding = 'utf-8').readlines()\n",
    "    \n",
    "    print(f\"We see {len(ids)-1} in your follower file for {artist}, assuming a header row.\")\n",
    "    \n",
    "    #with open(\"twitter/\" + follower_data_file,'r') as infile :\n",
    "    with open(\"twitter/\" + follower_file,'r', encoding = 'utf-8') as infile :\n",
    "        \n",
    "        # check the headers\n",
    "        headers = infile.readline().split(\"\\t\")\n",
    "        \n",
    "        print(f\"In the follower data file ({follower_data_file}) for {artist}, we have these columns:\")\n",
    "        print(\" : \".join(headers))\n",
    "        \n",
    "        description_words = []\n",
    "        locations = set()\n",
    "        \n",
    "        \n",
    "        for idx, line in enumerate(infile.readlines()) :\n",
    "            line = line.strip(\"\\n\").split(\"\\t\")\n",
    "            \n",
    "            try : \n",
    "                locations.add(line[3])            \n",
    "                description_words.extend(words(line[6]))\n",
    "            except :\n",
    "                pass\n",
    "    \n",
    "        \n",
    "\n",
    "        print(f\"We have {idx+1} data rows for {artist} in the follower data file.\")\n",
    "\n",
    "        print(f\"For {artist} we have {len(locations)} unique locations.\")\n",
    "\n",
    "        print(f\"For {artist} we have {len(description_words)} words in the descriptions.\")\n",
    "        print(\"Here are the five most common words:\")\n",
    "        print(Counter(description_words).most_common(5))\n",
    "\n",
    "        \n",
    "        print(\"\")\n",
    "        print(\"-\"*40)\n",
    "        print(\"\")\n",
    "    "
   ]
  },
  {
   "cell_type": "markdown",
   "id": "37778a1c",
   "metadata": {
    "id": "37778a1c"
   },
   "source": [
    "## Checking Lyrics \n",
    "\n",
    "The output from your lyrics scrape should be stored in files located in this path from the directory:\n",
    "`/lyrics/[Artist Name]/[filename from URL]`. This code summarizes the information at a high level to help the instructor evaluate your work. "
   ]
  },
  {
   "cell_type": "code",
   "execution_count": 171,
   "id": "bccac29c",
   "metadata": {
    "id": "bccac29c"
   },
   "outputs": [
    {
     "name": "stdout",
     "output_type": "stream",
     "text": [
      "For abovebeyond we have 70 files.\n",
      "For abovebeyond we have roughly 13104 words, 1182 are unique.\n",
      "For dido we have 83 files.\n",
      "For dido we have roughly 19955 words, 1537 are unique.\n"
     ]
    }
   ],
   "source": [
    "artist_folders = os.listdir(\"lyrics/\")\n",
    "artist_folders = [f for f in artist_folders if os.path.isdir(\"lyrics/\" + f)]\n",
    "\n",
    "for artist in artist_folders : \n",
    "    artist_files = os.listdir(\"lyrics/\" + artist)\n",
    "    artist_files = [f for f in artist_files if 'txt' in f or 'csv' in f or 'tsv' in f]\n",
    "\n",
    "    print(f\"For {artist} we have {len(artist_files)} files.\")\n",
    "\n",
    "    artist_words = []\n",
    "\n",
    "    for f_name in artist_files : \n",
    "        with open(\"lyrics/\" + artist + \"/\" + f_name, encoding = 'utf-8') as infile : #added encoding parameter to read\n",
    "            artist_words.extend(words(infile.read()))\n",
    "\n",
    "            \n",
    "    print(f\"For {artist} we have roughly {len(artist_words)} words, {len(set(artist_words))} are unique.\")\n"
   ]
  }
 ],
 "metadata": {
  "colab": {
   "collapsed_sections": [],
   "provenance": []
  },
  "kernelspec": {
   "display_name": "Python 3 (ipykernel)",
   "language": "python",
   "name": "python3"
  },
  "language_info": {
   "codemirror_mode": {
    "name": "ipython",
    "version": 3
   },
   "file_extension": ".py",
   "mimetype": "text/x-python",
   "name": "python",
   "nbconvert_exporter": "python",
   "pygments_lexer": "ipython3",
   "version": "3.9.12"
  }
 },
 "nbformat": 4,
 "nbformat_minor": 5
}
